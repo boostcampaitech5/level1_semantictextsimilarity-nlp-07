{
 "cells": [
  {
   "cell_type": "markdown",
   "id": "01c69386-d07f-4af9-a177-c5f55576ff42",
   "metadata": {},
   "source": [
    "# 텍스트 전처리\n",
    "## 0. Initialization"
   ]
  },
  {
   "cell_type": "code",
   "execution_count": 1,
   "id": "31799ac6-9257-46f4-aa8d-5e2c66dd3174",
   "metadata": {
    "tags": []
   },
   "outputs": [],
   "source": [
    "import os\n",
    "import pandas as pd\n",
    "import numpy as np\n",
    "import matplotlib.pyplot as plt\n",
    "import seaborn as sns"
   ]
  },
  {
   "cell_type": "code",
   "execution_count": 2,
   "id": "ec4803a7-bd51-409e-a0d5-82bab7858828",
   "metadata": {
    "tags": []
   },
   "outputs": [],
   "source": [
    "train_path = './data/train.csv'\n",
    "dev_path = './data/dev.csv'\n",
    "test_path = './data/test.csv'"
   ]
  },
  {
   "cell_type": "markdown",
   "id": "61994a6c-16d2-4a1f-a75f-fe9ee7885d7c",
   "metadata": {},
   "source": [
    "## 1. 데이터 개요"
   ]
  },
  {
   "cell_type": "markdown",
   "id": "1ee14976-656d-45d4-b9fc-a4b24055b7a2",
   "metadata": {},
   "source": [
    "- `train.csv` : 9424 개\n",
    "- `dev.csv` : 550 개\n",
    "- `test.csv` : 1100개 -> label이 없음에 유의.\n",
    "\n",
    "id, source는 학습에 쓰이지는 않는다. \n",
    "binary label은 어디에 쓰지..?"
   ]
  },
  {
   "cell_type": "code",
   "execution_count": 120,
   "id": "9663b1c8-d08d-42fc-8e39-b7ed266b4589",
   "metadata": {
    "tags": []
   },
   "outputs": [],
   "source": [
    "train_df = pd.read_csv(train_path)\n",
    "dev_df = pd.read_csv(dev_path)\n",
    "test_df = pd.read_csv(test_path)"
   ]
  },
  {
   "cell_type": "code",
   "execution_count": 121,
   "id": "a79d81a7-8896-40fc-bcc5-43d7c926ae28",
   "metadata": {
    "tags": []
   },
   "outputs": [
    {
     "data": {
      "text/html": [
       "<div>\n",
       "<style scoped>\n",
       "    .dataframe tbody tr th:only-of-type {\n",
       "        vertical-align: middle;\n",
       "    }\n",
       "\n",
       "    .dataframe tbody tr th {\n",
       "        vertical-align: top;\n",
       "    }\n",
       "\n",
       "    .dataframe thead th {\n",
       "        text-align: right;\n",
       "    }\n",
       "</style>\n",
       "<table border=\"1\" class=\"dataframe\">\n",
       "  <thead>\n",
       "    <tr style=\"text-align: right;\">\n",
       "      <th></th>\n",
       "      <th>id</th>\n",
       "      <th>source</th>\n",
       "      <th>sentence_1</th>\n",
       "      <th>sentence_2</th>\n",
       "      <th>label</th>\n",
       "      <th>binary-label</th>\n",
       "    </tr>\n",
       "  </thead>\n",
       "  <tbody>\n",
       "    <tr>\n",
       "      <th>1186</th>\n",
       "      <td>boostcamp-sts-v1-train-1186</td>\n",
       "      <td>slack-sampled</td>\n",
       "      <td>ㅋㅋ앜ㅋㅋㅋ참새 세상에나....</td>\n",
       "      <td>ㅋㅋ 꺄 이렇게 훅 들어오시다니....</td>\n",
       "      <td>0.0</td>\n",
       "      <td>0.0</td>\n",
       "    </tr>\n",
       "    <tr>\n",
       "      <th>5988</th>\n",
       "      <td>boostcamp-sts-v1-train-5988</td>\n",
       "      <td>slack-sampled</td>\n",
       "      <td>그리고 저분 꼭 우리 회사로 모실 수 있으면 좋겠다는 생각이 많이 드네요.</td>\n",
       "      <td>팀원들의 ‘작은 아이디어’가 모일 수 있는 저장소가 생겨도 좋겠다는 생각이 들더라구요!!</td>\n",
       "      <td>0.6</td>\n",
       "      <td>0.0</td>\n",
       "    </tr>\n",
       "    <tr>\n",
       "      <th>7735</th>\n",
       "      <td>boostcamp-sts-v1-train-7735</td>\n",
       "      <td>slack-sampled</td>\n",
       "      <td>추천기술/비즈니스에 관심이 많으신 분은 꼭 참석해주셔서 의견 나누면 좋겠습니다.</td>\n",
       "      <td>오 두분 비건라이프에 관심이 많으신가요!</td>\n",
       "      <td>0.4</td>\n",
       "      <td>0.0</td>\n",
       "    </tr>\n",
       "    <tr>\n",
       "      <th>8047</th>\n",
       "      <td>boostcamp-sts-v1-train-8047</td>\n",
       "      <td>slack-sampled</td>\n",
       "      <td>시험 잘 보셨길~!!</td>\n",
       "      <td>오.. 다들 너무 잘 나오셨네요. ~! !</td>\n",
       "      <td>0.0</td>\n",
       "      <td>0.0</td>\n",
       "    </tr>\n",
       "    <tr>\n",
       "      <th>8639</th>\n",
       "      <td>boostcamp-sts-v1-train-8639</td>\n",
       "      <td>petition-sampled</td>\n",
       "      <td>광화문 대통령님께 청원합니다.</td>\n",
       "      <td>대통령님의 공개 대토론회를 청원합니다.</td>\n",
       "      <td>0.8</td>\n",
       "      <td>0.0</td>\n",
       "    </tr>\n",
       "    <tr>\n",
       "      <th>6630</th>\n",
       "      <td>boostcamp-sts-v1-train-6630</td>\n",
       "      <td>nsmc-sampled</td>\n",
       "      <td>물체가 움직이거나 어떤 일이 진행되는 빠르기</td>\n",
       "      <td>물체가 움직이거나 어떤 일이 진행되는 빠르기.</td>\n",
       "      <td>5.0</td>\n",
       "      <td>1.0</td>\n",
       "    </tr>\n",
       "    <tr>\n",
       "      <th>5800</th>\n",
       "      <td>boostcamp-sts-v1-train-5800</td>\n",
       "      <td>nsmc-sampled</td>\n",
       "      <td>평점낯추기성공함ㅅㄱ</td>\n",
       "      <td>평점낯추기성공함ㅅㄳㄱ</td>\n",
       "      <td>4.6</td>\n",
       "      <td>1.0</td>\n",
       "    </tr>\n",
       "    <tr>\n",
       "      <th>7496</th>\n",
       "      <td>boostcamp-sts-v1-train-7496</td>\n",
       "      <td>nsmc-sampled</td>\n",
       "      <td>그리고 저 아래 평점댓글에 비행기 무서워서 배타고 제주도 가야겠다는분은 일뒤에 생각...</td>\n",
       "      <td>평점 높아서 봣는데 실망...</td>\n",
       "      <td>0.8</td>\n",
       "      <td>0.0</td>\n",
       "    </tr>\n",
       "    <tr>\n",
       "      <th>1897</th>\n",
       "      <td>boostcamp-sts-v1-train-1897</td>\n",
       "      <td>slack-sampled</td>\n",
       "      <td>패션에는 전혀 일가견이 없습니다….</td>\n",
       "      <td>ㅜㅜㅜ 너무 귀여워요….진짜…</td>\n",
       "      <td>0.0</td>\n",
       "      <td>0.0</td>\n",
       "    </tr>\n",
       "    <tr>\n",
       "      <th>401</th>\n",
       "      <td>boostcamp-sts-v1-train-401</td>\n",
       "      <td>slack-sampled</td>\n",
       "      <td>아참 거실에 기대 했던 먹잇감은 없었고 그냥 같이 있고 싶었나 봅니다</td>\n",
       "      <td>궁금해서 자리에서 일어나니 거실로 오라고 하길래 따라 나왔고 거실에 같이 누웠습니다.</td>\n",
       "      <td>0.4</td>\n",
       "      <td>0.0</td>\n",
       "    </tr>\n",
       "  </tbody>\n",
       "</table>\n",
       "</div>"
      ],
      "text/plain": [
       "                               id            source  \\\n",
       "1186  boostcamp-sts-v1-train-1186     slack-sampled   \n",
       "5988  boostcamp-sts-v1-train-5988     slack-sampled   \n",
       "7735  boostcamp-sts-v1-train-7735     slack-sampled   \n",
       "8047  boostcamp-sts-v1-train-8047     slack-sampled   \n",
       "8639  boostcamp-sts-v1-train-8639  petition-sampled   \n",
       "6630  boostcamp-sts-v1-train-6630      nsmc-sampled   \n",
       "5800  boostcamp-sts-v1-train-5800      nsmc-sampled   \n",
       "7496  boostcamp-sts-v1-train-7496      nsmc-sampled   \n",
       "1897  boostcamp-sts-v1-train-1897     slack-sampled   \n",
       "401    boostcamp-sts-v1-train-401     slack-sampled   \n",
       "\n",
       "                                             sentence_1  \\\n",
       "1186                                  ㅋㅋ앜ㅋㅋㅋ참새 세상에나....   \n",
       "5988          그리고 저분 꼭 우리 회사로 모실 수 있으면 좋겠다는 생각이 많이 드네요.   \n",
       "7735       추천기술/비즈니스에 관심이 많으신 분은 꼭 참석해주셔서 의견 나누면 좋겠습니다.   \n",
       "8047                                        시험 잘 보셨길~!!   \n",
       "8639                                   광화문 대통령님께 청원합니다.   \n",
       "6630                           물체가 움직이거나 어떤 일이 진행되는 빠르기   \n",
       "5800                                         평점낯추기성공함ㅅㄱ   \n",
       "7496  그리고 저 아래 평점댓글에 비행기 무서워서 배타고 제주도 가야겠다는분은 일뒤에 생각...   \n",
       "1897                                패션에는 전혀 일가견이 없습니다….   \n",
       "401              아참 거실에 기대 했던 먹잇감은 없었고 그냥 같이 있고 싶었나 봅니다   \n",
       "\n",
       "                                             sentence_2  label  binary-label  \n",
       "1186                              ㅋㅋ 꺄 이렇게 훅 들어오시다니....    0.0           0.0  \n",
       "5988  팀원들의 ‘작은 아이디어’가 모일 수 있는 저장소가 생겨도 좋겠다는 생각이 들더라구요!!    0.6           0.0  \n",
       "7735                             오 두분 비건라이프에 관심이 많으신가요!    0.4           0.0  \n",
       "8047                            오.. 다들 너무 잘 나오셨네요. ~! !    0.0           0.0  \n",
       "8639                              대통령님의 공개 대토론회를 청원합니다.    0.8           0.0  \n",
       "6630                          물체가 움직이거나 어떤 일이 진행되는 빠르기.    5.0           1.0  \n",
       "5800                                        평점낯추기성공함ㅅㄳㄱ    4.6           1.0  \n",
       "7496                                   평점 높아서 봣는데 실망...    0.8           0.0  \n",
       "1897                                   ㅜㅜㅜ 너무 귀여워요….진짜…    0.0           0.0  \n",
       "401     궁금해서 자리에서 일어나니 거실로 오라고 하길래 따라 나왔고 거실에 같이 누웠습니다.    0.4           0.0  "
      ]
     },
     "execution_count": 121,
     "metadata": {},
     "output_type": "execute_result"
    }
   ],
   "source": [
    "train_df.sample(10)"
   ]
  },
  {
   "cell_type": "code",
   "execution_count": 122,
   "id": "123942c1-7b63-40f9-adb3-a5eaab752cbe",
   "metadata": {
    "tags": []
   },
   "outputs": [
    {
     "data": {
      "text/html": [
       "<div>\n",
       "<style scoped>\n",
       "    .dataframe tbody tr th:only-of-type {\n",
       "        vertical-align: middle;\n",
       "    }\n",
       "\n",
       "    .dataframe tbody tr th {\n",
       "        vertical-align: top;\n",
       "    }\n",
       "\n",
       "    .dataframe thead th {\n",
       "        text-align: right;\n",
       "    }\n",
       "</style>\n",
       "<table border=\"1\" class=\"dataframe\">\n",
       "  <thead>\n",
       "    <tr style=\"text-align: right;\">\n",
       "      <th></th>\n",
       "      <th>id</th>\n",
       "      <th>source</th>\n",
       "      <th>sentence_1</th>\n",
       "      <th>sentence_2</th>\n",
       "      <th>label</th>\n",
       "      <th>binary-label</th>\n",
       "    </tr>\n",
       "  </thead>\n",
       "  <tbody>\n",
       "    <tr>\n",
       "      <th>count</th>\n",
       "      <td>9324</td>\n",
       "      <td>9324</td>\n",
       "      <td>9324</td>\n",
       "      <td>9324</td>\n",
       "      <td>9324.000000</td>\n",
       "      <td>9324.000000</td>\n",
       "    </tr>\n",
       "    <tr>\n",
       "      <th>unique</th>\n",
       "      <td>9324</td>\n",
       "      <td>6</td>\n",
       "      <td>9324</td>\n",
       "      <td>9321</td>\n",
       "      <td>NaN</td>\n",
       "      <td>NaN</td>\n",
       "    </tr>\n",
       "    <tr>\n",
       "      <th>top</th>\n",
       "      <td>boostcamp-sts-v1-train-000</td>\n",
       "      <td>petition-sampled</td>\n",
       "      <td>스릴도있고 반전도 있고 여느 한국영화 쓰레기들하고는 차원이 다르네요~</td>\n",
       "      <td>다음에 만나요!</td>\n",
       "      <td>NaN</td>\n",
       "      <td>NaN</td>\n",
       "    </tr>\n",
       "    <tr>\n",
       "      <th>freq</th>\n",
       "      <td>1</td>\n",
       "      <td>2352</td>\n",
       "      <td>1</td>\n",
       "      <td>2</td>\n",
       "      <td>NaN</td>\n",
       "      <td>NaN</td>\n",
       "    </tr>\n",
       "    <tr>\n",
       "      <th>mean</th>\n",
       "      <td>NaN</td>\n",
       "      <td>NaN</td>\n",
       "      <td>NaN</td>\n",
       "      <td>NaN</td>\n",
       "      <td>1.849968</td>\n",
       "      <td>0.389532</td>\n",
       "    </tr>\n",
       "    <tr>\n",
       "      <th>std</th>\n",
       "      <td>NaN</td>\n",
       "      <td>NaN</td>\n",
       "      <td>NaN</td>\n",
       "      <td>NaN</td>\n",
       "      <td>1.602212</td>\n",
       "      <td>0.487670</td>\n",
       "    </tr>\n",
       "    <tr>\n",
       "      <th>min</th>\n",
       "      <td>NaN</td>\n",
       "      <td>NaN</td>\n",
       "      <td>NaN</td>\n",
       "      <td>NaN</td>\n",
       "      <td>0.000000</td>\n",
       "      <td>0.000000</td>\n",
       "    </tr>\n",
       "    <tr>\n",
       "      <th>25%</th>\n",
       "      <td>NaN</td>\n",
       "      <td>NaN</td>\n",
       "      <td>NaN</td>\n",
       "      <td>NaN</td>\n",
       "      <td>0.200000</td>\n",
       "      <td>0.000000</td>\n",
       "    </tr>\n",
       "    <tr>\n",
       "      <th>50%</th>\n",
       "      <td>NaN</td>\n",
       "      <td>NaN</td>\n",
       "      <td>NaN</td>\n",
       "      <td>NaN</td>\n",
       "      <td>1.600000</td>\n",
       "      <td>0.000000</td>\n",
       "    </tr>\n",
       "    <tr>\n",
       "      <th>75%</th>\n",
       "      <td>NaN</td>\n",
       "      <td>NaN</td>\n",
       "      <td>NaN</td>\n",
       "      <td>NaN</td>\n",
       "      <td>3.400000</td>\n",
       "      <td>1.000000</td>\n",
       "    </tr>\n",
       "    <tr>\n",
       "      <th>max</th>\n",
       "      <td>NaN</td>\n",
       "      <td>NaN</td>\n",
       "      <td>NaN</td>\n",
       "      <td>NaN</td>\n",
       "      <td>5.000000</td>\n",
       "      <td>1.000000</td>\n",
       "    </tr>\n",
       "  </tbody>\n",
       "</table>\n",
       "</div>"
      ],
      "text/plain": [
       "                                id            source  \\\n",
       "count                         9324              9324   \n",
       "unique                        9324                 6   \n",
       "top     boostcamp-sts-v1-train-000  petition-sampled   \n",
       "freq                             1              2352   \n",
       "mean                           NaN               NaN   \n",
       "std                            NaN               NaN   \n",
       "min                            NaN               NaN   \n",
       "25%                            NaN               NaN   \n",
       "50%                            NaN               NaN   \n",
       "75%                            NaN               NaN   \n",
       "max                            NaN               NaN   \n",
       "\n",
       "                                    sentence_1 sentence_2        label  \\\n",
       "count                                     9324       9324  9324.000000   \n",
       "unique                                    9324       9321          NaN   \n",
       "top     스릴도있고 반전도 있고 여느 한국영화 쓰레기들하고는 차원이 다르네요~   다음에 만나요!          NaN   \n",
       "freq                                         1          2          NaN   \n",
       "mean                                       NaN        NaN     1.849968   \n",
       "std                                        NaN        NaN     1.602212   \n",
       "min                                        NaN        NaN     0.000000   \n",
       "25%                                        NaN        NaN     0.200000   \n",
       "50%                                        NaN        NaN     1.600000   \n",
       "75%                                        NaN        NaN     3.400000   \n",
       "max                                        NaN        NaN     5.000000   \n",
       "\n",
       "        binary-label  \n",
       "count    9324.000000  \n",
       "unique           NaN  \n",
       "top              NaN  \n",
       "freq             NaN  \n",
       "mean        0.389532  \n",
       "std         0.487670  \n",
       "min         0.000000  \n",
       "25%         0.000000  \n",
       "50%         0.000000  \n",
       "75%         1.000000  \n",
       "max         1.000000  "
      ]
     },
     "execution_count": 122,
     "metadata": {},
     "output_type": "execute_result"
    }
   ],
   "source": [
    "train_df.describe(include='all')"
   ]
  },
  {
   "cell_type": "code",
   "execution_count": 123,
   "id": "92b83185-b40d-4a82-9f4f-a439253b1907",
   "metadata": {
    "tags": []
   },
   "outputs": [
    {
     "data": {
      "text/html": [
       "<div>\n",
       "<style scoped>\n",
       "    .dataframe tbody tr th:only-of-type {\n",
       "        vertical-align: middle;\n",
       "    }\n",
       "\n",
       "    .dataframe tbody tr th {\n",
       "        vertical-align: top;\n",
       "    }\n",
       "\n",
       "    .dataframe thead th {\n",
       "        text-align: right;\n",
       "    }\n",
       "</style>\n",
       "<table border=\"1\" class=\"dataframe\">\n",
       "  <thead>\n",
       "    <tr style=\"text-align: right;\">\n",
       "      <th></th>\n",
       "      <th>id</th>\n",
       "      <th>source</th>\n",
       "      <th>sentence_1</th>\n",
       "      <th>sentence_2</th>\n",
       "      <th>label</th>\n",
       "      <th>binary-label</th>\n",
       "    </tr>\n",
       "  </thead>\n",
       "  <tbody>\n",
       "    <tr>\n",
       "      <th>count</th>\n",
       "      <td>550</td>\n",
       "      <td>550</td>\n",
       "      <td>550</td>\n",
       "      <td>550</td>\n",
       "      <td>550.000000</td>\n",
       "      <td>550.000000</td>\n",
       "    </tr>\n",
       "    <tr>\n",
       "      <th>unique</th>\n",
       "      <td>550</td>\n",
       "      <td>6</td>\n",
       "      <td>550</td>\n",
       "      <td>550</td>\n",
       "      <td>NaN</td>\n",
       "      <td>NaN</td>\n",
       "    </tr>\n",
       "    <tr>\n",
       "      <th>top</th>\n",
       "      <td>boostcamp-sts-v1-dev-000</td>\n",
       "      <td>nsmc-sampled</td>\n",
       "      <td>액션은개뿔 총몇번쏘고 끝입니다</td>\n",
       "      <td>액션은 흉내만 내고 그마저도 후반부에는 슬로우모션 처리</td>\n",
       "      <td>NaN</td>\n",
       "      <td>NaN</td>\n",
       "    </tr>\n",
       "    <tr>\n",
       "      <th>freq</th>\n",
       "      <td>1</td>\n",
       "      <td>127</td>\n",
       "      <td>1</td>\n",
       "      <td>1</td>\n",
       "      <td>NaN</td>\n",
       "      <td>NaN</td>\n",
       "    </tr>\n",
       "    <tr>\n",
       "      <th>mean</th>\n",
       "      <td>NaN</td>\n",
       "      <td>NaN</td>\n",
       "      <td>NaN</td>\n",
       "      <td>NaN</td>\n",
       "      <td>2.584000</td>\n",
       "      <td>0.520000</td>\n",
       "    </tr>\n",
       "    <tr>\n",
       "      <th>std</th>\n",
       "      <td>NaN</td>\n",
       "      <td>NaN</td>\n",
       "      <td>NaN</td>\n",
       "      <td>NaN</td>\n",
       "      <td>1.459483</td>\n",
       "      <td>0.500055</td>\n",
       "    </tr>\n",
       "    <tr>\n",
       "      <th>min</th>\n",
       "      <td>NaN</td>\n",
       "      <td>NaN</td>\n",
       "      <td>NaN</td>\n",
       "      <td>NaN</td>\n",
       "      <td>0.000000</td>\n",
       "      <td>0.000000</td>\n",
       "    </tr>\n",
       "    <tr>\n",
       "      <th>25%</th>\n",
       "      <td>NaN</td>\n",
       "      <td>NaN</td>\n",
       "      <td>NaN</td>\n",
       "      <td>NaN</td>\n",
       "      <td>1.400000</td>\n",
       "      <td>0.000000</td>\n",
       "    </tr>\n",
       "    <tr>\n",
       "      <th>50%</th>\n",
       "      <td>NaN</td>\n",
       "      <td>NaN</td>\n",
       "      <td>NaN</td>\n",
       "      <td>NaN</td>\n",
       "      <td>2.600000</td>\n",
       "      <td>1.000000</td>\n",
       "    </tr>\n",
       "    <tr>\n",
       "      <th>75%</th>\n",
       "      <td>NaN</td>\n",
       "      <td>NaN</td>\n",
       "      <td>NaN</td>\n",
       "      <td>NaN</td>\n",
       "      <td>3.800000</td>\n",
       "      <td>1.000000</td>\n",
       "    </tr>\n",
       "    <tr>\n",
       "      <th>max</th>\n",
       "      <td>NaN</td>\n",
       "      <td>NaN</td>\n",
       "      <td>NaN</td>\n",
       "      <td>NaN</td>\n",
       "      <td>5.000000</td>\n",
       "      <td>1.000000</td>\n",
       "    </tr>\n",
       "  </tbody>\n",
       "</table>\n",
       "</div>"
      ],
      "text/plain": [
       "                              id        source        sentence_1  \\\n",
       "count                        550           550               550   \n",
       "unique                       550             6               550   \n",
       "top     boostcamp-sts-v1-dev-000  nsmc-sampled  액션은개뿔 총몇번쏘고 끝입니다   \n",
       "freq                           1           127                 1   \n",
       "mean                         NaN           NaN               NaN   \n",
       "std                          NaN           NaN               NaN   \n",
       "min                          NaN           NaN               NaN   \n",
       "25%                          NaN           NaN               NaN   \n",
       "50%                          NaN           NaN               NaN   \n",
       "75%                          NaN           NaN               NaN   \n",
       "max                          NaN           NaN               NaN   \n",
       "\n",
       "                            sentence_2       label  binary-label  \n",
       "count                              550  550.000000    550.000000  \n",
       "unique                             550         NaN           NaN  \n",
       "top     액션은 흉내만 내고 그마저도 후반부에는 슬로우모션 처리         NaN           NaN  \n",
       "freq                                 1         NaN           NaN  \n",
       "mean                               NaN    2.584000      0.520000  \n",
       "std                                NaN    1.459483      0.500055  \n",
       "min                                NaN    0.000000      0.000000  \n",
       "25%                                NaN    1.400000      0.000000  \n",
       "50%                                NaN    2.600000      1.000000  \n",
       "75%                                NaN    3.800000      1.000000  \n",
       "max                                NaN    5.000000      1.000000  "
      ]
     },
     "execution_count": 123,
     "metadata": {},
     "output_type": "execute_result"
    }
   ],
   "source": [
    "dev_df.describe(include='all')"
   ]
  },
  {
   "cell_type": "code",
   "execution_count": 124,
   "id": "44c7f99c-393a-4bb2-a615-f3d46081b293",
   "metadata": {
    "tags": []
   },
   "outputs": [
    {
     "data": {
      "text/html": [
       "<div>\n",
       "<style scoped>\n",
       "    .dataframe tbody tr th:only-of-type {\n",
       "        vertical-align: middle;\n",
       "    }\n",
       "\n",
       "    .dataframe tbody tr th {\n",
       "        vertical-align: top;\n",
       "    }\n",
       "\n",
       "    .dataframe thead th {\n",
       "        text-align: right;\n",
       "    }\n",
       "</style>\n",
       "<table border=\"1\" class=\"dataframe\">\n",
       "  <thead>\n",
       "    <tr style=\"text-align: right;\">\n",
       "      <th></th>\n",
       "      <th>id</th>\n",
       "      <th>source</th>\n",
       "      <th>sentence_1</th>\n",
       "      <th>sentence_2</th>\n",
       "    </tr>\n",
       "  </thead>\n",
       "  <tbody>\n",
       "    <tr>\n",
       "      <th>count</th>\n",
       "      <td>1100</td>\n",
       "      <td>1100</td>\n",
       "      <td>1100</td>\n",
       "      <td>1100</td>\n",
       "    </tr>\n",
       "    <tr>\n",
       "      <th>unique</th>\n",
       "      <td>1100</td>\n",
       "      <td>6</td>\n",
       "      <td>1100</td>\n",
       "      <td>1100</td>\n",
       "    </tr>\n",
       "    <tr>\n",
       "      <th>top</th>\n",
       "      <td>boostcamp-sts-v1-test-000</td>\n",
       "      <td>nsmc-sampled</td>\n",
       "      <td>가상화폐거래소 폐쇄하지 말고</td>\n",
       "      <td>가상화폐 거래소 폐쇄 반대합니다</td>\n",
       "    </tr>\n",
       "    <tr>\n",
       "      <th>freq</th>\n",
       "      <td>1</td>\n",
       "      <td>261</td>\n",
       "      <td>1</td>\n",
       "      <td>1</td>\n",
       "    </tr>\n",
       "  </tbody>\n",
       "</table>\n",
       "</div>"
      ],
      "text/plain": [
       "                               id        source       sentence_1  \\\n",
       "count                        1100          1100             1100   \n",
       "unique                       1100             6             1100   \n",
       "top     boostcamp-sts-v1-test-000  nsmc-sampled  가상화폐거래소 폐쇄하지 말고   \n",
       "freq                            1           261                1   \n",
       "\n",
       "               sentence_2  \n",
       "count                1100  \n",
       "unique               1100  \n",
       "top     가상화폐 거래소 폐쇄 반대합니다  \n",
       "freq                    1  "
      ]
     },
     "execution_count": 124,
     "metadata": {},
     "output_type": "execute_result"
    }
   ],
   "source": [
    "test_df.describe(include='all')"
   ]
  },
  {
   "cell_type": "markdown",
   "id": "41d2cda5-5104-421a-a7dd-d192bc1ecfa2",
   "metadata": {},
   "source": [
    "위에서 확인할 수 있듯이, 띄어쓰기 문제와 함께 문장 부호, 특수 문자가 섞여 있음을 확인할 수 있었다.\n",
    "\n",
    "또한, 이 단계에서 sentence_1, sentence_2가 모두 겹치는 중복 데이터는 없었다."
   ]
  },
  {
   "cell_type": "markdown",
   "id": "a874dc8b-090e-4304-9f8c-8aee6ed09c4d",
   "metadata": {},
   "source": [
    "## 2. Label의 분포\n",
    "미션에서도 간단하게 확인할 수 있었듯이, 대회 데이터셋에 대해서도 확인해본다. \n",
    "- Train data는 label=0인 데이터의 개수가 다른 점수에 비해 압도적으로 많다. (약 22.7%)\n",
    "- 반면, dev data는 비교적 고르게 분포되어 있다."
   ]
  },
  {
   "cell_type": "code",
   "execution_count": 8,
   "id": "b904cf10-90af-4da7-9431-8bced86f6308",
   "metadata": {
    "tags": []
   },
   "outputs": [
    {
     "data": {
      "text/plain": [
       "<Axes: ylabel='Frequency'>"
      ]
     },
     "execution_count": 8,
     "metadata": {},
     "output_type": "execute_result"
    },
    {
     "data": {
      "image/png": "[encoded data removed]",
      "text/plain": [
       "<Figure size 800x600 with 1 Axes>"
      ]
     },
     "metadata": {},
     "output_type": "display_data"
    }
   ],
   "source": [
    "labels = train_df['label']\n",
    "\n",
    "labels.plot(kind='hist', rot=10, figsize=(8,6))"
   ]
  },
  {
   "cell_type": "code",
   "execution_count": 9,
   "id": "9b0764e3-b438-4c81-8f79-f7e9f530c73c",
   "metadata": {
    "tags": []
   },
   "outputs": [
    {
     "data": {
      "text/plain": [
       "<Axes: ylabel='Frequency'>"
      ]
     },
     "execution_count": 9,
     "metadata": {},
     "output_type": "execute_result"
    },
    {
     "data": {
      "image/png": "[encoded data removed]",
      "text/plain": [
       "<Figure size 800x600 with 1 Axes>"
      ]
     },
     "metadata": {},
     "output_type": "display_data"
    }
   ],
   "source": [
    "labels = dev_df['label']\n",
    "\n",
    "labels.plot(kind='hist', rot=10, figsize=(8,6))"
   ]
  },
  {
   "cell_type": "markdown",
   "id": "eadca08d-cb20-4a69-9751-a07b0740dd62",
   "metadata": {},
   "source": [
    "## 3. Source 확인\n",
    "\n",
    "텍스트 소스는 총 3군데로 확인되고, 각각 `sampled`, `rtt`로 구분된다. \n",
    "`rtt`가 뭐지??? -> round-trip translation : 한국어 -> ? -> 한국어로 변환한 데이터로 추정된다. \n",
    "다만, 이것들을 어떻게 처리해야 할지는 피어세션 때 이야기해봐야 할 것 같다.\n",
    "\n",
    "- RTT 데이터가 비교적 적게 나오는 것을 확인할 수 있다."
   ]
  },
  {
   "cell_type": "code",
   "execution_count": 10,
   "id": "37a71f51-7ae7-4c78-8b62-98dd82204fdc",
   "metadata": {
    "tags": []
   },
   "outputs": [
    {
     "data": {
      "text/plain": [
       "<Axes: >"
      ]
     },
     "execution_count": 10,
     "metadata": {},
     "output_type": "execute_result"
    },
    {
     "data": {
      "image/png": "[encoded data removed]",
      "text/plain": [
       "<Figure size 800x600 with 1 Axes>"
      ]
     },
     "metadata": {},
     "output_type": "display_data"
    }
   ],
   "source": [
    "train_df['source'].value_counts().plot(kind='bar', rot=20, figsize=(8, 6))"
   ]
  },
  {
   "cell_type": "code",
   "execution_count": 11,
   "id": "d0256b31-521c-4bfe-818c-745efbe4fe8e",
   "metadata": {
    "tags": []
   },
   "outputs": [
    {
     "data": {
      "text/plain": [
       "<Axes: >"
      ]
     },
     "execution_count": 11,
     "metadata": {},
     "output_type": "execute_result"
    },
    {
     "data": {
      "image/png": "[encoded data removed]",
      "text/plain": [
       "<Figure size 800x600 with 1 Axes>"
      ]
     },
     "metadata": {},
     "output_type": "display_data"
    }
   ],
   "source": [
    "dev_df['source'].value_counts().plot(kind='bar', rot=20, figsize=(8, 6))"
   ]
  },
  {
   "cell_type": "markdown",
   "id": "660bab56-3af2-4561-8488-9fe3ed95d21b",
   "metadata": {
    "tags": []
   },
   "source": [
    "`slack` 데이터에는 `<PERSON>`이 등장하는데... 개인 정보 문제 때문에 이름이 마스킹된 것으로 추정된다. "
   ]
  },
  {
   "cell_type": "code",
   "execution_count": 137,
   "id": "86689aa1-f8ac-4be5-9fca-f84696ce2942",
   "metadata": {
    "tags": []
   },
   "outputs": [
    {
     "data": {
      "text/plain": [
       "'PERSON 님 화이팅!'"
      ]
     },
     "execution_count": 137,
     "metadata": {},
     "output_type": "execute_result"
    }
   ],
   "source": [
    "train_df[train_df['source']=='slack-sampled'].sample(20)"
   ]
  },
  {
   "cell_type": "markdown",
   "id": "e00a6e3a-7751-40f5-940f-af30ca589f27",
   "metadata": {
    "tags": []
   },
   "source": [
    "nsmc : 구어체가 많고, 역시 특수문자가 많음."
   ]
  },
  {
   "cell_type": "code",
   "execution_count": 14,
   "id": "ad98239b-c1ef-4a62-af06-c90b874db083",
   "metadata": {
    "tags": []
   },
   "outputs": [
    {
     "data": {
      "text/html": [
       "<div>\n",
       "<style scoped>\n",
       "    .dataframe tbody tr th:only-of-type {\n",
       "        vertical-align: middle;\n",
       "    }\n",
       "\n",
       "    .dataframe tbody tr th {\n",
       "        vertical-align: top;\n",
       "    }\n",
       "\n",
       "    .dataframe thead th {\n",
       "        text-align: right;\n",
       "    }\n",
       "</style>\n",
       "<table border=\"1\" class=\"dataframe\">\n",
       "  <thead>\n",
       "    <tr style=\"text-align: right;\">\n",
       "      <th></th>\n",
       "      <th>id</th>\n",
       "      <th>source</th>\n",
       "      <th>sentence_1</th>\n",
       "      <th>sentence_2</th>\n",
       "      <th>label</th>\n",
       "      <th>binary-label</th>\n",
       "    </tr>\n",
       "  </thead>\n",
       "  <tbody>\n",
       "    <tr>\n",
       "      <th>1860</th>\n",
       "      <td>boostcamp-sts-v1-train-1860</td>\n",
       "      <td>nsmc-sampled</td>\n",
       "      <td>이건 그냥 뽈노 아닌가..;;;; 그래서 점 드립니다</td>\n",
       "      <td>:분 짜리 영화 입니다..:;;;</td>\n",
       "      <td>0.0</td>\n",
       "      <td>0.0</td>\n",
       "    </tr>\n",
       "    <tr>\n",
       "      <th>2557</th>\n",
       "      <td>boostcamp-sts-v1-train-2557</td>\n",
       "      <td>nsmc-sampled</td>\n",
       "      <td>아버지는 위대했다..</td>\n",
       "      <td>감독이름보고 잘못 선택했다... ㅠㅠ</td>\n",
       "      <td>0.0</td>\n",
       "      <td>0.0</td>\n",
       "    </tr>\n",
       "    <tr>\n",
       "      <th>1570</th>\n",
       "      <td>boostcamp-sts-v1-train-1570</td>\n",
       "      <td>nsmc-sampled</td>\n",
       "      <td>암울한 현실 속에서 만들어진 수작.</td>\n",
       "      <td>냉정한 현실, 냉소적이지 않은 시선</td>\n",
       "      <td>1.4</td>\n",
       "      <td>0.0</td>\n",
       "    </tr>\n",
       "    <tr>\n",
       "      <th>752</th>\n",
       "      <td>boostcamp-sts-v1-train-752</td>\n",
       "      <td>nsmc-sampled</td>\n",
       "      <td>후임인 첫 주연 한준이의 영화</td>\n",
       "      <td>두 주연배우 연기 대박!!</td>\n",
       "      <td>0.8</td>\n",
       "      <td>0.0</td>\n",
       "    </tr>\n",
       "    <tr>\n",
       "      <th>3629</th>\n",
       "      <td>boostcamp-sts-v1-train-3629</td>\n",
       "      <td>nsmc-sampled</td>\n",
       "      <td>나에겐 맞지않는 영화.</td>\n",
       "      <td>나에겐 너무 별로인 영화.</td>\n",
       "      <td>3.2</td>\n",
       "      <td>1.0</td>\n",
       "    </tr>\n",
       "    <tr>\n",
       "      <th>3895</th>\n",
       "      <td>boostcamp-sts-v1-train-3895</td>\n",
       "      <td>nsmc-sampled</td>\n",
       "      <td>... 평점에 속았군....</td>\n",
       "      <td>....................왜 평점이 이렇냐..</td>\n",
       "      <td>1.0</td>\n",
       "      <td>0.0</td>\n",
       "    </tr>\n",
       "    <tr>\n",
       "      <th>5915</th>\n",
       "      <td>boostcamp-sts-v1-train-5915</td>\n",
       "      <td>nsmc-sampled</td>\n",
       "      <td>지금보니 도저히 못봐주겠다</td>\n",
       "      <td>지금 다시보니 대박이다.</td>\n",
       "      <td>0.6</td>\n",
       "      <td>0.0</td>\n",
       "    </tr>\n",
       "    <tr>\n",
       "      <th>5654</th>\n",
       "      <td>boostcamp-sts-v1-train-5654</td>\n",
       "      <td>nsmc-sampled</td>\n",
       "      <td>눈물이 안나올 수 가 없어요.</td>\n",
       "      <td>차마 욕은 쓸수 없고..한숨만 나온다.</td>\n",
       "      <td>0.0</td>\n",
       "      <td>0.0</td>\n",
       "    </tr>\n",
       "    <tr>\n",
       "      <th>7805</th>\n",
       "      <td>boostcamp-sts-v1-train-7805</td>\n",
       "      <td>nsmc-sampled</td>\n",
       "      <td>오~~ 독일 영화는 또 첨보는듯</td>\n",
       "      <td>따~악 프랑스 영화</td>\n",
       "      <td>0.2</td>\n",
       "      <td>0.0</td>\n",
       "    </tr>\n",
       "    <tr>\n",
       "      <th>1039</th>\n",
       "      <td>boostcamp-sts-v1-train-1039</td>\n",
       "      <td>nsmc-sampled</td>\n",
       "      <td>터졌다, 기타노 다케시의 오락본능!</td>\n",
       "      <td>기타노다케시 감독의 최고영화!</td>\n",
       "      <td>1.8</td>\n",
       "      <td>0.0</td>\n",
       "    </tr>\n",
       "  </tbody>\n",
       "</table>\n",
       "</div>"
      ],
      "text/plain": [
       "                               id        source  \\\n",
       "1860  boostcamp-sts-v1-train-1860  nsmc-sampled   \n",
       "2557  boostcamp-sts-v1-train-2557  nsmc-sampled   \n",
       "1570  boostcamp-sts-v1-train-1570  nsmc-sampled   \n",
       "752    boostcamp-sts-v1-train-752  nsmc-sampled   \n",
       "3629  boostcamp-sts-v1-train-3629  nsmc-sampled   \n",
       "3895  boostcamp-sts-v1-train-3895  nsmc-sampled   \n",
       "5915  boostcamp-sts-v1-train-5915  nsmc-sampled   \n",
       "5654  boostcamp-sts-v1-train-5654  nsmc-sampled   \n",
       "7805  boostcamp-sts-v1-train-7805  nsmc-sampled   \n",
       "1039  boostcamp-sts-v1-train-1039  nsmc-sampled   \n",
       "\n",
       "                         sentence_1                       sentence_2  label  \\\n",
       "1860  이건 그냥 뽈노 아닌가..;;;; 그래서 점 드립니다               :분 짜리 영화 입니다..:;;;    0.0   \n",
       "2557                    아버지는 위대했다..             감독이름보고 잘못 선택했다... ㅠㅠ    0.0   \n",
       "1570            암울한 현실 속에서 만들어진 수작.              냉정한 현실, 냉소적이지 않은 시선    1.4   \n",
       "752                후임인 첫 주연 한준이의 영화                   두 주연배우 연기 대박!!    0.8   \n",
       "3629                   나에겐 맞지않는 영화.                   나에겐 너무 별로인 영화.    3.2   \n",
       "3895                ... 평점에 속았군....  ....................왜 평점이 이렇냐..    1.0   \n",
       "5915                 지금보니 도저히 못봐주겠다                    지금 다시보니 대박이다.    0.6   \n",
       "5654               눈물이 안나올 수 가 없어요.            차마 욕은 쓸수 없고..한숨만 나온다.    0.0   \n",
       "7805              오~~ 독일 영화는 또 첨보는듯                       따~악 프랑스 영화    0.2   \n",
       "1039            터졌다, 기타노 다케시의 오락본능!                 기타노다케시 감독의 최고영화!    1.8   \n",
       "\n",
       "      binary-label  \n",
       "1860           0.0  \n",
       "2557           0.0  \n",
       "1570           0.0  \n",
       "752            0.0  \n",
       "3629           1.0  \n",
       "3895           0.0  \n",
       "5915           0.0  \n",
       "5654           0.0  \n",
       "7805           0.0  \n",
       "1039           0.0  "
      ]
     },
     "execution_count": 14,
     "metadata": {},
     "output_type": "execute_result"
    }
   ],
   "source": [
    "train_df[train_df['source']=='nsmc-sampled'].sample(10)"
   ]
  },
  {
   "cell_type": "markdown",
   "id": "6d9b3fbd-55c5-4a2a-ae31-8b73b5ce6ce8",
   "metadata": {},
   "source": [
    "petition : 국민 청원 게시판 제목이라 그런가, 텍스트 내용이 요청 또는 주장이다. "
   ]
  },
  {
   "cell_type": "code",
   "execution_count": 15,
   "id": "3b67bf69-bb52-49e0-a08c-0484a8e6cd3a",
   "metadata": {
    "tags": []
   },
   "outputs": [
    {
     "data": {
      "text/html": [
       "<div>\n",
       "<style scoped>\n",
       "    .dataframe tbody tr th:only-of-type {\n",
       "        vertical-align: middle;\n",
       "    }\n",
       "\n",
       "    .dataframe tbody tr th {\n",
       "        vertical-align: top;\n",
       "    }\n",
       "\n",
       "    .dataframe thead th {\n",
       "        text-align: right;\n",
       "    }\n",
       "</style>\n",
       "<table border=\"1\" class=\"dataframe\">\n",
       "  <thead>\n",
       "    <tr style=\"text-align: right;\">\n",
       "      <th></th>\n",
       "      <th>id</th>\n",
       "      <th>source</th>\n",
       "      <th>sentence_1</th>\n",
       "      <th>sentence_2</th>\n",
       "      <th>label</th>\n",
       "      <th>binary-label</th>\n",
       "    </tr>\n",
       "  </thead>\n",
       "  <tbody>\n",
       "    <tr>\n",
       "      <th>5161</th>\n",
       "      <td>boostcamp-sts-v1-train-5161</td>\n",
       "      <td>petition-sampled</td>\n",
       "      <td>나눔로또 인터넷복권을 금지시켜주세요.</td>\n",
       "      <td>나눔로또 생방송 진행 해주시기바랍니다.</td>\n",
       "      <td>1.5</td>\n",
       "      <td>0.0</td>\n",
       "    </tr>\n",
       "    <tr>\n",
       "      <th>7217</th>\n",
       "      <td>boostcamp-sts-v1-train-7217</td>\n",
       "      <td>petition-sampled</td>\n",
       "      <td>미세먼지 감축을 위한 LPG/LNG차량 규제 철폐 의뢰의 건</td>\n",
       "      <td>음성군 음성읍 평곡리LNG발전소 유치 반대!!</td>\n",
       "      <td>0.0</td>\n",
       "      <td>0.0</td>\n",
       "    </tr>\n",
       "    <tr>\n",
       "      <th>554</th>\n",
       "      <td>boostcamp-sts-v1-train-554</td>\n",
       "      <td>petition-sampled</td>\n",
       "      <td>정영식을 파면하라.한명숙판결과 동일한 잣대를 대하</td>\n",
       "      <td>정형식판사 파면 12만명 청원주소.. 특검과 파면 신청합니다.</td>\n",
       "      <td>1.8</td>\n",
       "      <td>0.0</td>\n",
       "    </tr>\n",
       "    <tr>\n",
       "      <th>2699</th>\n",
       "      <td>boostcamp-sts-v1-train-2699</td>\n",
       "      <td>petition-sampled</td>\n",
       "      <td>음주사고 가중처벌법 제정</td>\n",
       "      <td>음주운전 처벌법 강화바랍니다</td>\n",
       "      <td>2.6</td>\n",
       "      <td>1.0</td>\n",
       "    </tr>\n",
       "    <tr>\n",
       "      <th>4605</th>\n",
       "      <td>boostcamp-sts-v1-train-4605</td>\n",
       "      <td>petition-sampled</td>\n",
       "      <td>문재이니 대통령님께</td>\n",
       "      <td>문재인 대통령님께 바랍니다</td>\n",
       "      <td>1.8</td>\n",
       "      <td>0.0</td>\n",
       "    </tr>\n",
       "    <tr>\n",
       "      <th>6667</th>\n",
       "      <td>boostcamp-sts-v1-train-6667</td>\n",
       "      <td>petition-sampled</td>\n",
       "      <td>북일 회담에 관하여...</td>\n",
       "      <td>KT 경력증명서 발급에대하여...</td>\n",
       "      <td>0.0</td>\n",
       "      <td>0.0</td>\n",
       "    </tr>\n",
       "    <tr>\n",
       "      <th>3414</th>\n",
       "      <td>boostcamp-sts-v1-train-3414</td>\n",
       "      <td>petition-sampled</td>\n",
       "      <td>장애인 활동보조인 부모가할수있게 해주세요</td>\n",
       "      <td>능력없는 국회의원은 해임할수있게 해주세요</td>\n",
       "      <td>0.0</td>\n",
       "      <td>0.0</td>\n",
       "    </tr>\n",
       "    <tr>\n",
       "      <th>5240</th>\n",
       "      <td>boostcamp-sts-v1-train-5240</td>\n",
       "      <td>petition-sampled</td>\n",
       "      <td>청소년법폐지해주세요!</td>\n",
       "      <td>청소년법 폐지해주세요!!</td>\n",
       "      <td>5.0</td>\n",
       "      <td>1.0</td>\n",
       "    </tr>\n",
       "    <tr>\n",
       "      <th>535</th>\n",
       "      <td>boostcamp-sts-v1-train-535</td>\n",
       "      <td>petition-sampled</td>\n",
       "      <td>이재명. 은수미 빨리 사퇴하라</td>\n",
       "      <td>이재명, 은수미를 야단쳐 주세요</td>\n",
       "      <td>2.2</td>\n",
       "      <td>0.0</td>\n",
       "    </tr>\n",
       "    <tr>\n",
       "      <th>737</th>\n",
       "      <td>boostcamp-sts-v1-train-737</td>\n",
       "      <td>petition-sampled</td>\n",
       "      <td>평양동계올림픽으로 변절되다니...</td>\n",
       "      <td>평창동계 올림픽 단북 단일팀 반대합니다.</td>\n",
       "      <td>1.5</td>\n",
       "      <td>0.0</td>\n",
       "    </tr>\n",
       "  </tbody>\n",
       "</table>\n",
       "</div>"
      ],
      "text/plain": [
       "                               id            source  \\\n",
       "5161  boostcamp-sts-v1-train-5161  petition-sampled   \n",
       "7217  boostcamp-sts-v1-train-7217  petition-sampled   \n",
       "554    boostcamp-sts-v1-train-554  petition-sampled   \n",
       "2699  boostcamp-sts-v1-train-2699  petition-sampled   \n",
       "4605  boostcamp-sts-v1-train-4605  petition-sampled   \n",
       "6667  boostcamp-sts-v1-train-6667  petition-sampled   \n",
       "3414  boostcamp-sts-v1-train-3414  petition-sampled   \n",
       "5240  boostcamp-sts-v1-train-5240  petition-sampled   \n",
       "535    boostcamp-sts-v1-train-535  petition-sampled   \n",
       "737    boostcamp-sts-v1-train-737  petition-sampled   \n",
       "\n",
       "                             sentence_1                          sentence_2  \\\n",
       "5161               나눔로또 인터넷복권을 금지시켜주세요.               나눔로또 생방송 진행 해주시기바랍니다.   \n",
       "7217  미세먼지 감축을 위한 LPG/LNG차량 규제 철폐 의뢰의 건           음성군 음성읍 평곡리LNG발전소 유치 반대!!   \n",
       "554         정영식을 파면하라.한명숙판결과 동일한 잣대를 대하  정형식판사 파면 12만명 청원주소.. 특검과 파면 신청합니다.   \n",
       "2699                      음주사고 가중처벌법 제정                     음주운전 처벌법 강화바랍니다   \n",
       "4605                         문재이니 대통령님께                      문재인 대통령님께 바랍니다   \n",
       "6667                      북일 회담에 관하여...                  KT 경력증명서 발급에대하여...   \n",
       "3414             장애인 활동보조인 부모가할수있게 해주세요              능력없는 국회의원은 해임할수있게 해주세요   \n",
       "5240                        청소년법폐지해주세요!                       청소년법 폐지해주세요!!   \n",
       "535                    이재명. 은수미 빨리 사퇴하라                   이재명, 은수미를 야단쳐 주세요   \n",
       "737                  평양동계올림픽으로 변절되다니...              평창동계 올림픽 단북 단일팀 반대합니다.   \n",
       "\n",
       "      label  binary-label  \n",
       "5161    1.5           0.0  \n",
       "7217    0.0           0.0  \n",
       "554     1.8           0.0  \n",
       "2699    2.6           1.0  \n",
       "4605    1.8           0.0  \n",
       "6667    0.0           0.0  \n",
       "3414    0.0           0.0  \n",
       "5240    5.0           1.0  \n",
       "535     2.2           0.0  \n",
       "737     1.5           0.0  "
      ]
     },
     "execution_count": 15,
     "metadata": {},
     "output_type": "execute_result"
    }
   ],
   "source": [
    "train_df[train_df['source']=='petition-sampled'].sample(10)"
   ]
  },
  {
   "cell_type": "markdown",
   "id": "cc2e527d-2adb-4dbf-bc08-10e5e01d85d1",
   "metadata": {},
   "source": [
    "## 4. 문장 길이 체크\n",
    "문장의 길이가 어떻게 구성되어 있는지 확인해보면 좋겠다."
   ]
  },
  {
   "cell_type": "markdown",
   "id": "23ccb09a-6ef0-4616-893b-90e6f4abcfe1",
   "metadata": {},
   "source": [
    "### 4.1. train data\n",
    "짧은 문장이 대다수고, 아주 긴 문장이 일부 포함되어 있다."
   ]
  },
  {
   "cell_type": "code",
   "execution_count": 16,
   "id": "7b53c82c-a5a1-49b3-b5cc-9235f17037cd",
   "metadata": {
    "tags": []
   },
   "outputs": [
    {
     "name": "stdout",
     "output_type": "stream",
     "text": [
      "Sentence 1 최대 길이:98\n",
      "Sentence 1 최소 길이:9\n",
      "Sentence 1 평균 길이:23.258151008151007\n",
      "Sentence 2 최대 길이:114\n",
      "Sentence 2 최소 길이:5\n",
      "Sentence 2 평균 길이:23.726404976404975\n"
     ]
    }
   ],
   "source": [
    "# sentence 1 에 대한 길이\n",
    "max_len = np.max(train_df['sentence_1'].str.len())\n",
    "min_len = np.min(train_df['sentence_1'].str.len())\n",
    "avg_len = np.mean(train_df['sentence_1'].str.len())\n",
    "\n",
    "print(f'Sentence 1 최대 길이:{max_len}')\n",
    "print(f'Sentence 1 최소 길이:{min_len}')\n",
    "print(f'Sentence 1 평균 길이:{avg_len}')\n",
    "\n",
    "# sentence 2 에 대한 길이\n",
    "max_len = np.max(train_df['sentence_2'].str.len())\n",
    "min_len = np.min(train_df['sentence_2'].str.len())\n",
    "avg_len = np.mean(train_df['sentence_2'].str.len())\n",
    "\n",
    "print(f'Sentence 2 최대 길이:{max_len}')\n",
    "print(f'Sentence 2 최소 길이:{min_len}')\n",
    "print(f'Sentence 2 평균 길이:{avg_len}')"
   ]
  },
  {
   "cell_type": "code",
   "execution_count": 18,
   "id": "2c953375-1b03-4b08-9288-705b55f64d46",
   "metadata": {
    "tags": []
   },
   "outputs": [
    {
     "data": {
      "image/png": "[encoded data removed]",
      "text/plain": [
       "<Figure size 800x600 with 1 Axes>"
      ]
     },
     "metadata": {},
     "output_type": "display_data"
    }
   ],
   "source": [
    "plt.figure(figsize=(8, 6))\n",
    "plt.hist(train_df['sentence_1'].str.len(), alpha=0.5, label='sentence_1')\n",
    "plt.hist(train_df['sentence_2'].str.len(), alpha=0.5, label='sentence_2')\n",
    "plt.legend()\n",
    "plt.show()"
   ]
  },
  {
   "cell_type": "code",
   "execution_count": 19,
   "id": "28475b75-900e-492e-8b93-4ea5c61130e9",
   "metadata": {
    "tags": []
   },
   "outputs": [
    {
     "data": {
      "image/png": "[encoded data removed]",
      "text/plain": [
       "<Figure size 1200x900 with 6 Axes>"
      ]
     },
     "metadata": {},
     "output_type": "display_data"
    }
   ],
   "source": [
    "fig, axes = plt.subplots(3, 2, figsize=(12, 9), sharex=True)\n",
    "axes = axes.flatten()\n",
    "\n",
    "sources = train_df['source'].unique()\n",
    "sources.sort()\n",
    "for i, ax in enumerate(axes):\n",
    "    temp = sns.histplot(\n",
    "        train_df[train_df['source']==sources[i]]['sentence_1'].str.len(), \n",
    "        ax=ax)\n",
    "    temp.set_title(sources[i])\n",
    "plt.show()\n"
   ]
  },
  {
   "cell_type": "markdown",
   "id": "82d46a8a-8a13-4db2-ab8c-ff49715a9318",
   "metadata": {},
   "source": [
    "## 4.2. dev data\n",
    "dev data도 train과 문장 길이 자체는 비슷하게 나오는 것을 확인."
   ]
  },
  {
   "cell_type": "code",
   "execution_count": 20,
   "id": "2e6bdd90-e680-47c5-8320-15f4a768acd7",
   "metadata": {
    "tags": []
   },
   "outputs": [
    {
     "name": "stdout",
     "output_type": "stream",
     "text": [
      "Sentence 1 최대 길이:97\n",
      "Sentence 1 최소 길이:10\n",
      "Sentence 1 평균 길이:23.381818181818183\n",
      "Sentence 2 최대 길이:104\n",
      "Sentence 2 최소 길이:6\n",
      "Sentence 2 평균 길이:24.167272727272728\n"
     ]
    }
   ],
   "source": [
    "# sentence 1 에 대한 길이\n",
    "max_len = np.max(dev_df['sentence_1'].str.len())\n",
    "min_len = np.min(dev_df['sentence_1'].str.len())\n",
    "avg_len = np.mean(dev_df['sentence_1'].str.len())\n",
    "\n",
    "print(f'Sentence 1 최대 길이:{max_len}')\n",
    "print(f'Sentence 1 최소 길이:{min_len}')\n",
    "print(f'Sentence 1 평균 길이:{avg_len}')\n",
    "\n",
    "# sentence 2 에 대한 길이\n",
    "max_len = np.max(dev_df['sentence_2'].str.len())\n",
    "min_len = np.min(dev_df['sentence_2'].str.len())\n",
    "avg_len = np.mean(dev_df['sentence_2'].str.len())\n",
    "\n",
    "print(f'Sentence 2 최대 길이:{max_len}')\n",
    "print(f'Sentence 2 최소 길이:{min_len}')\n",
    "print(f'Sentence 2 평균 길이:{avg_len}')"
   ]
  },
  {
   "cell_type": "code",
   "execution_count": 21,
   "id": "e856e192-466f-44e8-a3f9-956789a0c4a0",
   "metadata": {
    "tags": []
   },
   "outputs": [
    {
     "data": {
      "image/png": "[encoded data removed]",
      "text/plain": [
       "<Figure size 800x600 with 1 Axes>"
      ]
     },
     "metadata": {},
     "output_type": "display_data"
    }
   ],
   "source": [
    "plt.figure(figsize=(8, 6))\n",
    "plt.hist(dev_df['sentence_1'].str.len(), alpha=0.5, label='sentence_1')\n",
    "plt.hist(dev_df['sentence_2'].str.len(), alpha=0.5, label='sentence_2')\n",
    "plt.legend()\n",
    "plt.show()"
   ]
  },
  {
   "cell_type": "code",
   "execution_count": 22,
   "id": "247562ab-21e3-4bad-9840-78bfc6da375f",
   "metadata": {
    "tags": []
   },
   "outputs": [
    {
     "data": {
      "image/png": "[encoded data removed]",
      "text/plain": [
       "<Figure size 1200x900 with 6 Axes>"
      ]
     },
     "metadata": {},
     "output_type": "display_data"
    }
   ],
   "source": [
    "fig, axes = plt.subplots(3, 2, figsize=(12, 9), sharex=True)\n",
    "axes = axes.flatten()\n",
    "\n",
    "sources = dev_df['source'].unique()\n",
    "sources.sort()\n",
    "for i, ax in enumerate(axes):\n",
    "    temp = sns.histplot(\n",
    "        dev_df[dev_df['source']==sources[i]]['sentence_1'].str.len(), \n",
    "        ax=ax)\n",
    "    temp.set_title(sources[i])\n",
    "plt.show()"
   ]
  },
  {
   "cell_type": "markdown",
   "id": "7364a9fc-4488-4092-8ee8-96032c2eee19",
   "metadata": {},
   "source": [
    "## 5. 텍스트 전처리 아이디어\n",
    "1. 띄어쓰기 교정을 포함한 맞춤법 보정, 특수문자 제거\n",
    "2. `<PERSON>` 을 지울 지, 유지할 지를 결정해야 함\n",
    "    - 지울 경우, 기존 문장이 비문이 될 가능성이 높기 때문에, 유지하되, special token으로 넣어주는 게 좋을 것 같다. \n",
    "3. label의 불균형한 분포를 해결해야 할 필요가 있음\n",
    "    - sentence1 <-> sentence2 교환한 데이터 추가\n",
    "    - sentence1 - sentence1 또는 sentence2 - sentence2의 같은 문장에 대한 데이터 추가\n",
    "    - `label == 0` 에 대한 처리\n",
    "    - High-score data를 많이 확보해야 할 것 같다."
   ]
  },
  {
   "cell_type": "markdown",
   "id": "e6b06e81-dccd-45fc-82bd-4945b5ad057a",
   "metadata": {},
   "source": [
    "## 5.1. 맞춤법 교정\n",
    "https://wikidocs.net/92961 에서 소개된 hanspell 패키지를 사용해보려고 한다."
   ]
  },
  {
   "cell_type": "code",
   "execution_count": 82,
   "id": "e6fcadb8-b2e9-40f7-864d-a03e1e235f7c",
   "metadata": {
    "tags": []
   },
   "outputs": [
    {
     "name": "stdout",
     "output_type": "stream",
     "text": [
      "Collecting git+https://github.com/ssut/py-hanspell.git\n",
      "  Cloning https://github.com/ssut/py-hanspell.git to /tmp/pip-req-build-xm_zqrzu\n",
      "  Running command git clone --filter=blob:none --quiet https://github.com/ssut/py-hanspell.git /tmp/pip-req-build-xm_zqrzu\n",
      "  Resolved https://github.com/ssut/py-hanspell.git to commit 8e993cf46f97f9d665c15633a0fc78ac1b727713\n",
      "  Preparing metadata (setup.py) ... \u001b[?25ldone\n",
      "\u001b[?25hRequirement already satisfied: requests in /opt/conda/lib/python3.8/site-packages (from py-hanspell==1.1) (2.28.2)\n",
      "Requirement already satisfied: urllib3<1.27,>=1.21.1 in /opt/conda/lib/python3.8/site-packages (from requests->py-hanspell==1.1) (1.26.15)\n",
      "Requirement already satisfied: certifi>=2017.4.17 in /opt/conda/lib/python3.8/site-packages (from requests->py-hanspell==1.1) (2020.12.5)\n",
      "Requirement already satisfied: charset-normalizer<4,>=2 in /opt/conda/lib/python3.8/site-packages (from requests->py-hanspell==1.1) (3.1.0)\n",
      "Requirement already satisfied: idna<4,>=2.5 in /opt/conda/lib/python3.8/site-packages (from requests->py-hanspell==1.1) (2.10)\n",
      "Building wheels for collected packages: py-hanspell\n",
      "  Building wheel for py-hanspell (setup.py) ... \u001b[?25ldone\n",
      "\u001b[?25h  Created wheel for py-hanspell: filename=py_hanspell-1.1-py3-none-any.whl size=4853 sha256=a642765c23127e2b56314f016e2a424da201ab996181cc83f731c0e2dca3b86b\n",
      "  Stored in directory: /tmp/pip-ephem-wheel-cache-7rynapw8/wheels/3f/a5/73/e4d2806ae141d274fdddaabf8c0ed79be9357d36bfdc99e4b4\n",
      "Successfully built py-hanspell\n",
      "Installing collected packages: py-hanspell\n",
      "Successfully installed py-hanspell-1.1\n",
      "\u001b[33mWARNING: Running pip as the 'root' user can result in broken permissions and conflicting behaviour with the system package manager. It is recommended to use a virtual environment instead: https://pip.pypa.io/warnings/venv\u001b[0m\u001b[33m\n",
      "\u001b[0m"
     ]
    }
   ],
   "source": [
    "! pip install git+https://github.com/ssut/py-hanspell.git"
   ]
  },
  {
   "cell_type": "markdown",
   "id": "a2615f22-8aee-4b41-a164-0211ed67594f",
   "metadata": {},
   "source": [
    "Hanspell을 사용할 경우, `JSONDecodeError`가 발생할 수 있다. 이 경우, \n",
    "```python\n",
    "pip3 show py-hanspell\n",
    "```\n",
    "위 명령어로부터 hanspell의 설치 경로를 확인한 후, 설치 경로의 `constant.py` 에서 `base_url`을 확인하면 된다. \n",
    "```python\n",
    "base_url = \"https://m.search.naver.com/p/csearch/ocontent/util/SpellerProxy\"\n",
    "```"
   ]
  },
  {
   "cell_type": "code",
   "execution_count": 23,
   "id": "538b2826-d268-43c9-9154-1ab2d8983246",
   "metadata": {
    "tags": []
   },
   "outputs": [],
   "source": [
    "from hanspell import spell_checker\n",
    "import re"
   ]
  },
  {
   "cell_type": "code",
   "execution_count": 24,
   "id": "cc1836a5-fa41-4ae5-8303-d284b4b4c146",
   "metadata": {
    "tags": []
   },
   "outputs": [
    {
     "data": {
      "text/plain": [
       "' 안녕하세요,감사해요?잘있어요!다시만나요.   '"
      ]
     },
     "execution_count": 24,
     "metadata": {},
     "output_type": "execute_result"
    }
   ],
   "source": [
    "p = re.compile('[^A-Za-zㄱ-ㅎ가-힣0-9.?,!]')\n",
    "A = p.sub(\" \",\"%안녕하세요,감사해요?잘있어요!다시만나요. :>\")\n",
    "A"
   ]
  },
  {
   "cell_type": "code",
   "execution_count": 25,
   "id": "598caef2-7c35-4c07-869a-6ac9dd0859fa",
   "metadata": {
    "tags": []
   },
   "outputs": [
    {
     "data": {
      "text/plain": [
       "' 안녕하세요, 감사해요? 잘 있어요! 다시 만나요.   '"
      ]
     },
     "execution_count": 25,
     "metadata": {},
     "output_type": "execute_result"
    }
   ],
   "source": [
    "spell_checker.check(A).checked"
   ]
  },
  {
   "cell_type": "code",
   "execution_count": 26,
   "id": "c9dae45b-5b42-4d62-baa5-3e1d5d2017db",
   "metadata": {
    "tags": []
   },
   "outputs": [
    {
     "data": {
      "text/plain": [
       "' PERSON 님 안녕하세요! !'"
      ]
     },
     "execution_count": 26,
     "metadata": {},
     "output_type": "execute_result"
    }
   ],
   "source": [
    "def remove_special_character(sentence):\n",
    "    p = re.compile('[^A-Za-zㄱ-ㅎ가-힣0-9.?,!]')\n",
    "    return p.sub(\" \", sentence)\n",
    "\n",
    "remove_special_character(\"<PERSON>님 안녕하세요!+!\")"
   ]
  },
  {
   "cell_type": "code",
   "execution_count": 27,
   "id": "c8b55107-3afd-4ddd-88ce-64168a8a67e5",
   "metadata": {
    "tags": []
   },
   "outputs": [
    {
     "name": "stderr",
     "output_type": "stream",
     "text": [
      "/tmp/ipykernel_12510/2539373040.py:2: SettingWithCopyWarning: \n",
      "A value is trying to be set on a copy of a slice from a DataFrame.\n",
      "Try using .loc[row_indexer,col_indexer] = value instead\n",
      "\n",
      "See the caveats in the documentation: https://pandas.pydata.org/pandas-docs/stable/user_guide/indexing.html#returning-a-view-versus-a-copy\n",
      "  temp.sentence_1 = temp.sentence_1.map(remove_special_character)\n"
     ]
    },
    {
     "data": {
      "text/html": [
       "<div>\n",
       "<style scoped>\n",
       "    .dataframe tbody tr th:only-of-type {\n",
       "        vertical-align: middle;\n",
       "    }\n",
       "\n",
       "    .dataframe tbody tr th {\n",
       "        vertical-align: top;\n",
       "    }\n",
       "\n",
       "    .dataframe thead th {\n",
       "        text-align: right;\n",
       "    }\n",
       "</style>\n",
       "<table border=\"1\" class=\"dataframe\">\n",
       "  <thead>\n",
       "    <tr style=\"text-align: right;\">\n",
       "      <th></th>\n",
       "      <th>id</th>\n",
       "      <th>source</th>\n",
       "      <th>sentence_1</th>\n",
       "      <th>sentence_2</th>\n",
       "      <th>label</th>\n",
       "      <th>binary-label</th>\n",
       "    </tr>\n",
       "  </thead>\n",
       "  <tbody>\n",
       "    <tr>\n",
       "      <th>3</th>\n",
       "      <td>boostcamp-sts-v1-train-003</td>\n",
       "      <td>slack-sampled</td>\n",
       "      <td>입사후 처음 대면으로 만나 반가웠습니다.</td>\n",
       "      <td>화상으로만 보다가 리얼로 만나니 정말 반가웠습니다.</td>\n",
       "      <td>3.0</td>\n",
       "      <td>1.0</td>\n",
       "    </tr>\n",
       "    <tr>\n",
       "      <th>4</th>\n",
       "      <td>boostcamp-sts-v1-train-004</td>\n",
       "      <td>slack-sampled</td>\n",
       "      <td>뿌듯뿌듯 하네요!!</td>\n",
       "      <td>꼬옥 실제로 한번 뵈어요 뿌뿌뿌~!~!</td>\n",
       "      <td>0.0</td>\n",
       "      <td>0.0</td>\n",
       "    </tr>\n",
       "    <tr>\n",
       "      <th>14</th>\n",
       "      <td>boostcamp-sts-v1-train-014</td>\n",
       "      <td>slack-sampled</td>\n",
       "      <td>아래는 게임 내에서 함께 팀을 맺고 캡쳐한 이미지입니다.</td>\n",
       "      <td>여러분들간의 다양한 아이디어를 제안하고 나누는 채널입니다.</td>\n",
       "      <td>0.0</td>\n",
       "      <td>0.0</td>\n",
       "    </tr>\n",
       "    <tr>\n",
       "      <th>16</th>\n",
       "      <td>boostcamp-sts-v1-train-016</td>\n",
       "      <td>slack-sampled</td>\n",
       "      <td>환갑이면? ㅎㅎㅎ 이런 재미난 얘기하느라 시간이 금방 가더라고요.</td>\n",
       "      <td>넘넘 즐거운 이야기를 하고나니 시간이 금방 가버렸네요.</td>\n",
       "      <td>3.0</td>\n",
       "      <td>1.0</td>\n",
       "    </tr>\n",
       "    <tr>\n",
       "      <th>20</th>\n",
       "      <td>boostcamp-sts-v1-train-020</td>\n",
       "      <td>slack-sampled</td>\n",
       "      <td>앞머리 새로 하셨습니다.</td>\n",
       "      <td>가방에 넣어 다니면서 조금씩 먹습니다. ^^</td>\n",
       "      <td>0.0</td>\n",
       "      <td>0.0</td>\n",
       "    </tr>\n",
       "    <tr>\n",
       "      <th>...</th>\n",
       "      <td>...</td>\n",
       "      <td>...</td>\n",
       "      <td>...</td>\n",
       "      <td>...</td>\n",
       "      <td>...</td>\n",
       "      <td>...</td>\n",
       "    </tr>\n",
       "    <tr>\n",
       "      <th>9311</th>\n",
       "      <td>boostcamp-sts-v1-train-9311</td>\n",
       "      <td>slack-sampled</td>\n",
       "      <td>반갑네요.  PERSON</td>\n",
       "      <td>누구랑? &lt;PERSON&gt; 이랑! 어차피….움직이게 되는 거 담에는 추리닝입고 나갈래여……</td>\n",
       "      <td>0.4</td>\n",
       "      <td>0.0</td>\n",
       "    </tr>\n",
       "    <tr>\n",
       "      <th>9312</th>\n",
       "      <td>boostcamp-sts-v1-train-9312</td>\n",
       "      <td>slack-sampled</td>\n",
       "      <td>얘기하다 보니 피플팀 업무 얘기도 잠깐 나왔었는데요, 정말 많은 것들을 케어해주고 ...</td>\n",
       "      <td>컨텐츠팀에서 하고 계신 일 이야기, 인턴 하실 때 느꼈던 것들, 팁도 주셔서 너무 ...</td>\n",
       "      <td>0.6</td>\n",
       "      <td>0.0</td>\n",
       "    </tr>\n",
       "    <tr>\n",
       "      <th>9315</th>\n",
       "      <td>boostcamp-sts-v1-train-9315</td>\n",
       "      <td>slack-sampled</td>\n",
       "      <td>의견 1  제게 우리 회사는 6 a 창작자인것 같네요!</td>\n",
       "      <td>네 서귀포가 20일이었던거 보면 7-10일 걸리는것 같네요.</td>\n",
       "      <td>0.0</td>\n",
       "      <td>0.0</td>\n",
       "    </tr>\n",
       "    <tr>\n",
       "      <th>9316</th>\n",
       "      <td>boostcamp-sts-v1-train-9316</td>\n",
       "      <td>slack-sampled</td>\n",
       "      <td>어쩌다 보니 사람 들어간 사진은 못찍었는데 너무 맛있었고 재밌었습니다!!</td>\n",
       "      <td>너무 맛있어서 또 가고싶은집!!</td>\n",
       "      <td>1.6</td>\n",
       "      <td>0.0</td>\n",
       "    </tr>\n",
       "    <tr>\n",
       "      <th>9322</th>\n",
       "      <td>boostcamp-sts-v1-train-9322</td>\n",
       "      <td>slack-sampled</td>\n",
       "      <td>오늘 못한 점심은 다음에 다시 츄라이 하기로 해요!!</td>\n",
       "      <td>오늘 못먹은 밥은 꼭 담에 먹기로 하고요!!</td>\n",
       "      <td>3.2</td>\n",
       "      <td>1.0</td>\n",
       "    </tr>\n",
       "  </tbody>\n",
       "</table>\n",
       "<p>2024 rows × 6 columns</p>\n",
       "</div>"
      ],
      "text/plain": [
       "                               id         source  \\\n",
       "3      boostcamp-sts-v1-train-003  slack-sampled   \n",
       "4      boostcamp-sts-v1-train-004  slack-sampled   \n",
       "14     boostcamp-sts-v1-train-014  slack-sampled   \n",
       "16     boostcamp-sts-v1-train-016  slack-sampled   \n",
       "20     boostcamp-sts-v1-train-020  slack-sampled   \n",
       "...                           ...            ...   \n",
       "9311  boostcamp-sts-v1-train-9311  slack-sampled   \n",
       "9312  boostcamp-sts-v1-train-9312  slack-sampled   \n",
       "9315  boostcamp-sts-v1-train-9315  slack-sampled   \n",
       "9316  boostcamp-sts-v1-train-9316  slack-sampled   \n",
       "9322  boostcamp-sts-v1-train-9322  slack-sampled   \n",
       "\n",
       "                                             sentence_1  \\\n",
       "3                                입사후 처음 대면으로 만나 반가웠습니다.   \n",
       "4                                            뿌듯뿌듯 하네요!!   \n",
       "14                      아래는 게임 내에서 함께 팀을 맺고 캡쳐한 이미지입니다.   \n",
       "16                 환갑이면? ㅎㅎㅎ 이런 재미난 얘기하느라 시간이 금방 가더라고요.   \n",
       "20                                     앞머리 새로 하셨습니다.      \n",
       "...                                                 ...   \n",
       "9311                                     반갑네요.  PERSON    \n",
       "9312  얘기하다 보니 피플팀 업무 얘기도 잠깐 나왔었는데요, 정말 많은 것들을 케어해주고 ...   \n",
       "9315                     의견 1  제게 우리 회사는 6 a 창작자인것 같네요!   \n",
       "9316           어쩌다 보니 사람 들어간 사진은 못찍었는데 너무 맛있었고 재밌었습니다!!   \n",
       "9322                      오늘 못한 점심은 다음에 다시 츄라이 하기로 해요!!   \n",
       "\n",
       "                                             sentence_2  label  binary-label  \n",
       "3                          화상으로만 보다가 리얼로 만나니 정말 반가웠습니다.    3.0           1.0  \n",
       "4                                 꼬옥 실제로 한번 뵈어요 뿌뿌뿌~!~!    0.0           0.0  \n",
       "14                     여러분들간의 다양한 아이디어를 제안하고 나누는 채널입니다.    0.0           0.0  \n",
       "16                       넘넘 즐거운 이야기를 하고나니 시간이 금방 가버렸네요.    3.0           1.0  \n",
       "20                             가방에 넣어 다니면서 조금씩 먹습니다. ^^    0.0           0.0  \n",
       "...                                                 ...    ...           ...  \n",
       "9311  누구랑? <PERSON> 이랑! 어차피….움직이게 되는 거 담에는 추리닝입고 나갈래여……    0.4           0.0  \n",
       "9312  컨텐츠팀에서 하고 계신 일 이야기, 인턴 하실 때 느꼈던 것들, 팁도 주셔서 너무 ...    0.6           0.0  \n",
       "9315                  네 서귀포가 20일이었던거 보면 7-10일 걸리는것 같네요.    0.0           0.0  \n",
       "9316                                  너무 맛있어서 또 가고싶은집!!    1.6           0.0  \n",
       "9322                           오늘 못먹은 밥은 꼭 담에 먹기로 하고요!!    3.2           1.0  \n",
       "\n",
       "[2024 rows x 6 columns]"
      ]
     },
     "execution_count": 27,
     "metadata": {},
     "output_type": "execute_result"
    }
   ],
   "source": [
    "temp = train_df[train_df['source']=='slack-sampled']\n",
    "temp.sentence_1 = temp.sentence_1.map(remove_special_character)\n",
    "temp"
   ]
  },
  {
   "cell_type": "code",
   "execution_count": 135,
   "id": "0102db51-85c9-433f-8795-144860ae6605",
   "metadata": {
    "tags": []
   },
   "outputs": [],
   "source": [
    "from hanspell import spell_checker\n",
    "import re\n",
    "# 전처리 함수들 정의하기\n",
    "# 1. 특수 문자 제거\n",
    "def remove_special_char(df):\n",
    "    def _remove(sentence):\n",
    "        p = re.compile('[^A-Za-zㄱ-ㅎ가-힣0-9.?,!]')\n",
    "        return p.sub(\" \", sentence)\n",
    "    df.sentence_1 = df.sentence_1.map(_remove)\n",
    "    df.sentence_2 = df.sentence_2.map(_remove)\n",
    "    return df\n",
    "\n",
    "# 2. 공백 제거\n",
    "def remove_spacing(df):\n",
    "    def _remove(sentence):\n",
    "        return sentence.replace(' ', '')\n",
    "    df.sentence_1 = df.sentence_1.map(_remove)\n",
    "    df.sentence_2 = df.sentence_2.map(_remove)\n",
    "    return df\n",
    "\n",
    "# 3. 맞춤법 처리\n",
    "def grammar_correction(df):\n",
    "    def _correction(sentence):\n",
    "        corrected = spell_checker.check(sentence).checked\n",
    "        #print(sentence, \"\\n\", corrected)\n",
    "        return corrected\n",
    "    df.sentence_1 = df.sentence_1.map(_correction)\n",
    "    df.sentence_2 = df.sentence_2.map(_correction)\n",
    "    return df\n"
   ]
  },
  {
   "cell_type": "code",
   "execution_count": 125,
   "id": "bea90101-97e8-4f21-b74a-7d872d03370f",
   "metadata": {
    "tags": []
   },
   "outputs": [],
   "source": [
    "train_df = remove_special_char(train_df)\n",
    "train_df = remove_spacing(train_df)\n",
    "train_df = grammar_correction(train_df)"
   ]
  },
  {
   "cell_type": "code",
   "execution_count": 126,
   "id": "7a3c8b13-c080-4515-82e6-b0ba3fa3c8c4",
   "metadata": {
    "tags": []
   },
   "outputs": [],
   "source": [
    "dev_df = remove_special_char(dev_df)\n",
    "dev_df = remove_spacing(dev_df)\n",
    "dev_df = grammar_correction(dev_df)"
   ]
  },
  {
   "cell_type": "code",
   "execution_count": 127,
   "id": "0fc3d562-53db-45a1-9f5d-3183c910150a",
   "metadata": {
    "tags": []
   },
   "outputs": [],
   "source": [
    "test_df = remove_special_char(test_df)\n",
    "test_df = remove_spacing(test_df)\n",
    "test_df = grammar_correction(test_df)"
   ]
  },
  {
   "cell_type": "markdown",
   "id": "12402035-d22e-4809-b6d2-caa986b4239d",
   "metadata": {},
   "source": [
    "## 5.2. 중복 데이터 확인\n",
    "\n",
    "전처리된 문장이 같은 경우가 생긴다. `sentence_1`과 `sentence_2`가 모두 같은 경우, 중복값을 제거한다."
   ]
  },
  {
   "cell_type": "code",
   "execution_count": 136,
   "id": "648987fd-a202-4dcf-b751-ac46fb365e91",
   "metadata": {
    "tags": []
   },
   "outputs": [
    {
     "data": {
      "text/html": [
       "<div>\n",
       "<style scoped>\n",
       "    .dataframe tbody tr th:only-of-type {\n",
       "        vertical-align: middle;\n",
       "    }\n",
       "\n",
       "    .dataframe tbody tr th {\n",
       "        vertical-align: top;\n",
       "    }\n",
       "\n",
       "    .dataframe thead th {\n",
       "        text-align: right;\n",
       "    }\n",
       "</style>\n",
       "<table border=\"1\" class=\"dataframe\">\n",
       "  <thead>\n",
       "    <tr style=\"text-align: right;\">\n",
       "      <th></th>\n",
       "      <th>id</th>\n",
       "      <th>source</th>\n",
       "      <th>sentence_1</th>\n",
       "      <th>sentence_2</th>\n",
       "      <th>label</th>\n",
       "      <th>binary-label</th>\n",
       "      <th>sent1_len</th>\n",
       "      <th>sent2_len</th>\n",
       "    </tr>\n",
       "  </thead>\n",
       "  <tbody>\n",
       "  </tbody>\n",
       "</table>\n",
       "</div>"
      ],
      "text/plain": [
       "Empty DataFrame\n",
       "Columns: [id, source, sentence_1, sentence_2, label, binary-label, sent1_len, sent2_len]\n",
       "Index: []"
      ]
     },
     "execution_count": 136,
     "metadata": {},
     "output_type": "execute_result"
    }
   ],
   "source": [
    "train_df[train_df.duplicated(['sentence_1', 'sentence_2'])]"
   ]
  },
  {
   "cell_type": "code",
   "execution_count": 129,
   "id": "e22cf1e4-9e0f-4404-ade6-b63c8db6562c",
   "metadata": {
    "tags": []
   },
   "outputs": [],
   "source": [
    "# 중복값 제거\n",
    "train_df = train_df.drop_duplicates(subset=['sentence_1', 'sentence_2'])\n",
    "dev_df = dev_df.drop_duplicates(subset=['sentence_1', 'sentence_2'])\n",
    "# test set에 대해서는 중복값을 제거하지 않겠다."
   ]
  },
  {
   "cell_type": "code",
   "execution_count": 130,
   "id": "2e2cba4a-74d3-485e-9168-d9741cab3df9",
   "metadata": {
    "tags": []
   },
   "outputs": [
    {
     "data": {
      "text/plain": [
       "(45, 6)"
      ]
     },
     "execution_count": 130,
     "metadata": {},
     "output_type": "execute_result"
    }
   ],
   "source": [
    "# 실습..\n",
    "# sentence_1과 sentence_2가 같은 경우 확인\n",
    "train_df[train_df['sentence_1']==train_df['sentence_2']].shape"
   ]
  },
  {
   "cell_type": "code",
   "execution_count": 44,
   "id": "1440e6c7-af22-45e5-a2a1-41320719566d",
   "metadata": {
    "tags": []
   },
   "outputs": [
    {
     "data": {
      "text/html": [
       "<div>\n",
       "<style scoped>\n",
       "    .dataframe tbody tr th:only-of-type {\n",
       "        vertical-align: middle;\n",
       "    }\n",
       "\n",
       "    .dataframe tbody tr th {\n",
       "        vertical-align: top;\n",
       "    }\n",
       "\n",
       "    .dataframe thead th {\n",
       "        text-align: right;\n",
       "    }\n",
       "</style>\n",
       "<table border=\"1\" class=\"dataframe\">\n",
       "  <thead>\n",
       "    <tr style=\"text-align: right;\">\n",
       "      <th></th>\n",
       "      <th>id</th>\n",
       "      <th>source</th>\n",
       "      <th>sentence_1</th>\n",
       "      <th>sentence_2</th>\n",
       "      <th>label</th>\n",
       "      <th>binary-label</th>\n",
       "    </tr>\n",
       "  </thead>\n",
       "  <tbody>\n",
       "    <tr>\n",
       "      <th>7930</th>\n",
       "      <td>boostcamp-sts-v1-train-7930</td>\n",
       "      <td>petition-sampled</td>\n",
       "      <td>이명박의 출국금지를 청원합니다</td>\n",
       "      <td>이명박의 출국금지를 청원합니다</td>\n",
       "      <td>5.0</td>\n",
       "      <td>1.0</td>\n",
       "    </tr>\n",
       "    <tr>\n",
       "      <th>3648</th>\n",
       "      <td>boostcamp-sts-v1-train-3648</td>\n",
       "      <td>nsmc-rtt</td>\n",
       "      <td>이미지로 말하는 감독 이명세</td>\n",
       "      <td>이미지로 말하는 이명세 감독</td>\n",
       "      <td>5.0</td>\n",
       "      <td>1.0</td>\n",
       "    </tr>\n",
       "    <tr>\n",
       "      <th>6397</th>\n",
       "      <td>boostcamp-sts-v1-train-6397</td>\n",
       "      <td>petition-sampled</td>\n",
       "      <td>이명박 출국금지를 청원합니다</td>\n",
       "      <td>이명박 출금금지를 청원합니다</td>\n",
       "      <td>5.0</td>\n",
       "      <td>1.0</td>\n",
       "    </tr>\n",
       "    <tr>\n",
       "      <th>4740</th>\n",
       "      <td>boostcamp-sts-v1-train-4740</td>\n",
       "      <td>petition-sampled</td>\n",
       "      <td>수능시험 온라인 접수, 응지 지역 자유</td>\n",
       "      <td>수능시험 온라인 접수, 응시지역 자유</td>\n",
       "      <td>5.0</td>\n",
       "      <td>1.0</td>\n",
       "    </tr>\n",
       "    <tr>\n",
       "      <th>2393</th>\n",
       "      <td>boostcamp-sts-v1-train-2393</td>\n",
       "      <td>petition-rtt</td>\n",
       "      <td>학교 교사의 권위를 세워주세요.</td>\n",
       "      <td>학교 교사의 권위를 세워주세요.</td>\n",
       "      <td>5.0</td>\n",
       "      <td>1.0</td>\n",
       "    </tr>\n",
       "    <tr>\n",
       "      <th>760</th>\n",
       "      <td>boostcamp-sts-v1-train-760</td>\n",
       "      <td>nsmc-rtt</td>\n",
       "      <td>그냥 재미없음</td>\n",
       "      <td>그냥 재미없음</td>\n",
       "      <td>5.0</td>\n",
       "      <td>1.0</td>\n",
       "    </tr>\n",
       "    <tr>\n",
       "      <th>4833</th>\n",
       "      <td>boostcamp-sts-v1-train-4833</td>\n",
       "      <td>petition-sampled</td>\n",
       "      <td>이명박 전 대통령 출국금지시켜주세요.</td>\n",
       "      <td>이명박 전 대통령을 출국금지시켜주세요.</td>\n",
       "      <td>5.0</td>\n",
       "      <td>1.0</td>\n",
       "    </tr>\n",
       "    <tr>\n",
       "      <th>5457</th>\n",
       "      <td>boostcamp-sts-v1-train-5457</td>\n",
       "      <td>petition-rtt</td>\n",
       "      <td>경산 대부 비행장 허가를 원합니다!</td>\n",
       "      <td>경산 대부 비행장 허가를 원합니다!</td>\n",
       "      <td>5.0</td>\n",
       "      <td>1.0</td>\n",
       "    </tr>\n",
       "    <tr>\n",
       "      <th>5240</th>\n",
       "      <td>boostcamp-sts-v1-train-5240</td>\n",
       "      <td>petition-sampled</td>\n",
       "      <td>청소년법 폐지해 주세요!</td>\n",
       "      <td>청소년법 폐지해 주세요!!</td>\n",
       "      <td>5.0</td>\n",
       "      <td>1.0</td>\n",
       "    </tr>\n",
       "    <tr>\n",
       "      <th>6797</th>\n",
       "      <td>boostcamp-sts-v1-train-6797</td>\n",
       "      <td>petition-rtt</td>\n",
       "      <td>삼성 에어컨 실외기 리콜 청원</td>\n",
       "      <td>삼성 에어컨 실외기 리콜 청원</td>\n",
       "      <td>5.0</td>\n",
       "      <td>1.0</td>\n",
       "    </tr>\n",
       "  </tbody>\n",
       "</table>\n",
       "</div>"
      ],
      "text/plain": [
       "                               id            source             sentence_1  \\\n",
       "7930  boostcamp-sts-v1-train-7930  petition-sampled       이명박의 출국금지를 청원합니다   \n",
       "3648  boostcamp-sts-v1-train-3648          nsmc-rtt        이미지로 말하는 감독 이명세   \n",
       "6397  boostcamp-sts-v1-train-6397  petition-sampled        이명박 출국금지를 청원합니다   \n",
       "4740  boostcamp-sts-v1-train-4740  petition-sampled  수능시험 온라인 접수, 응지 지역 자유   \n",
       "2393  boostcamp-sts-v1-train-2393      petition-rtt      학교 교사의 권위를 세워주세요.   \n",
       "760    boostcamp-sts-v1-train-760          nsmc-rtt                그냥 재미없음   \n",
       "4833  boostcamp-sts-v1-train-4833  petition-sampled   이명박 전 대통령 출국금지시켜주세요.   \n",
       "5457  boostcamp-sts-v1-train-5457      petition-rtt    경산 대부 비행장 허가를 원합니다!   \n",
       "5240  boostcamp-sts-v1-train-5240  petition-sampled          청소년법 폐지해 주세요!   \n",
       "6797  boostcamp-sts-v1-train-6797      petition-rtt       삼성 에어컨 실외기 리콜 청원   \n",
       "\n",
       "                 sentence_2  label  binary-label  \n",
       "7930       이명박의 출국금지를 청원합니다    5.0           1.0  \n",
       "3648        이미지로 말하는 이명세 감독    5.0           1.0  \n",
       "6397        이명박 출금금지를 청원합니다    5.0           1.0  \n",
       "4740   수능시험 온라인 접수, 응시지역 자유    5.0           1.0  \n",
       "2393      학교 교사의 권위를 세워주세요.    5.0           1.0  \n",
       "760                 그냥 재미없음    5.0           1.0  \n",
       "4833  이명박 전 대통령을 출국금지시켜주세요.    5.0           1.0  \n",
       "5457    경산 대부 비행장 허가를 원합니다!    5.0           1.0  \n",
       "5240         청소년법 폐지해 주세요!!    5.0           1.0  \n",
       "6797       삼성 에어컨 실외기 리콜 청원    5.0           1.0  "
      ]
     },
     "execution_count": 44,
     "metadata": {},
     "output_type": "execute_result"
    }
   ],
   "source": [
    "train_df[train_df['label'] == 5.0].sample(10)"
   ]
  },
  {
   "cell_type": "code",
   "execution_count": 51,
   "id": "d8d5bbda-f1a2-4616-87c0-286951b38bb5",
   "metadata": {
    "tags": []
   },
   "outputs": [
    {
     "data": {
      "text/html": [
       "<div>\n",
       "<style scoped>\n",
       "    .dataframe tbody tr th:only-of-type {\n",
       "        vertical-align: middle;\n",
       "    }\n",
       "\n",
       "    .dataframe tbody tr th {\n",
       "        vertical-align: top;\n",
       "    }\n",
       "\n",
       "    .dataframe thead th {\n",
       "        text-align: right;\n",
       "    }\n",
       "</style>\n",
       "<table border=\"1\" class=\"dataframe\">\n",
       "  <thead>\n",
       "    <tr style=\"text-align: right;\">\n",
       "      <th></th>\n",
       "      <th>id</th>\n",
       "      <th>source</th>\n",
       "      <th>sentence_1</th>\n",
       "      <th>sentence_2</th>\n",
       "      <th>label</th>\n",
       "      <th>binary-label</th>\n",
       "    </tr>\n",
       "  </thead>\n",
       "  <tbody>\n",
       "    <tr>\n",
       "      <th>77</th>\n",
       "      <td>boostcamp-sts-v1-dev-077</td>\n",
       "      <td>slack-sampled</td>\n",
       "      <td>다음에 또 뵐게요</td>\n",
       "      <td>다음에 또 뵐게요</td>\n",
       "      <td>5.0</td>\n",
       "      <td>1.0</td>\n",
       "    </tr>\n",
       "    <tr>\n",
       "      <th>90</th>\n",
       "      <td>boostcamp-sts-v1-dev-090</td>\n",
       "      <td>petition-sampled</td>\n",
       "      <td>청소년보호법 개정해 주세요</td>\n",
       "      <td>청소년보호법 개정해 주세요</td>\n",
       "      <td>5.0</td>\n",
       "      <td>1.0</td>\n",
       "    </tr>\n",
       "    <tr>\n",
       "      <th>181</th>\n",
       "      <td>boostcamp-sts-v1-dev-181</td>\n",
       "      <td>petition-sampled</td>\n",
       "      <td>외상 센터 지원해 주세요</td>\n",
       "      <td>외상 센터 지원해 주세요</td>\n",
       "      <td>5.0</td>\n",
       "      <td>1.0</td>\n",
       "    </tr>\n",
       "    <tr>\n",
       "      <th>228</th>\n",
       "      <td>boostcamp-sts-v1-dev-228</td>\n",
       "      <td>petition-rtt</td>\n",
       "      <td>성범죄 처벌 강화 청원의 문제점</td>\n",
       "      <td>성범죄 처벌 강화 청원의 문제점</td>\n",
       "      <td>5.0</td>\n",
       "      <td>1.0</td>\n",
       "    </tr>\n",
       "    <tr>\n",
       "      <th>281</th>\n",
       "      <td>boostcamp-sts-v1-dev-281</td>\n",
       "      <td>petition-rtt</td>\n",
       "      <td>대구 모.. 초등학교의 끔찍한 단면</td>\n",
       "      <td>대구 모.. 초등학교의 끔찍한 단면</td>\n",
       "      <td>5.0</td>\n",
       "      <td>1.0</td>\n",
       "    </tr>\n",
       "    <tr>\n",
       "      <th>282</th>\n",
       "      <td>boostcamp-sts-v1-dev-282</td>\n",
       "      <td>petition-sampled</td>\n",
       "      <td>초등 돌봄교실 지자체 이관 반대</td>\n",
       "      <td>초등 돌봄교실 지자체 이관 반대</td>\n",
       "      <td>4.8</td>\n",
       "      <td>1.0</td>\n",
       "    </tr>\n",
       "    <tr>\n",
       "      <th>324</th>\n",
       "      <td>boostcamp-sts-v1-dev-324</td>\n",
       "      <td>petition-sampled</td>\n",
       "      <td>이명박 출국금지 청원</td>\n",
       "      <td>이명박 출국금지 청원</td>\n",
       "      <td>5.0</td>\n",
       "      <td>1.0</td>\n",
       "    </tr>\n",
       "    <tr>\n",
       "      <th>439</th>\n",
       "      <td>boostcamp-sts-v1-dev-439</td>\n",
       "      <td>petition-sampled</td>\n",
       "      <td>조두순 출소 결사반대</td>\n",
       "      <td>조두순 출소 결사반대</td>\n",
       "      <td>5.0</td>\n",
       "      <td>1.0</td>\n",
       "    </tr>\n",
       "    <tr>\n",
       "      <th>502</th>\n",
       "      <td>boostcamp-sts-v1-dev-502</td>\n",
       "      <td>petition-sampled</td>\n",
       "      <td>자유한 당 나경원 파면</td>\n",
       "      <td>자유한 당 나경원 파면</td>\n",
       "      <td>5.0</td>\n",
       "      <td>1.0</td>\n",
       "    </tr>\n",
       "    <tr>\n",
       "      <th>514</th>\n",
       "      <td>boostcamp-sts-v1-dev-514</td>\n",
       "      <td>petition-rtt</td>\n",
       "      <td>중소기업 지원 제도 폐지</td>\n",
       "      <td>중소기업 지원 제도 폐지</td>\n",
       "      <td>5.0</td>\n",
       "      <td>1.0</td>\n",
       "    </tr>\n",
       "  </tbody>\n",
       "</table>\n",
       "</div>"
      ],
      "text/plain": [
       "                           id            source           sentence_1  \\\n",
       "77   boostcamp-sts-v1-dev-077     slack-sampled            다음에 또 뵐게요   \n",
       "90   boostcamp-sts-v1-dev-090  petition-sampled       청소년보호법 개정해 주세요   \n",
       "181  boostcamp-sts-v1-dev-181  petition-sampled        외상 센터 지원해 주세요   \n",
       "228  boostcamp-sts-v1-dev-228      petition-rtt    성범죄 처벌 강화 청원의 문제점   \n",
       "281  boostcamp-sts-v1-dev-281      petition-rtt  대구 모.. 초등학교의 끔찍한 단면   \n",
       "282  boostcamp-sts-v1-dev-282  petition-sampled    초등 돌봄교실 지자체 이관 반대   \n",
       "324  boostcamp-sts-v1-dev-324  petition-sampled          이명박 출국금지 청원   \n",
       "439  boostcamp-sts-v1-dev-439  petition-sampled          조두순 출소 결사반대   \n",
       "502  boostcamp-sts-v1-dev-502  petition-sampled         자유한 당 나경원 파면   \n",
       "514  boostcamp-sts-v1-dev-514      petition-rtt        중소기업 지원 제도 폐지   \n",
       "\n",
       "              sentence_2  label  binary-label  \n",
       "77             다음에 또 뵐게요    5.0           1.0  \n",
       "90        청소년보호법 개정해 주세요    5.0           1.0  \n",
       "181        외상 센터 지원해 주세요    5.0           1.0  \n",
       "228    성범죄 처벌 강화 청원의 문제점    5.0           1.0  \n",
       "281  대구 모.. 초등학교의 끔찍한 단면    5.0           1.0  \n",
       "282    초등 돌봄교실 지자체 이관 반대    4.8           1.0  \n",
       "324          이명박 출국금지 청원    5.0           1.0  \n",
       "439          조두순 출소 결사반대    5.0           1.0  \n",
       "502         자유한 당 나경원 파면    5.0           1.0  \n",
       "514        중소기업 지원 제도 폐지    5.0           1.0  "
      ]
     },
     "execution_count": 51,
     "metadata": {},
     "output_type": "execute_result"
    }
   ],
   "source": [
    "# sentence_1과 sentence_2가 같은 경우 확인\n",
    "dev_df[dev_df['sentence_1']==dev_df['sentence_2']]"
   ]
  },
  {
   "cell_type": "markdown",
   "id": "10ed409b-a866-4ec6-a349-39c061c00a41",
   "metadata": {},
   "source": [
    "## 6. 1차 저장\n",
    "\n",
    "맞춤법을 교정한 데이터에 대해 문장 길이 정보 column을 추가로 넣은 후 저장하겠다."
   ]
  },
  {
   "cell_type": "code",
   "execution_count": 131,
   "id": "6243a505-56be-4570-945c-81a29881b628",
   "metadata": {
    "tags": []
   },
   "outputs": [],
   "source": [
    "train_df['sent1_len'] = dev_df.sentence_1.str.len()\n",
    "train_df['sent2_len'] = dev_df.sentence_2.str.len()\n",
    "dev_df['sent1_len'] = dev_df.sentence_1.str.len()\n",
    "dev_df['sent2_len'] = dev_df.sentence_2.str.len()"
   ]
  },
  {
   "cell_type": "code",
   "execution_count": 132,
   "id": "a5fa80ae-cc58-4963-b450-785b1edf54a5",
   "metadata": {
    "tags": []
   },
   "outputs": [],
   "source": [
    "if not os.path.isdir(\"./new_data\"):\n",
    "    os.makedirs(\"./new_data\")\n",
    "train_df.to_csv(\"./new_data/train.csv\")\n",
    "dev_df.to_csv(\"./new_data/dev.csv\")\n",
    "test_df.to_csv(\"./new_data/test.csv\")"
   ]
  },
  {
   "cell_type": "markdown",
   "id": "2e8be9c6-a936-406a-bd8d-1643356fd23d",
   "metadata": {},
   "source": [
    "## 7. Mecab을 활용한 형태소 분리\n",
    "형태소 분리 후 불필요한 조사, 어미를 제거할 수도 있겠다. 라이브러리는 빠르고 좋은 성능을 보여주는 `Mecab`을 사용할 수 있다.\n"
   ]
  },
  {
   "cell_type": "code",
   "execution_count": 138,
   "id": "36e5cb32-11af-421d-9b20-0670703ebf3d",
   "metadata": {
    "tags": []
   },
   "outputs": [
    {
     "name": "stdout",
     "output_type": "stream",
     "text": [
      "Requirement already satisfied: python-mecab-ko in /opt/conda/lib/python3.8/site-packages (1.3.3)\n",
      "Requirement already satisfied: python-mecab-ko-dic in /opt/conda/lib/python3.8/site-packages (from python-mecab-ko) (2.1.1.post2)\n",
      "\u001b[33mWARNING: Running pip as the 'root' user can result in broken permissions and conflicting behaviour with the system package manager. It is recommended to use a virtual environment instead: https://pip.pypa.io/warnings/venv\u001b[0m\u001b[33m\n",
      "\u001b[0m"
     ]
    }
   ],
   "source": [
    "!pip3 install python-mecab-ko"
   ]
  },
  {
   "cell_type": "code",
   "execution_count": 75,
   "id": "eab680f3-b027-42ba-85f9-3fa26bbc25bf",
   "metadata": {
    "tags": []
   },
   "outputs": [
    {
     "data": {
      "text/plain": [
       "[('ㅋㅋㅋ', 'IC'),\n",
       " ('진짜', 'MAG'),\n",
       " ('너무', 'MAG'),\n",
       " ('한', 'XSA+ETM'),\n",
       " ('거', 'NNB'),\n",
       " ('아닌가', 'VCN+EF'),\n",
       " ('ㅋㅋㅋ', 'IC'),\n",
       " ('나', 'NP'),\n",
       " ('는', 'JX'),\n",
       " ('슬퍼요', 'VA+EF'),\n",
       " ('.', 'SF'),\n",
       " ('.', 'SF')]"
      ]
     },
     "execution_count": 75,
     "metadata": {},
     "output_type": "execute_result"
    }
   ],
   "source": [
    "import mecab\n",
    "m = mecab.MeCab()\n",
    "m.pos('ㅋㅋㅋ진짜너무한거아닌가ㅋㅋㅋ 나는 슬퍼요..')"
   ]
  },
  {
   "cell_type": "code",
   "execution_count": 77,
   "id": "3d9588a3-ecbe-454c-9610-ea992555b0cc",
   "metadata": {
    "tags": []
   },
   "outputs": [
    {
     "name": "stdout",
     "output_type": "stream",
     "text": [
      "<PERSON>님ㅋㅋㅋ 아 너무 웃긴데ㅋㅋㅋ 나는 슬퍼요..\n",
      "['<', 'PERSON', '>', '님', 'ㅋㅋㅋ', '아', '너무', '웃긴데', 'ㅋㅋㅋ', '나', '슬퍼요', '.', '.']\n"
     ]
    },
    {
     "data": {
      "text/plain": [
       "'<PERSON>님ㅋㅋㅋ 아 너무 웃긴데ㅋㅋㅋ 나 슬퍼요..'"
      ]
     },
     "execution_count": 77,
     "metadata": {},
     "output_type": "execute_result"
    }
   ],
   "source": [
    "# 조사와 어미를 제거해보자. \n",
    "sentence = '<PERSON>님ㅋㅋㅋ아너무웃긴데ㅋㅋㅋ 나는 슬퍼요..'\n",
    "print(spell_checker.check(sentence).checked)\n",
    "arr = []\n",
    "for token, tag in m.pos(sentence):\n",
    "    if not tag.startswith('J') and not tag.startswith('E'):\n",
    "        arr.append(token)\n",
    "print(arr)\n",
    "spell_checker.check(''.join(arr)).checked"
   ]
  },
  {
   "cell_type": "code",
   "execution_count": 51,
   "id": "2a12ccb7-ddb4-445c-8b9b-01c722de5019",
   "metadata": {
    "tags": []
   },
   "outputs": [
    {
     "data": {
      "text/plain": [
       "0.0    2119\n",
       "0.2     345\n",
       "0.4     482\n",
       "0.5      35\n",
       "0.6     372\n",
       "0.8     358\n",
       "1.0     342\n",
       "1.2     332\n",
       "1.4     254\n",
       "1.5      22\n",
       "1.6     172\n",
       "1.8     246\n",
       "2.0     236\n",
       "2.2     190\n",
       "2.4     187\n",
       "2.5      22\n",
       "2.6     235\n",
       "2.8     267\n",
       "3.0     283\n",
       "3.2     270\n",
       "3.4     279\n",
       "3.5      31\n",
       "3.6     400\n",
       "3.8     452\n",
       "4.0     516\n",
       "4.2     426\n",
       "4.4     209\n",
       "4.5      11\n",
       "4.6      81\n",
       "4.8      59\n",
       "5.0      91\n",
       "Name: label, dtype: int64"
      ]
     },
     "execution_count": 51,
     "metadata": {},
     "output_type": "execute_result"
    }
   ],
   "source": [
    "# 아래 결과와 같이, 0.0 점수에 데이터가 몰려있는 것을 확인할 수 있다.\n",
    "# grouped_df = train_df.groupby('source')\n",
    "# grouped_df['label'].value_counts().sort_index()\n",
    "train_df['label'].value_counts().sort_index()"
   ]
  },
  {
   "cell_type": "code",
   "execution_count": null,
   "id": "bc4a20b8-cb16-43ca-8284-56692babbaa6",
   "metadata": {},
   "outputs": [
    {
     "data": {
      "text/plain": [
       "('destiny', '운명')"
      ]
     },
     "execution_count": 35,
     "metadata": {},
     "output_type": "execute_result"
    }
   ],
   "source": [
    "idx = np.argmin(temp['sent2_len'])\n",
    "temp['sentence_1'].iloc[idx], temp['sentence_2'].iloc[idx]"
   ]
  },
  {
   "cell_type": "markdown",
   "id": "5a96f9b7-9f9e-4aa6-8cb0-f3a01a51d35b",
   "metadata": {},
   "source": [
    "## 8. 추가로 변형한 데이터셋을 만들기 위해 준비."
   ]
  },
  {
   "cell_type": "code",
   "execution_count": 85,
   "id": "78beefbd-e04e-4533-9ddc-32817e3eea52",
   "metadata": {
    "tags": []
   },
   "outputs": [],
   "source": [
    "def mecab_preprocess(df):\n",
    "    def _mecab_preprocess(sentence):\n",
    "        m = mecab.MeCab()\n",
    "        arr = []\n",
    "        for token, tag in m.pos(sentence):\n",
    "            if not tag.startswith('J') and not tag.startswith('E'):\n",
    "                arr.append(token)\n",
    "        return ''.join(arr)\n",
    "    df.sentence_1 = df.sentence_1.map(_mecab_preprocess)\n",
    "    df.sentence_2 = df.sentence_2.map(_mecab_preprocess)\n",
    "    return df"
   ]
  },
  {
   "cell_type": "code",
   "execution_count": 91,
   "id": "a170d6f7-11d5-4bc6-8c76-c25e003ea1f3",
   "metadata": {
    "tags": []
   },
   "outputs": [],
   "source": [
    "train_df = mecab_preprocess(train_df)\n",
    "dev_df = mecab_preprocess(dev_df)\n",
    "test_df = mecab_preprocess(test_df)"
   ]
  },
  {
   "cell_type": "code",
   "execution_count": 92,
   "id": "56deefa8-c595-4f28-871d-92bb20a2c3f2",
   "metadata": {
    "tags": []
   },
   "outputs": [],
   "source": [
    "train_df['sent1_len'] = dev_df.sentence_1.str.len()\n",
    "train_df['sent2_len'] = dev_df.sentence_2.str.len()\n",
    "dev_df['sent1_len'] = dev_df.sentence_1.str.len()\n",
    "dev_df['sent2_len'] = dev_df.sentence_2.str.len()"
   ]
  },
  {
   "cell_type": "code",
   "execution_count": 93,
   "id": "062c0008-a62d-48a6-8255-6c958fffc82e",
   "metadata": {
    "tags": []
   },
   "outputs": [],
   "source": [
    "if not os.path.isdir(\"./new_data2\"):\n",
    "    os.makedirs(\"./new_data2\")\n",
    "train_df.to_csv(\"./new_data2/train.csv\")\n",
    "dev_df.to_csv(\"./new_data2/dev.csv\")\n",
    "test_df.to_csv(\"./new_data2/test.csv\")"
   ]
  },
  {
   "cell_type": "code",
   "execution_count": 107,
   "id": "aa523765-7920-4689-ac39-eb11b5ddc2e4",
   "metadata": {
    "tags": []
   },
   "outputs": [
    {
     "data": {
      "text/html": [
       "<div>\n",
       "<style scoped>\n",
       "    .dataframe tbody tr th:only-of-type {\n",
       "        vertical-align: middle;\n",
       "    }\n",
       "\n",
       "    .dataframe tbody tr th {\n",
       "        vertical-align: top;\n",
       "    }\n",
       "\n",
       "    .dataframe thead th {\n",
       "        text-align: right;\n",
       "    }\n",
       "</style>\n",
       "<table border=\"1\" class=\"dataframe\">\n",
       "  <thead>\n",
       "    <tr style=\"text-align: right;\">\n",
       "      <th></th>\n",
       "      <th>id</th>\n",
       "      <th>source</th>\n",
       "      <th>sentence_1</th>\n",
       "      <th>sentence_2</th>\n",
       "      <th>label</th>\n",
       "      <th>binary-label</th>\n",
       "      <th>sent1_len</th>\n",
       "      <th>sent2_len</th>\n",
       "    </tr>\n",
       "  </thead>\n",
       "  <tbody>\n",
       "    <tr>\n",
       "      <th>7930</th>\n",
       "      <td>boostcamp-sts-v1-train-7930</td>\n",
       "      <td>petition-sampled</td>\n",
       "      <td>이명박출국금지청원합니다</td>\n",
       "      <td>이명박출국금지청원합니다</td>\n",
       "      <td>5.0</td>\n",
       "      <td>1.0</td>\n",
       "      <td>NaN</td>\n",
       "      <td>NaN</td>\n",
       "    </tr>\n",
       "    <tr>\n",
       "      <th>6082</th>\n",
       "      <td>boostcamp-sts-v1-train-6082</td>\n",
       "      <td>petition-sampled</td>\n",
       "      <td>조두순출소반대합니다</td>\n",
       "      <td>조두순출소반대합니다.</td>\n",
       "      <td>5.0</td>\n",
       "      <td>1.0</td>\n",
       "      <td>NaN</td>\n",
       "      <td>NaN</td>\n",
       "    </tr>\n",
       "    <tr>\n",
       "      <th>8151</th>\n",
       "      <td>boostcamp-sts-v1-train-8151</td>\n",
       "      <td>petition-sampled</td>\n",
       "      <td>청소년법폐지해주</td>\n",
       "      <td>청소년보호법폐지해주</td>\n",
       "      <td>3.8</td>\n",
       "      <td>1.0</td>\n",
       "      <td>NaN</td>\n",
       "      <td>NaN</td>\n",
       "    </tr>\n",
       "    <tr>\n",
       "      <th>8958</th>\n",
       "      <td>boostcamp-sts-v1-train-8958</td>\n",
       "      <td>petition-rtt</td>\n",
       "      <td>청소년법폐지해주</td>\n",
       "      <td>청소년법폐지해주</td>\n",
       "      <td>4.2</td>\n",
       "      <td>1.0</td>\n",
       "      <td>NaN</td>\n",
       "      <td>NaN</td>\n",
       "    </tr>\n",
       "  </tbody>\n",
       "</table>\n",
       "</div>"
      ],
      "text/plain": [
       "                               id            source    sentence_1  \\\n",
       "7930  boostcamp-sts-v1-train-7930  petition-sampled  이명박출국금지청원합니다   \n",
       "6082  boostcamp-sts-v1-train-6082  petition-sampled    조두순출소반대합니다   \n",
       "8151  boostcamp-sts-v1-train-8151  petition-sampled      청소년법폐지해주   \n",
       "8958  boostcamp-sts-v1-train-8958      petition-rtt      청소년법폐지해주   \n",
       "\n",
       "        sentence_2  label  binary-label  sent1_len  sent2_len  \n",
       "7930  이명박출국금지청원합니다    5.0           1.0        NaN        NaN  \n",
       "6082   조두순출소반대합니다.    5.0           1.0        NaN        NaN  \n",
       "8151    청소년보호법폐지해주    3.8           1.0        NaN        NaN  \n",
       "8958      청소년법폐지해주    4.2           1.0        NaN        NaN  "
      ]
     },
     "execution_count": 107,
     "metadata": {},
     "output_type": "execute_result"
    }
   ],
   "source": [
    "train_df[train_df.duplicated(['sentence_1', 'sentence_2'])].sort_values(by=['sentence_1'])"
   ]
  },
  {
   "cell_type": "code",
   "execution_count": null,
   "id": "dfbc96fa-8939-470f-b20e-1a1441b74eb8",
   "metadata": {},
   "outputs": [],
   "source": []
  }
 ],
 "metadata": {
  "kernelspec": {
   "display_name": "Python 3 (ipykernel)",
   "language": "python",
   "name": "python3"
  },
  "language_info": {
   "codemirror_mode": {
    "name": "ipython",
    "version": 3
   },
   "file_extension": ".py",
   "mimetype": "text/x-python",
   "name": "python",
   "nbconvert_exporter": "python",
   "pygments_lexer": "ipython3",
   "version": "3.8.5"
  },
  "toc-showtags": false
 },
 "nbformat": 4,
 "nbformat_minor": 5
}
