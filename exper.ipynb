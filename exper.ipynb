{
 "cells": [
  {
   "cell_type": "code",
   "execution_count": 1,
   "metadata": {},
   "outputs": [
    {
     "data": {
      "text/plain": [
       "'b'"
      ]
     },
     "execution_count": 1,
     "metadata": {},
     "output_type": "execute_result"
    }
   ],
   "source": [
    "a=['a','b']\n",
    "a[1]"
   ]
  },
  {
   "cell_type": "code",
   "execution_count": 2,
   "metadata": {},
   "outputs": [],
   "source": [
    "import os\n",
    "import pandas as pd\n",
    "import numpy as np\n",
    "import matplotlib.pyplot as plt"
   ]
  },
  {
   "attachments": {},
   "cell_type": "markdown",
   "metadata": {},
   "source": [
    "#rtt 전처리된 데이터 추가"
   ]
  },
  {
   "cell_type": "code",
   "execution_count": 10,
   "metadata": {},
   "outputs": [],
   "source": [
    "df1=pd.read_csv('./add_data/add.csv')\n",
    "df2=pd.read_csv('./data/original/train.csv')"
   ]
  },
  {
   "cell_type": "code",
   "execution_count": 11,
   "metadata": {},
   "outputs": [],
   "source": [
    "df1.drop(['Unnamed: 0.2','Unnamed: 0.1','Unnamed: 0'],axis=1,inplace=True)"
   ]
  },
  {
   "cell_type": "code",
   "execution_count": 12,
   "metadata": {},
   "outputs": [],
   "source": [
    "df = pd.concat([df1, df2])\n",
    "# 중복 데이터 제거\n",
    "df = df.drop_duplicates(subset=['sentence_1','sentence_2'])"
   ]
  },
  {
   "cell_type": "code",
   "execution_count": 13,
   "metadata": {},
   "outputs": [
    {
     "data": {
      "text/html": [
       "<div>\n",
       "<style scoped>\n",
       "    .dataframe tbody tr th:only-of-type {\n",
       "        vertical-align: middle;\n",
       "    }\n",
       "\n",
       "    .dataframe tbody tr th {\n",
       "        vertical-align: top;\n",
       "    }\n",
       "\n",
       "    .dataframe thead th {\n",
       "        text-align: right;\n",
       "    }\n",
       "</style>\n",
       "<table border=\"1\" class=\"dataframe\">\n",
       "  <thead>\n",
       "    <tr style=\"text-align: right;\">\n",
       "      <th></th>\n",
       "      <th>id</th>\n",
       "      <th>source</th>\n",
       "      <th>sentence_1</th>\n",
       "      <th>sentence_2</th>\n",
       "      <th>label</th>\n",
       "      <th>binary-label</th>\n",
       "    </tr>\n",
       "  </thead>\n",
       "  <tbody>\n",
       "    <tr>\n",
       "      <th>0</th>\n",
       "      <td>boostcamp-sts-v1-train-000</td>\n",
       "      <td>nsmc-sampled-s1-rtted</td>\n",
       "      <td>스릴과 반전이 있고, 여타 쓰레기 같은 한국영화와는 차원이 다르다.</td>\n",
       "      <td>반전도 있고,사랑도 있고재미도있네요.</td>\n",
       "      <td>2.1</td>\n",
       "      <td>0.0</td>\n",
       "    </tr>\n",
       "    <tr>\n",
       "      <th>1</th>\n",
       "      <td>boostcamp-sts-v1-train-002</td>\n",
       "      <td>petition-sampled-s1-rtted</td>\n",
       "      <td>입주신청 조건을 변경해 주세요.</td>\n",
       "      <td>주택청약 무주택기준 변경해주세요.</td>\n",
       "      <td>1.0</td>\n",
       "      <td>0.0</td>\n",
       "    </tr>\n",
       "    <tr>\n",
       "      <th>2</th>\n",
       "      <td>boostcamp-sts-v1-train-004</td>\n",
       "      <td>slack-sampled-s1-rtted</td>\n",
       "      <td>정말 자랑스럽습니다!!</td>\n",
       "      <td>꼬옥 실제로 한번 뵈어요 뿌뿌뿌~!~!</td>\n",
       "      <td>-0.1</td>\n",
       "      <td>0.0</td>\n",
       "    </tr>\n",
       "    <tr>\n",
       "      <th>3</th>\n",
       "      <td>boostcamp-sts-v1-train-007</td>\n",
       "      <td>nsmc-sampled-s1-rtted</td>\n",
       "      <td>이렇게 귀여운 쥐는 처음 봅니다.</td>\n",
       "      <td>이렇게 지겨운 공포영화는 처음..</td>\n",
       "      <td>0.6</td>\n",
       "      <td>0.0</td>\n",
       "    </tr>\n",
       "    <tr>\n",
       "      <th>4</th>\n",
       "      <td>boostcamp-sts-v1-train-008</td>\n",
       "      <td>petition-sampled-s1-rtted</td>\n",
       "      <td>미세먼지 해결이 가장 시급한 문제!</td>\n",
       "      <td>가장 시급한 것이 신생아실 관리입니다!!!</td>\n",
       "      <td>0.3</td>\n",
       "      <td>0.0</td>\n",
       "    </tr>\n",
       "    <tr>\n",
       "      <th>...</th>\n",
       "      <td>...</td>\n",
       "      <td>...</td>\n",
       "      <td>...</td>\n",
       "      <td>...</td>\n",
       "      <td>...</td>\n",
       "      <td>...</td>\n",
       "    </tr>\n",
       "    <tr>\n",
       "      <th>9319</th>\n",
       "      <td>boostcamp-sts-v1-train-9319</td>\n",
       "      <td>petition-sampled</td>\n",
       "      <td>교원능력개발평가에서 교원이 보호받을 수 있는 장치를 마련해야합니다</td>\n",
       "      <td>본인이 납부한 국민연금 금액을 기준으로 대출을 받을 수 있는 제도를 마련해 주세요</td>\n",
       "      <td>0.2</td>\n",
       "      <td>0.0</td>\n",
       "    </tr>\n",
       "    <tr>\n",
       "      <th>9320</th>\n",
       "      <td>boostcamp-sts-v1-train-9320</td>\n",
       "      <td>petition-sampled</td>\n",
       "      <td>여성가족부의 폐지를 원합니드</td>\n",
       "      <td>여성가족부 폐지를 청원 합니다.</td>\n",
       "      <td>4.2</td>\n",
       "      <td>1.0</td>\n",
       "    </tr>\n",
       "    <tr>\n",
       "      <th>9321</th>\n",
       "      <td>boostcamp-sts-v1-train-9321</td>\n",
       "      <td>petition-sampled</td>\n",
       "      <td>국회의원들 월급좀 줄여주세요</td>\n",
       "      <td>공무원 봉급좀 줄이지좀 마세요</td>\n",
       "      <td>0.6</td>\n",
       "      <td>0.0</td>\n",
       "    </tr>\n",
       "    <tr>\n",
       "      <th>9322</th>\n",
       "      <td>boostcamp-sts-v1-train-9322</td>\n",
       "      <td>slack-sampled</td>\n",
       "      <td>오늘 못한 점심은 다음에 다시 츄라이 하기로 해요!!</td>\n",
       "      <td>오늘 못먹은 밥은 꼭 담에 먹기로 하고요!!</td>\n",
       "      <td>3.2</td>\n",
       "      <td>1.0</td>\n",
       "    </tr>\n",
       "    <tr>\n",
       "      <th>9323</th>\n",
       "      <td>boostcamp-sts-v1-train-9323</td>\n",
       "      <td>petition-sampled</td>\n",
       "      <td>법정공휴일 휴무관련 (근로자)</td>\n",
       "      <td>법정공휴일의 유급휴무화를 막아야 합니다.</td>\n",
       "      <td>1.4</td>\n",
       "      <td>0.0</td>\n",
       "    </tr>\n",
       "  </tbody>\n",
       "</table>\n",
       "<p>19664 rows × 6 columns</p>\n",
       "</div>"
      ],
      "text/plain": [
       "                               id                     source  \\\n",
       "0      boostcamp-sts-v1-train-000      nsmc-sampled-s1-rtted   \n",
       "1      boostcamp-sts-v1-train-002  petition-sampled-s1-rtted   \n",
       "2      boostcamp-sts-v1-train-004     slack-sampled-s1-rtted   \n",
       "3      boostcamp-sts-v1-train-007      nsmc-sampled-s1-rtted   \n",
       "4      boostcamp-sts-v1-train-008  petition-sampled-s1-rtted   \n",
       "...                           ...                        ...   \n",
       "9319  boostcamp-sts-v1-train-9319           petition-sampled   \n",
       "9320  boostcamp-sts-v1-train-9320           petition-sampled   \n",
       "9321  boostcamp-sts-v1-train-9321           petition-sampled   \n",
       "9322  boostcamp-sts-v1-train-9322              slack-sampled   \n",
       "9323  boostcamp-sts-v1-train-9323           petition-sampled   \n",
       "\n",
       "                                 sentence_1  \\\n",
       "0     스릴과 반전이 있고, 여타 쓰레기 같은 한국영화와는 차원이 다르다.   \n",
       "1                         입주신청 조건을 변경해 주세요.   \n",
       "2                              정말 자랑스럽습니다!!   \n",
       "3                        이렇게 귀여운 쥐는 처음 봅니다.   \n",
       "4                       미세먼지 해결이 가장 시급한 문제!   \n",
       "...                                     ...   \n",
       "9319   교원능력개발평가에서 교원이 보호받을 수 있는 장치를 마련해야합니다   \n",
       "9320                        여성가족부의 폐지를 원합니드   \n",
       "9321                        국회의원들 월급좀 줄여주세요   \n",
       "9322          오늘 못한 점심은 다음에 다시 츄라이 하기로 해요!!   \n",
       "9323                       법정공휴일 휴무관련 (근로자)   \n",
       "\n",
       "                                         sentence_2  label  binary-label  \n",
       "0                              반전도 있고,사랑도 있고재미도있네요.    2.1           0.0  \n",
       "1                                주택청약 무주택기준 변경해주세요.    1.0           0.0  \n",
       "2                             꼬옥 실제로 한번 뵈어요 뿌뿌뿌~!~!   -0.1           0.0  \n",
       "3                                이렇게 지겨운 공포영화는 처음..    0.6           0.0  \n",
       "4                           가장 시급한 것이 신생아실 관리입니다!!!    0.3           0.0  \n",
       "...                                             ...    ...           ...  \n",
       "9319  본인이 납부한 국민연금 금액을 기준으로 대출을 받을 수 있는 제도를 마련해 주세요    0.2           0.0  \n",
       "9320                              여성가족부 폐지를 청원 합니다.    4.2           1.0  \n",
       "9321                               공무원 봉급좀 줄이지좀 마세요    0.6           0.0  \n",
       "9322                       오늘 못먹은 밥은 꼭 담에 먹기로 하고요!!    3.2           1.0  \n",
       "9323                         법정공휴일의 유급휴무화를 막아야 합니다.    1.4           0.0  \n",
       "\n",
       "[19664 rows x 6 columns]"
      ]
     },
     "execution_count": 13,
     "metadata": {},
     "output_type": "execute_result"
    }
   ],
   "source": [
    "df"
   ]
  },
  {
   "cell_type": "code",
   "execution_count": 14,
   "metadata": {},
   "outputs": [],
   "source": [
    "df.to_csv('./data/train.csv')"
   ]
  },
  {
   "cell_type": "code",
   "execution_count": null,
   "metadata": {},
   "outputs": [],
   "source": []
  }
 ],
 "metadata": {
  "kernelspec": {
   "display_name": "base",
   "language": "python",
   "name": "python3"
  },
  "language_info": {
   "codemirror_mode": {
    "name": "ipython",
    "version": 3
   },
   "file_extension": ".py",
   "mimetype": "text/x-python",
   "name": "python",
   "nbconvert_exporter": "python",
   "pygments_lexer": "ipython3",
   "version": "3.8.5"
  },
  "orig_nbformat": 4
 },
 "nbformat": 4,
 "nbformat_minor": 2
}
