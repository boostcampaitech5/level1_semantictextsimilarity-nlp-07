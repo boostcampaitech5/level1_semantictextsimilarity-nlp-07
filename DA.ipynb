{
 "cells": [
  {
   "cell_type": "markdown",
   "id": "ac3f2945-91c6-40ff-b464-fe463c4b0520",
   "metadata": {},
   "source": [
    "# Data Augmentation\n",
    "\n",
    "## 1. Text preprocessing"
   ]
  },
  {
   "cell_type": "markdown",
   "id": "4db545e1-34e3-4c4d-a082-4b567c740574",
   "metadata": {},
   "source": [
    "### 1.1. 맞춤법 처리 여부\n",
    "hanspell의 spell_checker를 돌리게 되면 많은 시간이 소모되는데 (`train.csv`에 대해 약 10분), \n",
    "\n",
    "실질적으로 얼마나 많은 단어들이 교정되는지부터 보자."
   ]
  },
  {
   "cell_type": "code",
   "execution_count": 1,
   "id": "a7775000-074b-470b-b492-c9d643cd25dd",
   "metadata": {
    "tags": []
   },
   "outputs": [],
   "source": [
    "import os\n",
    "import pandas as pd\n",
    "import numpy as np\n",
    "import matplotlib.pyplot as plt\n",
    "import seaborn as sns"
   ]
  },
  {
   "cell_type": "code",
   "execution_count": 13,
   "id": "99a5dbc0-be54-4179-a422-dc46d15a4ca8",
   "metadata": {
    "tags": []
   },
   "outputs": [],
   "source": [
    "from tqdm import tqdm"
   ]
  },
  {
   "cell_type": "code",
   "execution_count": 2,
   "id": "d043035a-1d2d-49a9-9bcb-95ba0dae3aa1",
   "metadata": {
    "tags": []
   },
   "outputs": [],
   "source": [
    "train_path = './data/train.csv'\n",
    "dev_path = './data/dev.csv'\n",
    "test_path = './data/test.csv'"
   ]
  },
  {
   "cell_type": "markdown",
   "id": "46a1b9da-62f7-40e9-ae64-055ddf2e490f",
   "metadata": {},
   "source": [
    "먼저 특수문자를 제거하겠다. "
   ]
  },
  {
   "cell_type": "code",
   "execution_count": 18,
   "id": "3014a354-bbde-424b-9ac2-54ab7498aff3",
   "metadata": {
    "tags": []
   },
   "outputs": [],
   "source": [
    "train_df = pd.read_csv(train_path)\n",
    "dev_df = pd.read_csv(dev_path)\n",
    "test_df = pd.read_csv(test_path)"
   ]
  },
  {
   "cell_type": "code",
   "execution_count": 98,
   "id": "bd77db29-f579-4395-ab7a-5fbbfc72ad8c",
   "metadata": {
    "tags": []
   },
   "outputs": [],
   "source": [
    "def remove_special_char(df):\n",
    "    def _remove_special_char(sentence):\n",
    "        p = re.compile(\"\"\"[^A-Za-zㄱ-ㅎ가-힣0-9,.?!]\"\"\")\n",
    "        return p.sub(\" \", sentence)\n",
    "    df.sentence_1 = df.sentence_1.map(_remove_special_char)\n",
    "    df.sentence_2 = df.sentence_2.map(_remove_special_char)\n",
    "    return df\n"
   ]
  },
  {
   "cell_type": "code",
   "execution_count": 20,
   "id": "e0341cba-de3e-4eb0-98c9-2dd2f8eed15f",
   "metadata": {
    "tags": []
   },
   "outputs": [],
   "source": [
    "train_df = remove_special_char(train_df)"
   ]
  },
  {
   "cell_type": "code",
   "execution_count": 3,
   "id": "b6b74367-08c5-4952-a508-68125d7bfc0d",
   "metadata": {
    "tags": []
   },
   "outputs": [],
   "source": [
    "from hanspell import spell_checker\n",
    "import re"
   ]
  },
  {
   "cell_type": "code",
   "execution_count": 4,
   "id": "6c059e41-060a-4d1d-afba-6b1666279840",
   "metadata": {
    "tags": []
   },
   "outputs": [
    {
     "data": {
      "text/plain": [
       "' 안녕하세요,감사해요?잘있어요!다시만나요.   '"
      ]
     },
     "execution_count": 4,
     "metadata": {},
     "output_type": "execute_result"
    }
   ],
   "source": [
    "p = re.compile('[^A-Za-zㄱ-ㅎ가-힣0-9.?,!:!]')\n",
    "A = p.sub(\" \",\"%안녕하세요,감사해요?잘있어요!다시만나요. :>\")\n",
    "A"
   ]
  },
  {
   "cell_type": "code",
   "execution_count": 21,
   "id": "a25d204c-5a0b-447b-9a1a-d2bb713b323e",
   "metadata": {
    "tags": []
   },
   "outputs": [
    {
     "name": "stderr",
     "output_type": "stream",
     "text": [
      "100%|██████████| 9324/9324 [04:04<00:00, 38.15it/s]\n"
     ]
    }
   ],
   "source": [
    "error_cnt = []\n",
    "for i in tqdm(range(len(train_df))):\n",
    "    temp = spell_checker.check(train_df['sentence_1'].iloc[i]).as_dict()\n",
    "    err = temp['errors']\n",
    "    error_cnt.append(err)"
   ]
  },
  {
   "cell_type": "code",
   "execution_count": 22,
   "id": "2896afc7-01c7-4615-a3c7-c6d4c65f049d",
   "metadata": {
    "tags": []
   },
   "outputs": [
    {
     "data": {
      "text/plain": [
       "1.0084727584727584"
      ]
     },
     "execution_count": 22,
     "metadata": {},
     "output_type": "execute_result"
    }
   ],
   "source": [
    "np.mean(error_cnt)"
   ]
  },
  {
   "cell_type": "markdown",
   "id": "8b3da98e-1de9-47cb-9520-fc699f993d1a",
   "metadata": {},
   "source": [
    "위의 결과에서 확인할 수 있듯이, 각 문장별로 평균 1개 미만으로 맞춤법이 교정되기 때문에, 맞춤법 교정은 필요없다고 판단된다."
   ]
  },
  {
   "cell_type": "code",
   "execution_count": 23,
   "id": "338027c2-04af-4025-a1f6-1748e9002d15",
   "metadata": {
    "tags": []
   },
   "outputs": [
    {
     "name": "stderr",
     "output_type": "stream",
     "text": [
      "100%|██████████| 9324/9324 [03:50<00:00, 40.47it/s]\n"
     ]
    }
   ],
   "source": [
    "error_cnt2 = []\n",
    "for i in tqdm(range(len(train_df))):\n",
    "    temp = spell_checker.check(train_df['sentence_2'].iloc[i]).as_dict()\n",
    "    err = temp['errors']\n",
    "    error_cnt2.append(err)"
   ]
  },
  {
   "cell_type": "code",
   "execution_count": 24,
   "id": "50b3b7c0-fa12-428b-9cac-3451855d9fed",
   "metadata": {
    "tags": []
   },
   "outputs": [
    {
     "data": {
      "text/plain": [
       "0.7360574860574861"
      ]
     },
     "execution_count": 24,
     "metadata": {},
     "output_type": "execute_result"
    }
   ],
   "source": [
    "np.mean(error_cnt2)"
   ]
  },
  {
   "cell_type": "markdown",
   "id": "38f04ad3-0193-44ce-a973-b7f5149a0a6c",
   "metadata": {},
   "source": [
    "`sentence_2`에 대해서도 마찬가지이다. 따라서, hanspell은 사용하지 않아도 되겠다.\n",
    "\n",
    "또한, 특수문자에 대해서도 생각해야 하는 게, 가령 `'6:30'` 과 `'6시 30분'`은 같은 뜻이다.\n",
    "\n",
    "특수문자를 제거해버릴 경우, `6 30` 또는 `630`으로 바뀌어버린다면 원래 텍스트의 의미가 왜곡될 수 있다. \n",
    "\n",
    "따라서, 특수문자 제거도 하지 않는 게 좋다고 판단된다.\n",
    "\n",
    "다행히 Huggingface의 tokenizer가 특수문자에 대해서도 처리해준다. (아래 코드 참고)"
   ]
  },
  {
   "cell_type": "code",
   "execution_count": 56,
   "id": "0199309d-4ecb-4779-9d64-8796998e303d",
   "metadata": {
    "tags": []
   },
   "outputs": [
    {
     "data": {
      "text/plain": [
       "BertTokenizerFast(name_or_path='klue/roberta-base', vocab_size=32000, model_max_length=512, is_fast=True, padding_side='right', truncation_side='right', special_tokens={'bos_token': '[CLS]', 'eos_token': '[SEP]', 'unk_token': '[UNK]', 'sep_token': '[SEP]', 'pad_token': '[PAD]', 'cls_token': '[CLS]', 'mask_token': '[MASK]'})"
      ]
     },
     "execution_count": 56,
     "metadata": {},
     "output_type": "execute_result"
    }
   ],
   "source": [
    "from transformers import AutoTokenizer\n",
    "model_name = \"klue/roberta-base\"\n",
    "tokenizer = AutoTokenizer.from_pretrained(model_name)\n",
    "tokenizer"
   ]
  },
  {
   "cell_type": "code",
   "execution_count": 43,
   "id": "08fad766-1bc6-4de6-b5f6-24895f1ab0a5",
   "metadata": {
    "tags": []
   },
   "outputs": [
    {
     "data": {
      "text/plain": [
       "{'input_ids': [0, 9, 2], 'token_type_ids': [0, 0, 0], 'attention_mask': [1, 1, 1]}"
      ]
     },
     "execution_count": 43,
     "metadata": {},
     "output_type": "execute_result"
    }
   ],
   "source": [
    "tokenizer(\"%\")"
   ]
  },
  {
   "cell_type": "code",
   "execution_count": 36,
   "id": "88e8dbf9-f6d0-43c2-91f3-3eaabe4ede73",
   "metadata": {
    "tags": []
   },
   "outputs": [
    {
     "data": {
      "text/plain": [
       "'%'"
      ]
     },
     "execution_count": 36,
     "metadata": {},
     "output_type": "execute_result"
    }
   ],
   "source": [
    "tokenizer.convert_ids_to_tokens(9)"
   ]
  },
  {
   "cell_type": "markdown",
   "id": "46a806fa-3ec2-4758-a62c-9e0b2f9aa229",
   "metadata": {},
   "source": [
    "단, 텍스트 데이터에 있는 `<PERSON>`의 경우 token에 추가로 넣어주면 좋을 것 같다. \n",
    "\n",
    "이유는 `<PERSON>`이 사람의 이름을 대체하고 있고, 본래 영단어의 뜻인 사람으로서 쓰이지 않기 때문이다."
   ]
  },
  {
   "cell_type": "code",
   "execution_count": 57,
   "id": "8a34a8a5-a646-464d-8263-d5a6be832729",
   "metadata": {
    "tags": []
   },
   "outputs": [
    {
     "data": {
      "text/plain": [
       "32000"
      ]
     },
     "execution_count": 57,
     "metadata": {},
     "output_type": "execute_result"
    }
   ],
   "source": [
    "len(tokenizer)"
   ]
  },
  {
   "cell_type": "code",
   "execution_count": 58,
   "id": "65b9cb05-40b3-46ad-9de6-4e5993be13c8",
   "metadata": {
    "tags": []
   },
   "outputs": [
    {
     "data": {
      "text/plain": [
       "1"
      ]
     },
     "execution_count": 58,
     "metadata": {},
     "output_type": "execute_result"
    }
   ],
   "source": [
    "tokenizer.add_tokens([\"<PERSON>\"])"
   ]
  },
  {
   "cell_type": "code",
   "execution_count": 59,
   "id": "8e1e3fb9-dd42-40b8-94cb-e723fdfc28d5",
   "metadata": {
    "tags": []
   },
   "outputs": [
    {
     "data": {
      "text/plain": [
       "'<PERSON>'"
      ]
     },
     "execution_count": 59,
     "metadata": {},
     "output_type": "execute_result"
    }
   ],
   "source": [
    "tokenizer.convert_ids_to_tokens(32000)"
   ]
  },
  {
   "cell_type": "code",
   "execution_count": 60,
   "id": "d13f5a5b-8d55-478b-8936-d9102182bce1",
   "metadata": {
    "tags": []
   },
   "outputs": [
    {
     "data": {
      "text/plain": [
       "32001"
      ]
     },
     "execution_count": 60,
     "metadata": {},
     "output_type": "execute_result"
    }
   ],
   "source": [
    "# 단어가 증가한 것을 볼 수 있다.\n",
    "len(tokenizer)"
   ]
  },
  {
   "cell_type": "markdown",
   "id": "56da7a0d-71c1-40b4-bdd9-a230c6c92e18",
   "metadata": {},
   "source": [
    "위와 같이 token을 추가해준 경우, model의 token_embedding 크기를 조절해야 한다."
   ]
  },
  {
   "cell_type": "code",
   "execution_count": 61,
   "id": "702f19d7-2f45-4a6e-98b1-4ec4255e790d",
   "metadata": {
    "tags": []
   },
   "outputs": [],
   "source": [
    "# model.resize_token_embeddings(len(tokenizer))"
   ]
  },
  {
   "cell_type": "markdown",
   "id": "b980a390-d493-4040-84b7-b0eb93120dba",
   "metadata": {},
   "source": [
    "## 2. Data augmentation"
   ]
  },
  {
   "cell_type": "markdown",
   "id": "d8f757f0-eabd-4192-8f8a-0c0b03f72848",
   "metadata": {},
   "source": [
    "### 2.1. `sentence_1` - `sentence_2` swapping\n",
    "\n",
    "BERT 기반 모델이 bidirectional하다고는 하지만, NSP같은 Pre-training task를 생각해보면 \n",
    "앞뒤의 문장 순서가 바뀐다면 다른 결과가 나올 수 있다. (Segment embedding 도 있고... Positional encoding도 있고..)\n",
    "\n",
    "문장 순서가 뒤바뀌더라도 같은 결과를 주어야 한다는 것으로부터 `sentence_1`과 `sentence_2`가 바뀐 데이터를 추가해주면 \n",
    "문장 간의 유사도 측정 task에 더 좋은 학습을 할 수 있을 것 같다."
   ]
  },
  {
   "cell_type": "code",
   "execution_count": 114,
   "id": "4ade89f4-e3b8-4db4-bb4e-bf29880269b0",
   "metadata": {
    "tags": []
   },
   "outputs": [],
   "source": [
    "train_df = pd.read_csv(train_path)\n",
    "dev_df = pd.read_csv(dev_path)\n",
    "test_df = pd.read_csv(test_path)"
   ]
  },
  {
   "cell_type": "code",
   "execution_count": 115,
   "id": "3310d55a-0e11-481b-8836-b72ed44b3f06",
   "metadata": {
    "tags": []
   },
   "outputs": [],
   "source": [
    "# 문장 내에서 다른 단어들과 함께 의미가 있을 수 있는 특수문자 @, ?, ... 를 제외한 특수문자를 제거.\n",
    "# 예) \\ (백슬래쉬)\n",
    "def remove_special_char(df):\n",
    "    def _remove_special_char(sentence):\n",
    "        p = re.compile(\"\"\"[^A-Za-zㄱ-ㅎ가-힣0-9,<.>?/;:'\"!@%^&*()\\[\\]\\{\\}+=-_]\"\"\")\n",
    "        return p.sub(\" \", sentence)\n",
    "    df.sentence_1 = df.sentence_1.map(_remove_special_char)\n",
    "    df.sentence_2 = df.sentence_2.map(_remove_special_char)\n",
    "    return df\n"
   ]
  },
  {
   "cell_type": "code",
   "execution_count": 116,
   "id": "f40b521a-9cdc-48ce-84ee-26bf81f233dc",
   "metadata": {
    "tags": []
   },
   "outputs": [],
   "source": [
    "train_df = remove_special_char(train_df)\n",
    "dev_df = remove_special_char(dev_df)\n",
    "test_df = remove_special_char(test_df)"
   ]
  },
  {
   "cell_type": "code",
   "execution_count": 117,
   "id": "8f309b94-ddbe-4b0b-9451-0c8817122507",
   "metadata": {
    "tags": []
   },
   "outputs": [
    {
     "data": {
      "text/plain": [
       "['id', 'source', 'sentence_1', 'sentence_2', 'label', 'binary-label']"
      ]
     },
     "execution_count": 117,
     "metadata": {},
     "output_type": "execute_result"
    }
   ],
   "source": [
    "temp = train_df.copy()\n",
    "cols = list(temp.columns)\n",
    "cols"
   ]
  },
  {
   "cell_type": "code",
   "execution_count": 118,
   "id": "0dc24007-0cbf-4382-83b8-783bcd373701",
   "metadata": {
    "tags": []
   },
   "outputs": [
    {
     "data": {
      "text/html": [
       "<div>\n",
       "<style scoped>\n",
       "    .dataframe tbody tr th:only-of-type {\n",
       "        vertical-align: middle;\n",
       "    }\n",
       "\n",
       "    .dataframe tbody tr th {\n",
       "        vertical-align: top;\n",
       "    }\n",
       "\n",
       "    .dataframe thead th {\n",
       "        text-align: right;\n",
       "    }\n",
       "</style>\n",
       "<table border=\"1\" class=\"dataframe\">\n",
       "  <thead>\n",
       "    <tr style=\"text-align: right;\">\n",
       "      <th></th>\n",
       "      <th>id</th>\n",
       "      <th>source</th>\n",
       "      <th>sentence_1</th>\n",
       "      <th>sentence_2</th>\n",
       "      <th>label</th>\n",
       "      <th>binary-label</th>\n",
       "    </tr>\n",
       "  </thead>\n",
       "  <tbody>\n",
       "    <tr>\n",
       "      <th>0</th>\n",
       "      <td>boostcamp-sts-v1-train-000</td>\n",
       "      <td>nsmc-sampled</td>\n",
       "      <td>반전도 있고,사랑도 있고재미도있네요.</td>\n",
       "      <td>스릴도있고 반전도 있고 여느 한국영화 쓰레기들하고는 차원이 다르네요</td>\n",
       "      <td>2.2</td>\n",
       "      <td>0.0</td>\n",
       "    </tr>\n",
       "    <tr>\n",
       "      <th>1</th>\n",
       "      <td>boostcamp-sts-v1-train-001</td>\n",
       "      <td>slack-rtt</td>\n",
       "      <td>오, 액세스 권한이 없다고 합니다.</td>\n",
       "      <td>앗 제가 접근권한이 없다고 뜹니다;;</td>\n",
       "      <td>4.2</td>\n",
       "      <td>1.0</td>\n",
       "    </tr>\n",
       "    <tr>\n",
       "      <th>2</th>\n",
       "      <td>boostcamp-sts-v1-train-002</td>\n",
       "      <td>petition-sampled</td>\n",
       "      <td>주택청약 무주택기준 변경해주세요.</td>\n",
       "      <td>주택청약조건 변경해주세요.</td>\n",
       "      <td>2.4</td>\n",
       "      <td>0.0</td>\n",
       "    </tr>\n",
       "    <tr>\n",
       "      <th>3</th>\n",
       "      <td>boostcamp-sts-v1-train-003</td>\n",
       "      <td>slack-sampled</td>\n",
       "      <td>화상으로만 보다가 리얼로 만나니 정말 반가웠습니다.</td>\n",
       "      <td>입사후 처음 대면으로 만나 반가웠습니다.</td>\n",
       "      <td>3.0</td>\n",
       "      <td>1.0</td>\n",
       "    </tr>\n",
       "    <tr>\n",
       "      <th>4</th>\n",
       "      <td>boostcamp-sts-v1-train-004</td>\n",
       "      <td>slack-sampled</td>\n",
       "      <td>꼬옥 실제로 한번 뵈어요 뿌뿌뿌 ! !</td>\n",
       "      <td>뿌듯뿌듯 하네요!!</td>\n",
       "      <td>0.0</td>\n",
       "      <td>0.0</td>\n",
       "    </tr>\n",
       "    <tr>\n",
       "      <th>...</th>\n",
       "      <td>...</td>\n",
       "      <td>...</td>\n",
       "      <td>...</td>\n",
       "      <td>...</td>\n",
       "      <td>...</td>\n",
       "      <td>...</td>\n",
       "    </tr>\n",
       "    <tr>\n",
       "      <th>9319</th>\n",
       "      <td>boostcamp-sts-v1-train-9319</td>\n",
       "      <td>petition-sampled</td>\n",
       "      <td>본인이 납부한 국민연금 금액을 기준으로 대출을 받을 수 있는 제도를 마련해 주세요</td>\n",
       "      <td>교원능력개발평가에서 교원이 보호받을 수 있는 장치를 마련해야합니다</td>\n",
       "      <td>0.2</td>\n",
       "      <td>0.0</td>\n",
       "    </tr>\n",
       "    <tr>\n",
       "      <th>9320</th>\n",
       "      <td>boostcamp-sts-v1-train-9320</td>\n",
       "      <td>petition-sampled</td>\n",
       "      <td>여성가족부 폐지를 청원 합니다.</td>\n",
       "      <td>여성가족부의 폐지를 원합니드</td>\n",
       "      <td>4.2</td>\n",
       "      <td>1.0</td>\n",
       "    </tr>\n",
       "    <tr>\n",
       "      <th>9321</th>\n",
       "      <td>boostcamp-sts-v1-train-9321</td>\n",
       "      <td>petition-sampled</td>\n",
       "      <td>공무원 봉급좀 줄이지좀 마세요</td>\n",
       "      <td>국회의원들 월급좀 줄여주세요</td>\n",
       "      <td>0.6</td>\n",
       "      <td>0.0</td>\n",
       "    </tr>\n",
       "    <tr>\n",
       "      <th>9322</th>\n",
       "      <td>boostcamp-sts-v1-train-9322</td>\n",
       "      <td>slack-sampled</td>\n",
       "      <td>오늘 못먹은 밥은 꼭 담에 먹기로 하고요!!</td>\n",
       "      <td>오늘 못한 점심은 다음에 다시 츄라이 하기로 해요!!</td>\n",
       "      <td>3.2</td>\n",
       "      <td>1.0</td>\n",
       "    </tr>\n",
       "    <tr>\n",
       "      <th>9323</th>\n",
       "      <td>boostcamp-sts-v1-train-9323</td>\n",
       "      <td>petition-sampled</td>\n",
       "      <td>법정공휴일의 유급휴무화를 막아야 합니다.</td>\n",
       "      <td>법정공휴일 휴무관련 (근로자)</td>\n",
       "      <td>1.4</td>\n",
       "      <td>0.0</td>\n",
       "    </tr>\n",
       "  </tbody>\n",
       "</table>\n",
       "<p>9324 rows × 6 columns</p>\n",
       "</div>"
      ],
      "text/plain": [
       "                               id            source  \\\n",
       "0      boostcamp-sts-v1-train-000      nsmc-sampled   \n",
       "1      boostcamp-sts-v1-train-001         slack-rtt   \n",
       "2      boostcamp-sts-v1-train-002  petition-sampled   \n",
       "3      boostcamp-sts-v1-train-003     slack-sampled   \n",
       "4      boostcamp-sts-v1-train-004     slack-sampled   \n",
       "...                           ...               ...   \n",
       "9319  boostcamp-sts-v1-train-9319  petition-sampled   \n",
       "9320  boostcamp-sts-v1-train-9320  petition-sampled   \n",
       "9321  boostcamp-sts-v1-train-9321  petition-sampled   \n",
       "9322  boostcamp-sts-v1-train-9322     slack-sampled   \n",
       "9323  boostcamp-sts-v1-train-9323  petition-sampled   \n",
       "\n",
       "                                         sentence_1  \\\n",
       "0                              반전도 있고,사랑도 있고재미도있네요.   \n",
       "1                               오, 액세스 권한이 없다고 합니다.   \n",
       "2                                주택청약 무주택기준 변경해주세요.   \n",
       "3                      화상으로만 보다가 리얼로 만나니 정말 반가웠습니다.   \n",
       "4                             꼬옥 실제로 한번 뵈어요 뿌뿌뿌 ! !   \n",
       "...                                             ...   \n",
       "9319  본인이 납부한 국민연금 금액을 기준으로 대출을 받을 수 있는 제도를 마련해 주세요   \n",
       "9320                              여성가족부 폐지를 청원 합니다.   \n",
       "9321                               공무원 봉급좀 줄이지좀 마세요   \n",
       "9322                       오늘 못먹은 밥은 꼭 담에 먹기로 하고요!!   \n",
       "9323                         법정공휴일의 유급휴무화를 막아야 합니다.   \n",
       "\n",
       "                                  sentence_2  label  binary-label  \n",
       "0     스릴도있고 반전도 있고 여느 한국영화 쓰레기들하고는 차원이 다르네요     2.2           0.0  \n",
       "1                       앗 제가 접근권한이 없다고 뜹니다;;    4.2           1.0  \n",
       "2                             주택청약조건 변경해주세요.    2.4           0.0  \n",
       "3                     입사후 처음 대면으로 만나 반가웠습니다.    3.0           1.0  \n",
       "4                                 뿌듯뿌듯 하네요!!    0.0           0.0  \n",
       "...                                      ...    ...           ...  \n",
       "9319    교원능력개발평가에서 교원이 보호받을 수 있는 장치를 마련해야합니다    0.2           0.0  \n",
       "9320                         여성가족부의 폐지를 원합니드    4.2           1.0  \n",
       "9321                         국회의원들 월급좀 줄여주세요    0.6           0.0  \n",
       "9322           오늘 못한 점심은 다음에 다시 츄라이 하기로 해요!!    3.2           1.0  \n",
       "9323                        법정공휴일 휴무관련 (근로자)    1.4           0.0  \n",
       "\n",
       "[9324 rows x 6 columns]"
      ]
     },
     "execution_count": 118,
     "metadata": {},
     "output_type": "execute_result"
    }
   ],
   "source": [
    "temp.rename(columns={'sentence_1':'sentence_2', 'sentence_2':'sentence_1'}, inplace=True)\n",
    "temp = temp[cols]\n",
    "temp"
   ]
  },
  {
   "cell_type": "code",
   "execution_count": 119,
   "id": "34ce7d19-2eea-41b0-b73b-d786c1126f8b",
   "metadata": {
    "tags": []
   },
   "outputs": [
    {
     "data": {
      "text/html": [
       "<div>\n",
       "<style scoped>\n",
       "    .dataframe tbody tr th:only-of-type {\n",
       "        vertical-align: middle;\n",
       "    }\n",
       "\n",
       "    .dataframe tbody tr th {\n",
       "        vertical-align: top;\n",
       "    }\n",
       "\n",
       "    .dataframe thead th {\n",
       "        text-align: right;\n",
       "    }\n",
       "</style>\n",
       "<table border=\"1\" class=\"dataframe\">\n",
       "  <thead>\n",
       "    <tr style=\"text-align: right;\">\n",
       "      <th></th>\n",
       "      <th>id</th>\n",
       "      <th>source</th>\n",
       "      <th>sentence_1</th>\n",
       "      <th>sentence_2</th>\n",
       "      <th>label</th>\n",
       "      <th>binary-label</th>\n",
       "    </tr>\n",
       "  </thead>\n",
       "  <tbody>\n",
       "    <tr>\n",
       "      <th>0</th>\n",
       "      <td>boostcamp-sts-v1-train-000</td>\n",
       "      <td>nsmc-sampled</td>\n",
       "      <td>스릴도있고 반전도 있고 여느 한국영화 쓰레기들하고는 차원이 다르네요</td>\n",
       "      <td>반전도 있고,사랑도 있고재미도있네요.</td>\n",
       "      <td>2.2</td>\n",
       "      <td>0.0</td>\n",
       "    </tr>\n",
       "    <tr>\n",
       "      <th>1</th>\n",
       "      <td>boostcamp-sts-v1-train-001</td>\n",
       "      <td>slack-rtt</td>\n",
       "      <td>앗 제가 접근권한이 없다고 뜹니다;;</td>\n",
       "      <td>오, 액세스 권한이 없다고 합니다.</td>\n",
       "      <td>4.2</td>\n",
       "      <td>1.0</td>\n",
       "    </tr>\n",
       "    <tr>\n",
       "      <th>2</th>\n",
       "      <td>boostcamp-sts-v1-train-002</td>\n",
       "      <td>petition-sampled</td>\n",
       "      <td>주택청약조건 변경해주세요.</td>\n",
       "      <td>주택청약 무주택기준 변경해주세요.</td>\n",
       "      <td>2.4</td>\n",
       "      <td>0.0</td>\n",
       "    </tr>\n",
       "    <tr>\n",
       "      <th>3</th>\n",
       "      <td>boostcamp-sts-v1-train-003</td>\n",
       "      <td>slack-sampled</td>\n",
       "      <td>입사후 처음 대면으로 만나 반가웠습니다.</td>\n",
       "      <td>화상으로만 보다가 리얼로 만나니 정말 반가웠습니다.</td>\n",
       "      <td>3.0</td>\n",
       "      <td>1.0</td>\n",
       "    </tr>\n",
       "    <tr>\n",
       "      <th>4</th>\n",
       "      <td>boostcamp-sts-v1-train-004</td>\n",
       "      <td>slack-sampled</td>\n",
       "      <td>뿌듯뿌듯 하네요!!</td>\n",
       "      <td>꼬옥 실제로 한번 뵈어요 뿌뿌뿌 ! !</td>\n",
       "      <td>0.0</td>\n",
       "      <td>0.0</td>\n",
       "    </tr>\n",
       "    <tr>\n",
       "      <th>...</th>\n",
       "      <td>...</td>\n",
       "      <td>...</td>\n",
       "      <td>...</td>\n",
       "      <td>...</td>\n",
       "      <td>...</td>\n",
       "      <td>...</td>\n",
       "    </tr>\n",
       "    <tr>\n",
       "      <th>9319</th>\n",
       "      <td>boostcamp-sts-v1-train-9319</td>\n",
       "      <td>petition-sampled</td>\n",
       "      <td>본인이 납부한 국민연금 금액을 기준으로 대출을 받을 수 있는 제도를 마련해 주세요</td>\n",
       "      <td>교원능력개발평가에서 교원이 보호받을 수 있는 장치를 마련해야합니다</td>\n",
       "      <td>0.2</td>\n",
       "      <td>0.0</td>\n",
       "    </tr>\n",
       "    <tr>\n",
       "      <th>9320</th>\n",
       "      <td>boostcamp-sts-v1-train-9320</td>\n",
       "      <td>petition-sampled</td>\n",
       "      <td>여성가족부 폐지를 청원 합니다.</td>\n",
       "      <td>여성가족부의 폐지를 원합니드</td>\n",
       "      <td>4.2</td>\n",
       "      <td>1.0</td>\n",
       "    </tr>\n",
       "    <tr>\n",
       "      <th>9321</th>\n",
       "      <td>boostcamp-sts-v1-train-9321</td>\n",
       "      <td>petition-sampled</td>\n",
       "      <td>공무원 봉급좀 줄이지좀 마세요</td>\n",
       "      <td>국회의원들 월급좀 줄여주세요</td>\n",
       "      <td>0.6</td>\n",
       "      <td>0.0</td>\n",
       "    </tr>\n",
       "    <tr>\n",
       "      <th>9322</th>\n",
       "      <td>boostcamp-sts-v1-train-9322</td>\n",
       "      <td>slack-sampled</td>\n",
       "      <td>오늘 못먹은 밥은 꼭 담에 먹기로 하고요!!</td>\n",
       "      <td>오늘 못한 점심은 다음에 다시 츄라이 하기로 해요!!</td>\n",
       "      <td>3.2</td>\n",
       "      <td>1.0</td>\n",
       "    </tr>\n",
       "    <tr>\n",
       "      <th>9323</th>\n",
       "      <td>boostcamp-sts-v1-train-9323</td>\n",
       "      <td>petition-sampled</td>\n",
       "      <td>법정공휴일의 유급휴무화를 막아야 합니다.</td>\n",
       "      <td>법정공휴일 휴무관련 (근로자)</td>\n",
       "      <td>1.4</td>\n",
       "      <td>0.0</td>\n",
       "    </tr>\n",
       "  </tbody>\n",
       "</table>\n",
       "<p>18648 rows × 6 columns</p>\n",
       "</div>"
      ],
      "text/plain": [
       "                               id            source  \\\n",
       "0      boostcamp-sts-v1-train-000      nsmc-sampled   \n",
       "1      boostcamp-sts-v1-train-001         slack-rtt   \n",
       "2      boostcamp-sts-v1-train-002  petition-sampled   \n",
       "3      boostcamp-sts-v1-train-003     slack-sampled   \n",
       "4      boostcamp-sts-v1-train-004     slack-sampled   \n",
       "...                           ...               ...   \n",
       "9319  boostcamp-sts-v1-train-9319  petition-sampled   \n",
       "9320  boostcamp-sts-v1-train-9320  petition-sampled   \n",
       "9321  boostcamp-sts-v1-train-9321  petition-sampled   \n",
       "9322  boostcamp-sts-v1-train-9322     slack-sampled   \n",
       "9323  boostcamp-sts-v1-train-9323  petition-sampled   \n",
       "\n",
       "                                         sentence_1  \\\n",
       "0            스릴도있고 반전도 있고 여느 한국영화 쓰레기들하고는 차원이 다르네요    \n",
       "1                              앗 제가 접근권한이 없다고 뜹니다;;   \n",
       "2                                    주택청약조건 변경해주세요.   \n",
       "3                            입사후 처음 대면으로 만나 반가웠습니다.   \n",
       "4                                        뿌듯뿌듯 하네요!!   \n",
       "...                                             ...   \n",
       "9319  본인이 납부한 국민연금 금액을 기준으로 대출을 받을 수 있는 제도를 마련해 주세요   \n",
       "9320                              여성가족부 폐지를 청원 합니다.   \n",
       "9321                               공무원 봉급좀 줄이지좀 마세요   \n",
       "9322                       오늘 못먹은 밥은 꼭 담에 먹기로 하고요!!   \n",
       "9323                         법정공휴일의 유급휴무화를 막아야 합니다.   \n",
       "\n",
       "                                sentence_2  label  binary-label  \n",
       "0                     반전도 있고,사랑도 있고재미도있네요.    2.2           0.0  \n",
       "1                      오, 액세스 권한이 없다고 합니다.    4.2           1.0  \n",
       "2                       주택청약 무주택기준 변경해주세요.    2.4           0.0  \n",
       "3             화상으로만 보다가 리얼로 만나니 정말 반가웠습니다.    3.0           1.0  \n",
       "4                    꼬옥 실제로 한번 뵈어요 뿌뿌뿌 ! !    0.0           0.0  \n",
       "...                                    ...    ...           ...  \n",
       "9319  교원능력개발평가에서 교원이 보호받을 수 있는 장치를 마련해야합니다    0.2           0.0  \n",
       "9320                       여성가족부의 폐지를 원합니드    4.2           1.0  \n",
       "9321                       국회의원들 월급좀 줄여주세요    0.6           0.0  \n",
       "9322         오늘 못한 점심은 다음에 다시 츄라이 하기로 해요!!    3.2           1.0  \n",
       "9323                      법정공휴일 휴무관련 (근로자)    1.4           0.0  \n",
       "\n",
       "[18648 rows x 6 columns]"
      ]
     },
     "execution_count": 119,
     "metadata": {},
     "output_type": "execute_result"
    }
   ],
   "source": [
    "train_df = pd.concat([train_df, temp])\n",
    "train_df"
   ]
  },
  {
   "cell_type": "code",
   "execution_count": 120,
   "id": "d0a450f3-101b-4406-9e2c-2e5a6c4ff890",
   "metadata": {
    "tags": []
   },
   "outputs": [
    {
     "data": {
      "text/html": [
       "<div>\n",
       "<style scoped>\n",
       "    .dataframe tbody tr th:only-of-type {\n",
       "        vertical-align: middle;\n",
       "    }\n",
       "\n",
       "    .dataframe tbody tr th {\n",
       "        vertical-align: top;\n",
       "    }\n",
       "\n",
       "    .dataframe thead th {\n",
       "        text-align: right;\n",
       "    }\n",
       "</style>\n",
       "<table border=\"1\" class=\"dataframe\">\n",
       "  <thead>\n",
       "    <tr style=\"text-align: right;\">\n",
       "      <th></th>\n",
       "      <th>id</th>\n",
       "      <th>source</th>\n",
       "      <th>sentence_1</th>\n",
       "      <th>sentence_2</th>\n",
       "      <th>label</th>\n",
       "      <th>binary-label</th>\n",
       "    </tr>\n",
       "  </thead>\n",
       "  <tbody>\n",
       "    <tr>\n",
       "      <th>count</th>\n",
       "      <td>18648</td>\n",
       "      <td>18648</td>\n",
       "      <td>18648</td>\n",
       "      <td>18648</td>\n",
       "      <td>18648.000000</td>\n",
       "      <td>18648.000000</td>\n",
       "    </tr>\n",
       "    <tr>\n",
       "      <th>unique</th>\n",
       "      <td>9324</td>\n",
       "      <td>6</td>\n",
       "      <td>18634</td>\n",
       "      <td>18634</td>\n",
       "      <td>NaN</td>\n",
       "      <td>NaN</td>\n",
       "    </tr>\n",
       "    <tr>\n",
       "      <th>top</th>\n",
       "      <td>boostcamp-sts-v1-train-000</td>\n",
       "      <td>petition-sampled</td>\n",
       "      <td>다음에 만나요!</td>\n",
       "      <td>청소년보호법 폐지해주세요</td>\n",
       "      <td>NaN</td>\n",
       "      <td>NaN</td>\n",
       "    </tr>\n",
       "    <tr>\n",
       "      <th>freq</th>\n",
       "      <td>2</td>\n",
       "      <td>4704</td>\n",
       "      <td>2</td>\n",
       "      <td>2</td>\n",
       "      <td>NaN</td>\n",
       "      <td>NaN</td>\n",
       "    </tr>\n",
       "    <tr>\n",
       "      <th>mean</th>\n",
       "      <td>NaN</td>\n",
       "      <td>NaN</td>\n",
       "      <td>NaN</td>\n",
       "      <td>NaN</td>\n",
       "      <td>1.849968</td>\n",
       "      <td>0.389532</td>\n",
       "    </tr>\n",
       "    <tr>\n",
       "      <th>std</th>\n",
       "      <td>NaN</td>\n",
       "      <td>NaN</td>\n",
       "      <td>NaN</td>\n",
       "      <td>NaN</td>\n",
       "      <td>1.602169</td>\n",
       "      <td>0.487657</td>\n",
       "    </tr>\n",
       "    <tr>\n",
       "      <th>min</th>\n",
       "      <td>NaN</td>\n",
       "      <td>NaN</td>\n",
       "      <td>NaN</td>\n",
       "      <td>NaN</td>\n",
       "      <td>0.000000</td>\n",
       "      <td>0.000000</td>\n",
       "    </tr>\n",
       "    <tr>\n",
       "      <th>25%</th>\n",
       "      <td>NaN</td>\n",
       "      <td>NaN</td>\n",
       "      <td>NaN</td>\n",
       "      <td>NaN</td>\n",
       "      <td>0.200000</td>\n",
       "      <td>0.000000</td>\n",
       "    </tr>\n",
       "    <tr>\n",
       "      <th>50%</th>\n",
       "      <td>NaN</td>\n",
       "      <td>NaN</td>\n",
       "      <td>NaN</td>\n",
       "      <td>NaN</td>\n",
       "      <td>1.600000</td>\n",
       "      <td>0.000000</td>\n",
       "    </tr>\n",
       "    <tr>\n",
       "      <th>75%</th>\n",
       "      <td>NaN</td>\n",
       "      <td>NaN</td>\n",
       "      <td>NaN</td>\n",
       "      <td>NaN</td>\n",
       "      <td>3.400000</td>\n",
       "      <td>1.000000</td>\n",
       "    </tr>\n",
       "    <tr>\n",
       "      <th>max</th>\n",
       "      <td>NaN</td>\n",
       "      <td>NaN</td>\n",
       "      <td>NaN</td>\n",
       "      <td>NaN</td>\n",
       "      <td>5.000000</td>\n",
       "      <td>1.000000</td>\n",
       "    </tr>\n",
       "  </tbody>\n",
       "</table>\n",
       "</div>"
      ],
      "text/plain": [
       "                                id            source sentence_1  \\\n",
       "count                        18648             18648      18648   \n",
       "unique                        9324                 6      18634   \n",
       "top     boostcamp-sts-v1-train-000  petition-sampled   다음에 만나요!   \n",
       "freq                             2              4704          2   \n",
       "mean                           NaN               NaN        NaN   \n",
       "std                            NaN               NaN        NaN   \n",
       "min                            NaN               NaN        NaN   \n",
       "25%                            NaN               NaN        NaN   \n",
       "50%                            NaN               NaN        NaN   \n",
       "75%                            NaN               NaN        NaN   \n",
       "max                            NaN               NaN        NaN   \n",
       "\n",
       "           sentence_2         label  binary-label  \n",
       "count           18648  18648.000000  18648.000000  \n",
       "unique          18634           NaN           NaN  \n",
       "top     청소년보호법 폐지해주세요           NaN           NaN  \n",
       "freq                2           NaN           NaN  \n",
       "mean              NaN      1.849968      0.389532  \n",
       "std               NaN      1.602169      0.487657  \n",
       "min               NaN      0.000000      0.000000  \n",
       "25%               NaN      0.200000      0.000000  \n",
       "50%               NaN      1.600000      0.000000  \n",
       "75%               NaN      3.400000      1.000000  \n",
       "max               NaN      5.000000      1.000000  "
      ]
     },
     "execution_count": 120,
     "metadata": {},
     "output_type": "execute_result"
    }
   ],
   "source": [
    "train_df.describe(include='all')"
   ]
  },
  {
   "cell_type": "markdown",
   "id": "4620ffa0-5608-4944-85fd-a1edc7ba8ab7",
   "metadata": {},
   "source": [
    "1차적으로 증강된 데이터셋을 `new_data_1` 폴더에 저장하겠다."
   ]
  },
  {
   "cell_type": "code",
   "execution_count": 121,
   "id": "b7d757bc-ecbc-46af-b8dd-71a70ca64f7d",
   "metadata": {
    "tags": []
   },
   "outputs": [],
   "source": [
    "# if not os.path.isdir(\"./new_data_1\"):\n",
    "#     os.makedirs(\"./new_data_1\")\n",
    "# train_df.to_csv(\"./new_data_1/train.csv\")\n",
    "# dev_df.to_csv(\"./new_data_1/dev.csv\")\n",
    "# test_df.to_csv(\"./new_data_1/test.csv\")"
   ]
  },
  {
   "cell_type": "markdown",
   "id": "b25907c0-4797-4af7-9227-2abf8a52ea99",
   "metadata": {},
   "source": [
    "### 2.2. 같은 문장 생성 (self-translation?)\n",
    "고 점수의 데이터가 부족하기 때문에 binary-label이 0인 데이터들을 대상으로 `sentence_1 == sentence_2` 데이터를 생성해주면 \n",
    "낮은 점수의 데이터들에 대해서 유사도가 높은 문장에 대한 정보를 줄 수 있기 때문에 더 효과적인 학습이 이루어질 것으로 추측된다.\n",
    "\n",
    "특히 기존의 label의 skewed distribution이 bimodal distribution으로 바뀌게 되는 효과가 있다. \n",
    "물론 이렇게 하는 게 더 좋을지는... 해봐야 알 듯."
   ]
  },
  {
   "cell_type": "code",
   "execution_count": 122,
   "id": "f8fd83b8-66de-41db-81f5-ce8c65067087",
   "metadata": {
    "tags": []
   },
   "outputs": [],
   "source": [
    "temp = train_df[train_df['binary-label'] == 0.0].copy()"
   ]
  },
  {
   "cell_type": "code",
   "execution_count": 124,
   "id": "f391571b-579f-414a-ba5b-5963fcb3e8f1",
   "metadata": {
    "tags": []
   },
   "outputs": [
    {
     "data": {
      "text/html": [
       "<div>\n",
       "<style scoped>\n",
       "    .dataframe tbody tr th:only-of-type {\n",
       "        vertical-align: middle;\n",
       "    }\n",
       "\n",
       "    .dataframe tbody tr th {\n",
       "        vertical-align: top;\n",
       "    }\n",
       "\n",
       "    .dataframe thead th {\n",
       "        text-align: right;\n",
       "    }\n",
       "</style>\n",
       "<table border=\"1\" class=\"dataframe\">\n",
       "  <thead>\n",
       "    <tr style=\"text-align: right;\">\n",
       "      <th></th>\n",
       "      <th>id</th>\n",
       "      <th>source</th>\n",
       "      <th>sentence_1</th>\n",
       "      <th>sentence_2</th>\n",
       "      <th>label</th>\n",
       "      <th>binary-label</th>\n",
       "    </tr>\n",
       "  </thead>\n",
       "  <tbody>\n",
       "    <tr>\n",
       "      <th>0</th>\n",
       "      <td>boostcamp-sts-v1-train-000</td>\n",
       "      <td>nsmc-sampled</td>\n",
       "      <td>스릴도있고 반전도 있고 여느 한국영화 쓰레기들하고는 차원이 다르네요</td>\n",
       "      <td>반전도 있고,사랑도 있고재미도있네요.</td>\n",
       "      <td>2.2</td>\n",
       "      <td>0.0</td>\n",
       "    </tr>\n",
       "    <tr>\n",
       "      <th>2</th>\n",
       "      <td>boostcamp-sts-v1-train-002</td>\n",
       "      <td>petition-sampled</td>\n",
       "      <td>주택청약조건 변경해주세요.</td>\n",
       "      <td>주택청약 무주택기준 변경해주세요.</td>\n",
       "      <td>2.4</td>\n",
       "      <td>0.0</td>\n",
       "    </tr>\n",
       "    <tr>\n",
       "      <th>4</th>\n",
       "      <td>boostcamp-sts-v1-train-004</td>\n",
       "      <td>slack-sampled</td>\n",
       "      <td>뿌듯뿌듯 하네요!!</td>\n",
       "      <td>꼬옥 실제로 한번 뵈어요 뿌뿌뿌 ! !</td>\n",
       "      <td>0.0</td>\n",
       "      <td>0.0</td>\n",
       "    </tr>\n",
       "    <tr>\n",
       "      <th>7</th>\n",
       "      <td>boostcamp-sts-v1-train-007</td>\n",
       "      <td>nsmc-sampled</td>\n",
       "      <td>이렇게 귀여운 쥐들은 처음이네요.ㅎㅎㅎ</td>\n",
       "      <td>이렇게 지겨운 공포영화는 처음..</td>\n",
       "      <td>0.6</td>\n",
       "      <td>0.0</td>\n",
       "    </tr>\n",
       "    <tr>\n",
       "      <th>8</th>\n",
       "      <td>boostcamp-sts-v1-train-008</td>\n",
       "      <td>petition-sampled</td>\n",
       "      <td>미세먼지 해결이 가장 시급한 문제입니다!</td>\n",
       "      <td>가장 시급한 것이 신생아실 관리입니다!!!</td>\n",
       "      <td>0.4</td>\n",
       "      <td>0.0</td>\n",
       "    </tr>\n",
       "    <tr>\n",
       "      <th>...</th>\n",
       "      <td>...</td>\n",
       "      <td>...</td>\n",
       "      <td>...</td>\n",
       "      <td>...</td>\n",
       "      <td>...</td>\n",
       "      <td>...</td>\n",
       "    </tr>\n",
       "    <tr>\n",
       "      <th>9316</th>\n",
       "      <td>boostcamp-sts-v1-train-9316</td>\n",
       "      <td>slack-sampled</td>\n",
       "      <td>너무 맛있어서 또 가고싶은집!!</td>\n",
       "      <td>어쩌다 보니 사람 들어간 사진은 못찍었는데 너무 맛있었고 재밌었습니다!!</td>\n",
       "      <td>1.6</td>\n",
       "      <td>0.0</td>\n",
       "    </tr>\n",
       "    <tr>\n",
       "      <th>9317</th>\n",
       "      <td>boostcamp-sts-v1-train-9317</td>\n",
       "      <td>petition-sampled</td>\n",
       "      <td>동물원법을 강화시켜 주세요</td>\n",
       "      <td>동물보호법을 강화해 주세요</td>\n",
       "      <td>1.5</td>\n",
       "      <td>0.0</td>\n",
       "    </tr>\n",
       "    <tr>\n",
       "      <th>9319</th>\n",
       "      <td>boostcamp-sts-v1-train-9319</td>\n",
       "      <td>petition-sampled</td>\n",
       "      <td>본인이 납부한 국민연금 금액을 기준으로 대출을 받을 수 있는 제도를 마련해 주세요</td>\n",
       "      <td>교원능력개발평가에서 교원이 보호받을 수 있는 장치를 마련해야합니다</td>\n",
       "      <td>0.2</td>\n",
       "      <td>0.0</td>\n",
       "    </tr>\n",
       "    <tr>\n",
       "      <th>9321</th>\n",
       "      <td>boostcamp-sts-v1-train-9321</td>\n",
       "      <td>petition-sampled</td>\n",
       "      <td>공무원 봉급좀 줄이지좀 마세요</td>\n",
       "      <td>국회의원들 월급좀 줄여주세요</td>\n",
       "      <td>0.6</td>\n",
       "      <td>0.0</td>\n",
       "    </tr>\n",
       "    <tr>\n",
       "      <th>9323</th>\n",
       "      <td>boostcamp-sts-v1-train-9323</td>\n",
       "      <td>petition-sampled</td>\n",
       "      <td>법정공휴일의 유급휴무화를 막아야 합니다.</td>\n",
       "      <td>법정공휴일 휴무관련 (근로자)</td>\n",
       "      <td>1.4</td>\n",
       "      <td>0.0</td>\n",
       "    </tr>\n",
       "  </tbody>\n",
       "</table>\n",
       "<p>11384 rows × 6 columns</p>\n",
       "</div>"
      ],
      "text/plain": [
       "                               id            source  \\\n",
       "0      boostcamp-sts-v1-train-000      nsmc-sampled   \n",
       "2      boostcamp-sts-v1-train-002  petition-sampled   \n",
       "4      boostcamp-sts-v1-train-004     slack-sampled   \n",
       "7      boostcamp-sts-v1-train-007      nsmc-sampled   \n",
       "8      boostcamp-sts-v1-train-008  petition-sampled   \n",
       "...                           ...               ...   \n",
       "9316  boostcamp-sts-v1-train-9316     slack-sampled   \n",
       "9317  boostcamp-sts-v1-train-9317  petition-sampled   \n",
       "9319  boostcamp-sts-v1-train-9319  petition-sampled   \n",
       "9321  boostcamp-sts-v1-train-9321  petition-sampled   \n",
       "9323  boostcamp-sts-v1-train-9323  petition-sampled   \n",
       "\n",
       "                                         sentence_1  \\\n",
       "0            스릴도있고 반전도 있고 여느 한국영화 쓰레기들하고는 차원이 다르네요    \n",
       "2                                    주택청약조건 변경해주세요.   \n",
       "4                                        뿌듯뿌듯 하네요!!   \n",
       "7                             이렇게 귀여운 쥐들은 처음이네요.ㅎㅎㅎ   \n",
       "8                            미세먼지 해결이 가장 시급한 문제입니다!   \n",
       "...                                             ...   \n",
       "9316                              너무 맛있어서 또 가고싶은집!!   \n",
       "9317                                 동물원법을 강화시켜 주세요   \n",
       "9319  본인이 납부한 국민연금 금액을 기준으로 대출을 받을 수 있는 제도를 마련해 주세요   \n",
       "9321                               공무원 봉급좀 줄이지좀 마세요   \n",
       "9323                         법정공휴일의 유급휴무화를 막아야 합니다.   \n",
       "\n",
       "                                    sentence_2  label  binary-label  \n",
       "0                         반전도 있고,사랑도 있고재미도있네요.    2.2           0.0  \n",
       "2                           주택청약 무주택기준 변경해주세요.    2.4           0.0  \n",
       "4                        꼬옥 실제로 한번 뵈어요 뿌뿌뿌 ! !    0.0           0.0  \n",
       "7                           이렇게 지겨운 공포영화는 처음..    0.6           0.0  \n",
       "8                      가장 시급한 것이 신생아실 관리입니다!!!    0.4           0.0  \n",
       "...                                        ...    ...           ...  \n",
       "9316  어쩌다 보니 사람 들어간 사진은 못찍었는데 너무 맛있었고 재밌었습니다!!    1.6           0.0  \n",
       "9317                            동물보호법을 강화해 주세요    1.5           0.0  \n",
       "9319      교원능력개발평가에서 교원이 보호받을 수 있는 장치를 마련해야합니다    0.2           0.0  \n",
       "9321                           국회의원들 월급좀 줄여주세요    0.6           0.0  \n",
       "9323                          법정공휴일 휴무관련 (근로자)    1.4           0.0  \n",
       "\n",
       "[11384 rows x 6 columns]"
      ]
     },
     "execution_count": 124,
     "metadata": {},
     "output_type": "execute_result"
    }
   ],
   "source": [
    "temp"
   ]
  },
  {
   "cell_type": "code",
   "execution_count": 127,
   "id": "bcf1f06c-d4d2-424b-a44a-dc08d986a566",
   "metadata": {
    "tags": []
   },
   "outputs": [
    {
     "data": {
      "text/plain": [
       "7264"
      ]
     },
     "execution_count": 127,
     "metadata": {},
     "output_type": "execute_result"
    }
   ],
   "source": [
    "temp_len = len(temp)\n",
    "rest_len = len(train_df) - len(temp)\n",
    "rest_len"
   ]
  },
  {
   "cell_type": "code",
   "execution_count": 154,
   "id": "e6e91d2e-d6eb-4a73-9a6e-5703c8b44c6d",
   "metadata": {
    "tags": []
   },
   "outputs": [
    {
     "name": "stderr",
     "output_type": "stream",
     "text": [
      "/tmp/ipykernel_17993/813168914.py:8: SettingWithCopyWarning: \n",
      "A value is trying to be set on a copy of a slice from a DataFrame.\n",
      "Try using .loc[row_indexer,col_indexer] = value instead\n",
      "\n",
      "See the caveats in the documentation: https://pandas.pydata.org/pandas-docs/stable/user_guide/indexing.html#returning-a-view-versus-a-copy\n",
      "  temp_df['sentence_2'] = temp_df['sentence_1']\n",
      "/tmp/ipykernel_17993/813168914.py:9: SettingWithCopyWarning: \n",
      "A value is trying to be set on a copy of a slice from a DataFrame.\n",
      "Try using .loc[row_indexer,col_indexer] = value instead\n",
      "\n",
      "See the caveats in the documentation: https://pandas.pydata.org/pandas-docs/stable/user_guide/indexing.html#returning-a-view-versus-a-copy\n",
      "  temp_df['label'] = 5.0\n",
      "/tmp/ipykernel_17993/813168914.py:10: SettingWithCopyWarning: \n",
      "A value is trying to be set on a copy of a slice from a DataFrame.\n",
      "Try using .loc[row_indexer,col_indexer] = value instead\n",
      "\n",
      "See the caveats in the documentation: https://pandas.pydata.org/pandas-docs/stable/user_guide/indexing.html#returning-a-view-versus-a-copy\n",
      "  temp_df['binary-label'] = 1.0\n"
     ]
    },
    {
     "data": {
      "text/html": [
       "<div>\n",
       "<style scoped>\n",
       "    .dataframe tbody tr th:only-of-type {\n",
       "        vertical-align: middle;\n",
       "    }\n",
       "\n",
       "    .dataframe tbody tr th {\n",
       "        vertical-align: top;\n",
       "    }\n",
       "\n",
       "    .dataframe thead th {\n",
       "        text-align: right;\n",
       "    }\n",
       "</style>\n",
       "<table border=\"1\" class=\"dataframe\">\n",
       "  <thead>\n",
       "    <tr style=\"text-align: right;\">\n",
       "      <th></th>\n",
       "      <th>id</th>\n",
       "      <th>source</th>\n",
       "      <th>sentence_1</th>\n",
       "      <th>sentence_2</th>\n",
       "      <th>label</th>\n",
       "      <th>binary-label</th>\n",
       "    </tr>\n",
       "  </thead>\n",
       "  <tbody>\n",
       "    <tr>\n",
       "      <th>6134</th>\n",
       "      <td>boostcamp-sts-v1-train-6134</td>\n",
       "      <td>slack-sampled</td>\n",
       "      <td>와 대박 무슨 엽서사진같아요!!</td>\n",
       "      <td>와 대박 무슨 엽서사진같아요!!</td>\n",
       "      <td>5.0</td>\n",
       "      <td>1.0</td>\n",
       "    </tr>\n",
       "    <tr>\n",
       "      <th>2670</th>\n",
       "      <td>boostcamp-sts-v1-train-2670</td>\n",
       "      <td>slack-sampled</td>\n",
       "      <td>매일 보는 저희 CE 팀의 &lt;PERSON&gt; 님과 이야기를 나눴습니다 !</td>\n",
       "      <td>매일 보는 저희 CE 팀의 &lt;PERSON&gt; 님과 이야기를 나눴습니다 !</td>\n",
       "      <td>5.0</td>\n",
       "      <td>1.0</td>\n",
       "    </tr>\n",
       "    <tr>\n",
       "      <th>2665</th>\n",
       "      <td>boostcamp-sts-v1-train-2665</td>\n",
       "      <td>petition-sampled</td>\n",
       "      <td>교육학 중등 임 용고사 객관식으로 바꿔주세요</td>\n",
       "      <td>교육학 중등 임 용고사 객관식으로 바꿔주세요</td>\n",
       "      <td>5.0</td>\n",
       "      <td>1.0</td>\n",
       "    </tr>\n",
       "    <tr>\n",
       "      <th>572</th>\n",
       "      <td>boostcamp-sts-v1-train-572</td>\n",
       "      <td>slack-rtt</td>\n",
       "      <td>(게시물에 약간의 변경이 있을 수 있습니다)</td>\n",
       "      <td>(게시물에 약간의 변경이 있을 수 있습니다)</td>\n",
       "      <td>5.0</td>\n",
       "      <td>1.0</td>\n",
       "    </tr>\n",
       "    <tr>\n",
       "      <th>6094</th>\n",
       "      <td>boostcamp-sts-v1-train-6094</td>\n",
       "      <td>petition-sampled</td>\n",
       "      <td>노인 고령화와 일자리문제</td>\n",
       "      <td>노인 고령화와 일자리문제</td>\n",
       "      <td>5.0</td>\n",
       "      <td>1.0</td>\n",
       "    </tr>\n",
       "    <tr>\n",
       "      <th>...</th>\n",
       "      <td>...</td>\n",
       "      <td>...</td>\n",
       "      <td>...</td>\n",
       "      <td>...</td>\n",
       "      <td>...</td>\n",
       "      <td>...</td>\n",
       "    </tr>\n",
       "    <tr>\n",
       "      <th>1224</th>\n",
       "      <td>boostcamp-sts-v1-train-1224</td>\n",
       "      <td>slack-sampled</td>\n",
       "      <td>중간만 해도 45점이네요.</td>\n",
       "      <td>중간만 해도 45점이네요.</td>\n",
       "      <td>5.0</td>\n",
       "      <td>1.0</td>\n",
       "    </tr>\n",
       "    <tr>\n",
       "      <th>9137</th>\n",
       "      <td>boostcamp-sts-v1-train-9137</td>\n",
       "      <td>nsmc-sampled</td>\n",
       "      <td>와! 이제 진짜 욕나온다..</td>\n",
       "      <td>와! 이제 진짜 욕나온다..</td>\n",
       "      <td>5.0</td>\n",
       "      <td>1.0</td>\n",
       "    </tr>\n",
       "    <tr>\n",
       "      <th>3126</th>\n",
       "      <td>boostcamp-sts-v1-train-3126</td>\n",
       "      <td>petition-rtt</td>\n",
       "      <td>이언주의원 공부좀 합시다</td>\n",
       "      <td>이언주의원 공부좀 합시다</td>\n",
       "      <td>5.0</td>\n",
       "      <td>1.0</td>\n",
       "    </tr>\n",
       "    <tr>\n",
       "      <th>1502</th>\n",
       "      <td>boostcamp-sts-v1-train-1502</td>\n",
       "      <td>slack-sampled</td>\n",
       "      <td>9번째, &lt;PERSON&gt; 님과 만났습니다.</td>\n",
       "      <td>9번째, &lt;PERSON&gt; 님과 만났습니다.</td>\n",
       "      <td>5.0</td>\n",
       "      <td>1.0</td>\n",
       "    </tr>\n",
       "    <tr>\n",
       "      <th>5798</th>\n",
       "      <td>boostcamp-sts-v1-train-5798</td>\n",
       "      <td>slack-sampled</td>\n",
       "      <td>그래서 사업자번호 및 회사 전화번호를  (대시)를 빼고 입력되어있으면 어떨까..</td>\n",
       "      <td>그래서 사업자번호 및 회사 전화번호를  (대시)를 빼고 입력되어있으면 어떨까..</td>\n",
       "      <td>5.0</td>\n",
       "      <td>1.0</td>\n",
       "    </tr>\n",
       "  </tbody>\n",
       "</table>\n",
       "<p>4120 rows × 6 columns</p>\n",
       "</div>"
      ],
      "text/plain": [
       "                               id            source  \\\n",
       "6134  boostcamp-sts-v1-train-6134     slack-sampled   \n",
       "2670  boostcamp-sts-v1-train-2670     slack-sampled   \n",
       "2665  boostcamp-sts-v1-train-2665  petition-sampled   \n",
       "572    boostcamp-sts-v1-train-572         slack-rtt   \n",
       "6094  boostcamp-sts-v1-train-6094  petition-sampled   \n",
       "...                           ...               ...   \n",
       "1224  boostcamp-sts-v1-train-1224     slack-sampled   \n",
       "9137  boostcamp-sts-v1-train-9137      nsmc-sampled   \n",
       "3126  boostcamp-sts-v1-train-3126      petition-rtt   \n",
       "1502  boostcamp-sts-v1-train-1502     slack-sampled   \n",
       "5798  boostcamp-sts-v1-train-5798     slack-sampled   \n",
       "\n",
       "                                        sentence_1  \\\n",
       "6134                             와 대박 무슨 엽서사진같아요!!   \n",
       "2670       매일 보는 저희 CE 팀의 <PERSON> 님과 이야기를 나눴습니다 !   \n",
       "2665                      교육학 중등 임 용고사 객관식으로 바꿔주세요   \n",
       "572                       (게시물에 약간의 변경이 있을 수 있습니다)   \n",
       "6094                                 노인 고령화와 일자리문제   \n",
       "...                                            ...   \n",
       "1224                             중간만 해도 45점이네요.      \n",
       "9137                               와! 이제 진짜 욕나온다..   \n",
       "3126                                 이언주의원 공부좀 합시다   \n",
       "1502                       9번째, <PERSON> 님과 만났습니다.   \n",
       "5798  그래서 사업자번호 및 회사 전화번호를  (대시)를 빼고 입력되어있으면 어떨까..   \n",
       "\n",
       "                                        sentence_2  label  binary-label  \n",
       "6134                             와 대박 무슨 엽서사진같아요!!    5.0           1.0  \n",
       "2670       매일 보는 저희 CE 팀의 <PERSON> 님과 이야기를 나눴습니다 !    5.0           1.0  \n",
       "2665                      교육학 중등 임 용고사 객관식으로 바꿔주세요    5.0           1.0  \n",
       "572                       (게시물에 약간의 변경이 있을 수 있습니다)    5.0           1.0  \n",
       "6094                                 노인 고령화와 일자리문제    5.0           1.0  \n",
       "...                                            ...    ...           ...  \n",
       "1224                             중간만 해도 45점이네요.       5.0           1.0  \n",
       "9137                               와! 이제 진짜 욕나온다..    5.0           1.0  \n",
       "3126                                 이언주의원 공부좀 합시다    5.0           1.0  \n",
       "1502                       9번째, <PERSON> 님과 만났습니다.    5.0           1.0  \n",
       "5798  그래서 사업자번호 및 회사 전화번호를  (대시)를 빼고 입력되어있으면 어떨까..    5.0           1.0  \n",
       "\n",
       "[4120 rows x 6 columns]"
      ]
     },
     "execution_count": 154,
     "metadata": {},
     "output_type": "execute_result"
    }
   ],
   "source": [
    "import random\n",
    "random.seed(777)\n",
    "\n",
    "out = random.sample(range(temp_len), temp_len - rest_len)\n",
    "\n",
    "\n",
    "temp_df = temp.iloc[out]\n",
    "temp_df['sentence_2'] = temp_df['sentence_1']\n",
    "temp_df['label'] = 5.0\n",
    "temp_df['binary-label'] = 1.0\n",
    "temp_df"
   ]
  },
  {
   "cell_type": "code",
   "execution_count": 155,
   "id": "0e5b4857-d012-4f05-b2ff-7af07fe08680",
   "metadata": {
    "tags": []
   },
   "outputs": [
    {
     "data": {
      "text/html": [
       "<div>\n",
       "<style scoped>\n",
       "    .dataframe tbody tr th:only-of-type {\n",
       "        vertical-align: middle;\n",
       "    }\n",
       "\n",
       "    .dataframe tbody tr th {\n",
       "        vertical-align: top;\n",
       "    }\n",
       "\n",
       "    .dataframe thead th {\n",
       "        text-align: right;\n",
       "    }\n",
       "</style>\n",
       "<table border=\"1\" class=\"dataframe\">\n",
       "  <thead>\n",
       "    <tr style=\"text-align: right;\">\n",
       "      <th></th>\n",
       "      <th>id</th>\n",
       "      <th>source</th>\n",
       "      <th>sentence_1</th>\n",
       "      <th>sentence_2</th>\n",
       "      <th>label</th>\n",
       "      <th>binary-label</th>\n",
       "    </tr>\n",
       "  </thead>\n",
       "  <tbody>\n",
       "    <tr>\n",
       "      <th>0</th>\n",
       "      <td>boostcamp-sts-v1-train-000</td>\n",
       "      <td>nsmc-sampled</td>\n",
       "      <td>스릴도있고 반전도 있고 여느 한국영화 쓰레기들하고는 차원이 다르네요</td>\n",
       "      <td>반전도 있고,사랑도 있고재미도있네요.</td>\n",
       "      <td>2.2</td>\n",
       "      <td>0.0</td>\n",
       "    </tr>\n",
       "    <tr>\n",
       "      <th>1</th>\n",
       "      <td>boostcamp-sts-v1-train-001</td>\n",
       "      <td>slack-rtt</td>\n",
       "      <td>앗 제가 접근권한이 없다고 뜹니다;;</td>\n",
       "      <td>오, 액세스 권한이 없다고 합니다.</td>\n",
       "      <td>4.2</td>\n",
       "      <td>1.0</td>\n",
       "    </tr>\n",
       "    <tr>\n",
       "      <th>2</th>\n",
       "      <td>boostcamp-sts-v1-train-002</td>\n",
       "      <td>petition-sampled</td>\n",
       "      <td>주택청약조건 변경해주세요.</td>\n",
       "      <td>주택청약 무주택기준 변경해주세요.</td>\n",
       "      <td>2.4</td>\n",
       "      <td>0.0</td>\n",
       "    </tr>\n",
       "    <tr>\n",
       "      <th>3</th>\n",
       "      <td>boostcamp-sts-v1-train-003</td>\n",
       "      <td>slack-sampled</td>\n",
       "      <td>입사후 처음 대면으로 만나 반가웠습니다.</td>\n",
       "      <td>화상으로만 보다가 리얼로 만나니 정말 반가웠습니다.</td>\n",
       "      <td>3.0</td>\n",
       "      <td>1.0</td>\n",
       "    </tr>\n",
       "    <tr>\n",
       "      <th>4</th>\n",
       "      <td>boostcamp-sts-v1-train-004</td>\n",
       "      <td>slack-sampled</td>\n",
       "      <td>뿌듯뿌듯 하네요!!</td>\n",
       "      <td>꼬옥 실제로 한번 뵈어요 뿌뿌뿌 ! !</td>\n",
       "      <td>0.0</td>\n",
       "      <td>0.0</td>\n",
       "    </tr>\n",
       "    <tr>\n",
       "      <th>...</th>\n",
       "      <td>...</td>\n",
       "      <td>...</td>\n",
       "      <td>...</td>\n",
       "      <td>...</td>\n",
       "      <td>...</td>\n",
       "      <td>...</td>\n",
       "    </tr>\n",
       "    <tr>\n",
       "      <th>1224</th>\n",
       "      <td>boostcamp-sts-v1-train-1224</td>\n",
       "      <td>slack-sampled</td>\n",
       "      <td>중간만 해도 45점이네요.</td>\n",
       "      <td>중간만 해도 45점이네요.</td>\n",
       "      <td>5.0</td>\n",
       "      <td>1.0</td>\n",
       "    </tr>\n",
       "    <tr>\n",
       "      <th>9137</th>\n",
       "      <td>boostcamp-sts-v1-train-9137</td>\n",
       "      <td>nsmc-sampled</td>\n",
       "      <td>와! 이제 진짜 욕나온다..</td>\n",
       "      <td>와! 이제 진짜 욕나온다..</td>\n",
       "      <td>5.0</td>\n",
       "      <td>1.0</td>\n",
       "    </tr>\n",
       "    <tr>\n",
       "      <th>3126</th>\n",
       "      <td>boostcamp-sts-v1-train-3126</td>\n",
       "      <td>petition-rtt</td>\n",
       "      <td>이언주의원 공부좀 합시다</td>\n",
       "      <td>이언주의원 공부좀 합시다</td>\n",
       "      <td>5.0</td>\n",
       "      <td>1.0</td>\n",
       "    </tr>\n",
       "    <tr>\n",
       "      <th>1502</th>\n",
       "      <td>boostcamp-sts-v1-train-1502</td>\n",
       "      <td>slack-sampled</td>\n",
       "      <td>9번째, &lt;PERSON&gt; 님과 만났습니다.</td>\n",
       "      <td>9번째, &lt;PERSON&gt; 님과 만났습니다.</td>\n",
       "      <td>5.0</td>\n",
       "      <td>1.0</td>\n",
       "    </tr>\n",
       "    <tr>\n",
       "      <th>5798</th>\n",
       "      <td>boostcamp-sts-v1-train-5798</td>\n",
       "      <td>slack-sampled</td>\n",
       "      <td>그래서 사업자번호 및 회사 전화번호를  (대시)를 빼고 입력되어있으면 어떨까..</td>\n",
       "      <td>그래서 사업자번호 및 회사 전화번호를  (대시)를 빼고 입력되어있으면 어떨까..</td>\n",
       "      <td>5.0</td>\n",
       "      <td>1.0</td>\n",
       "    </tr>\n",
       "  </tbody>\n",
       "</table>\n",
       "<p>22768 rows × 6 columns</p>\n",
       "</div>"
      ],
      "text/plain": [
       "                               id            source  \\\n",
       "0      boostcamp-sts-v1-train-000      nsmc-sampled   \n",
       "1      boostcamp-sts-v1-train-001         slack-rtt   \n",
       "2      boostcamp-sts-v1-train-002  petition-sampled   \n",
       "3      boostcamp-sts-v1-train-003     slack-sampled   \n",
       "4      boostcamp-sts-v1-train-004     slack-sampled   \n",
       "...                           ...               ...   \n",
       "1224  boostcamp-sts-v1-train-1224     slack-sampled   \n",
       "9137  boostcamp-sts-v1-train-9137      nsmc-sampled   \n",
       "3126  boostcamp-sts-v1-train-3126      petition-rtt   \n",
       "1502  boostcamp-sts-v1-train-1502     slack-sampled   \n",
       "5798  boostcamp-sts-v1-train-5798     slack-sampled   \n",
       "\n",
       "                                        sentence_1  \\\n",
       "0           스릴도있고 반전도 있고 여느 한국영화 쓰레기들하고는 차원이 다르네요    \n",
       "1                             앗 제가 접근권한이 없다고 뜹니다;;   \n",
       "2                                   주택청약조건 변경해주세요.   \n",
       "3                           입사후 처음 대면으로 만나 반가웠습니다.   \n",
       "4                                       뿌듯뿌듯 하네요!!   \n",
       "...                                            ...   \n",
       "1224                             중간만 해도 45점이네요.      \n",
       "9137                               와! 이제 진짜 욕나온다..   \n",
       "3126                                 이언주의원 공부좀 합시다   \n",
       "1502                       9번째, <PERSON> 님과 만났습니다.   \n",
       "5798  그래서 사업자번호 및 회사 전화번호를  (대시)를 빼고 입력되어있으면 어떨까..   \n",
       "\n",
       "                                        sentence_2  label  binary-label  \n",
       "0                             반전도 있고,사랑도 있고재미도있네요.    2.2           0.0  \n",
       "1                              오, 액세스 권한이 없다고 합니다.    4.2           1.0  \n",
       "2                               주택청약 무주택기준 변경해주세요.    2.4           0.0  \n",
       "3                     화상으로만 보다가 리얼로 만나니 정말 반가웠습니다.    3.0           1.0  \n",
       "4                            꼬옥 실제로 한번 뵈어요 뿌뿌뿌 ! !    0.0           0.0  \n",
       "...                                            ...    ...           ...  \n",
       "1224                             중간만 해도 45점이네요.       5.0           1.0  \n",
       "9137                               와! 이제 진짜 욕나온다..    5.0           1.0  \n",
       "3126                                 이언주의원 공부좀 합시다    5.0           1.0  \n",
       "1502                       9번째, <PERSON> 님과 만났습니다.    5.0           1.0  \n",
       "5798  그래서 사업자번호 및 회사 전화번호를  (대시)를 빼고 입력되어있으면 어떨까..    5.0           1.0  \n",
       "\n",
       "[22768 rows x 6 columns]"
      ]
     },
     "execution_count": 155,
     "metadata": {},
     "output_type": "execute_result"
    }
   ],
   "source": [
    "ntrain_df = pd.concat([train_df, temp_df])\n",
    "ntrain_df"
   ]
  },
  {
   "cell_type": "code",
   "execution_count": 157,
   "id": "9aedd061-a676-4a4f-bfc6-c4e470773e68",
   "metadata": {
    "tags": []
   },
   "outputs": [],
   "source": [
    "# if not os.path.isdir(\"./new_data_2\"):\n",
    "#     os.makedirs(\"./new_data_2\")\n",
    "# ntrain_df.to_csv(\"./new_data_2/train.csv\")\n",
    "# dev_df.to_csv(\"./new_data_2/dev.csv\")\n",
    "# test_df.to_csv(\"./new_data_2/test.csv\")"
   ]
  },
  {
   "cell_type": "markdown",
   "id": "9b556773-c88a-4721-8230-146125446b8a",
   "metadata": {},
   "source": [
    "### 2.3. round-trip translation with backtranslate\n",
    "구글 번역 API를 활용하는 패키지 roundtrip을 사용해서 번역기를 거친 텍스트를 생성하려고 한다. \n",
    "\n",
    "단, 데이터가 많은 0.0점과 두 문장이 같은 5.0 점은 제외한다. \n",
    "\n",
    "또한 번역기를 거친 rtt 텍스트도 무시한다."
   ]
  },
  {
   "cell_type": "code",
   "execution_count": 158,
   "id": "8f8dede2-66cc-432f-9fbd-222ce29a21b2",
   "metadata": {
    "tags": []
   },
   "outputs": [
    {
     "name": "stdout",
     "output_type": "stream",
     "text": [
      "huggingface/tokenizers: The current process just got forked, after parallelism has already been used. Disabling parallelism to avoid deadlocks...\n",
      "To disable this warning, you can either:\n",
      "\t- Avoid using `tokenizers` before the fork if possible\n",
      "\t- Explicitly set the environment variable TOKENIZERS_PARALLELISM=(true | false)\n",
      "Collecting roundtrip\n",
      "  Downloading roundtrip-0.1.1.tar.gz (1.7 kB)\n",
      "  Preparing metadata (setup.py) ... \u001b[?25ldone\n",
      "\u001b[?25hCollecting mtranslate\n",
      "  Downloading mtranslate-1.8.tar.gz (2.4 kB)\n",
      "  Preparing metadata (setup.py) ... \u001b[?25ldone\n",
      "\u001b[?25hCollecting google.cloud.translate\n",
      "  Downloading google_cloud_translate-3.11.1-py2.py3-none-any.whl (128 kB)\n",
      "\u001b[2K     \u001b[90m━━━━━━━━━━━━━━━━━━━━━━━━━━━━━━━━━━━━━━\u001b[0m \u001b[32m128.4/128.4 kB\u001b[0m \u001b[31m23.8 MB/s\u001b[0m eta \u001b[36m0:00:00\u001b[0m\n",
      "\u001b[?25hCollecting proto-plus<2.0.0dev,>=1.22.0\n",
      "  Downloading proto_plus-1.22.2-py3-none-any.whl (47 kB)\n",
      "\u001b[2K     \u001b[90m━━━━━━━━━━━━━━━━━━━━━━━━━━━━━━━━━━━━━━━━\u001b[0m \u001b[32m47.9/47.9 kB\u001b[0m \u001b[31m9.5 MB/s\u001b[0m eta \u001b[36m0:00:00\u001b[0m\n",
      "\u001b[?25hRequirement already satisfied: protobuf!=3.20.0,!=3.20.1,!=4.21.0,!=4.21.1,!=4.21.2,!=4.21.3,!=4.21.4,!=4.21.5,<5.0.0dev,>=3.19.5 in /opt/conda/lib/python3.8/site-packages (from google.cloud.translate->roundtrip) (4.22.1)\n",
      "Collecting google-cloud-core<3.0.0dev,>=1.3.0\n",
      "  Downloading google_cloud_core-2.3.2-py2.py3-none-any.whl (29 kB)\n",
      "Collecting google-api-core[grpc]!=2.0.*,!=2.1.*,!=2.10.*,!=2.2.*,!=2.3.*,!=2.4.*,!=2.5.*,!=2.6.*,!=2.7.*,!=2.8.*,!=2.9.*,<3.0.0dev,>=1.34.0\n",
      "  Downloading google_api_core-2.11.0-py3-none-any.whl (120 kB)\n",
      "\u001b[2K     \u001b[90m━━━━━━━━━━━━━━━━━━━━━━━━━━━━━━━━━━━━━━\u001b[0m \u001b[32m120.3/120.3 kB\u001b[0m \u001b[31m26.0 MB/s\u001b[0m eta \u001b[36m0:00:00\u001b[0m\n",
      "\u001b[?25hRequirement already satisfied: requests<3.0.0dev,>=2.18.0 in /opt/conda/lib/python3.8/site-packages (from google-api-core[grpc]!=2.0.*,!=2.1.*,!=2.10.*,!=2.2.*,!=2.3.*,!=2.4.*,!=2.5.*,!=2.6.*,!=2.7.*,!=2.8.*,!=2.9.*,<3.0.0dev,>=1.34.0->google.cloud.translate->roundtrip) (2.28.2)\n",
      "Collecting googleapis-common-protos<2.0dev,>=1.56.2\n",
      "  Downloading googleapis_common_protos-1.59.0-py2.py3-none-any.whl (223 kB)\n",
      "\u001b[2K     \u001b[90m━━━━━━━━━━━━━━━━━━━━━━━━━━━━━━━━━━━━━━\u001b[0m \u001b[32m223.6/223.6 kB\u001b[0m \u001b[31m36.5 MB/s\u001b[0m eta \u001b[36m0:00:00\u001b[0m\n",
      "\u001b[?25hCollecting google-auth<3.0dev,>=2.14.1\n",
      "  Downloading google_auth-2.17.2-py2.py3-none-any.whl (178 kB)\n",
      "\u001b[2K     \u001b[90m━━━━━━━━━━━━━━━━━━━━━━━━━━━━━━━━━━━━━━\u001b[0m \u001b[32m178.2/178.2 kB\u001b[0m \u001b[31m32.6 MB/s\u001b[0m eta \u001b[36m0:00:00\u001b[0m\n",
      "\u001b[?25hCollecting grpcio-status<2.0dev,>=1.33.2\n",
      "  Downloading grpcio_status-1.53.0-py3-none-any.whl (5.1 kB)\n",
      "Collecting grpcio<2.0dev,>=1.33.2\n",
      "  Downloading grpcio-1.53.0-cp38-cp38-manylinux_2_17_x86_64.manylinux2014_x86_64.whl (5.0 MB)\n",
      "\u001b[2K     \u001b[90m━━━━━━━━━━━━━━━━━━━━━━━━━━━━━━━━━━━━━━━━\u001b[0m \u001b[32m5.0/5.0 MB\u001b[0m \u001b[31m76.6 MB/s\u001b[0m eta \u001b[36m0:00:00\u001b[0m:00:01\u001b[0m\n",
      "\u001b[?25hCollecting rsa<5,>=3.1.4\n",
      "  Downloading rsa-4.9-py3-none-any.whl (34 kB)\n",
      "Collecting cachetools<6.0,>=2.0.0\n",
      "  Downloading cachetools-5.3.0-py3-none-any.whl (9.3 kB)\n",
      "Requirement already satisfied: six>=1.9.0 in /opt/conda/lib/python3.8/site-packages (from google-auth<3.0dev,>=2.14.1->google-api-core[grpc]!=2.0.*,!=2.1.*,!=2.10.*,!=2.2.*,!=2.3.*,!=2.4.*,!=2.5.*,!=2.6.*,!=2.7.*,!=2.8.*,!=2.9.*,<3.0.0dev,>=1.34.0->google.cloud.translate->roundtrip) (1.15.0)\n",
      "Collecting pyasn1-modules>=0.2.1\n",
      "  Downloading pyasn1_modules-0.2.8-py2.py3-none-any.whl (155 kB)\n",
      "\u001b[2K     \u001b[90m━━━━━━━━━━━━━━━━━━━━━━━━━━━━━━━━━━━━━━\u001b[0m \u001b[32m155.3/155.3 kB\u001b[0m \u001b[31m29.4 MB/s\u001b[0m eta \u001b[36m0:00:00\u001b[0m\n",
      "\u001b[?25hRequirement already satisfied: charset-normalizer<4,>=2 in /opt/conda/lib/python3.8/site-packages (from requests<3.0.0dev,>=2.18.0->google-api-core[grpc]!=2.0.*,!=2.1.*,!=2.10.*,!=2.2.*,!=2.3.*,!=2.4.*,!=2.5.*,!=2.6.*,!=2.7.*,!=2.8.*,!=2.9.*,<3.0.0dev,>=1.34.0->google.cloud.translate->roundtrip) (3.1.0)\n",
      "Requirement already satisfied: urllib3<1.27,>=1.21.1 in /opt/conda/lib/python3.8/site-packages (from requests<3.0.0dev,>=2.18.0->google-api-core[grpc]!=2.0.*,!=2.1.*,!=2.10.*,!=2.2.*,!=2.3.*,!=2.4.*,!=2.5.*,!=2.6.*,!=2.7.*,!=2.8.*,!=2.9.*,<3.0.0dev,>=1.34.0->google.cloud.translate->roundtrip) (1.26.15)\n",
      "Requirement already satisfied: idna<4,>=2.5 in /opt/conda/lib/python3.8/site-packages (from requests<3.0.0dev,>=2.18.0->google-api-core[grpc]!=2.0.*,!=2.1.*,!=2.10.*,!=2.2.*,!=2.3.*,!=2.4.*,!=2.5.*,!=2.6.*,!=2.7.*,!=2.8.*,!=2.9.*,<3.0.0dev,>=1.34.0->google.cloud.translate->roundtrip) (2.10)\n",
      "Requirement already satisfied: certifi>=2017.4.17 in /opt/conda/lib/python3.8/site-packages (from requests<3.0.0dev,>=2.18.0->google-api-core[grpc]!=2.0.*,!=2.1.*,!=2.10.*,!=2.2.*,!=2.3.*,!=2.4.*,!=2.5.*,!=2.6.*,!=2.7.*,!=2.8.*,!=2.9.*,<3.0.0dev,>=1.34.0->google.cloud.translate->roundtrip) (2020.12.5)\n",
      "Collecting pyasn1<0.5.0,>=0.4.6\n",
      "  Downloading pyasn1-0.4.8-py2.py3-none-any.whl (77 kB)\n",
      "\u001b[2K     \u001b[90m━━━━━━━━━━━━━━━━━━━━━━━━━━━━━━━━━━━━━━━━\u001b[0m \u001b[32m77.1/77.1 kB\u001b[0m \u001b[31m16.2 MB/s\u001b[0m eta \u001b[36m0:00:00\u001b[0m\n",
      "\u001b[?25hBuilding wheels for collected packages: roundtrip, mtranslate\n",
      "  Building wheel for roundtrip (setup.py) ... \u001b[?25ldone\n",
      "\u001b[?25h  Created wheel for roundtrip: filename=roundtrip-0.1.1-py3-none-any.whl size=2998 sha256=19bfc7972f1a2fb8743c38f9608f9ad26ef4c06e689b23ef9abf082bd4b0756f\n",
      "  Stored in directory: /opt/ml/.cache/pip/wheels/a1/6e/90/ec918dd60c53fd8ac16eec94fef35d48f76501d74978e7c56c\n",
      "  Building wheel for mtranslate (setup.py) ... \u001b[?25ldone\n",
      "\u001b[?25h  Created wheel for mtranslate: filename=mtranslate-1.8-py3-none-any.whl size=3698 sha256=89d5a857b29752778a674a831ccdaf2322dc704b6d93e6507104b541e524a247\n",
      "  Stored in directory: /opt/ml/.cache/pip/wheels/99/49/c3/b1e6cb0d8b908238238a086ad2d0f30d4a7c692957e6cea74b\n",
      "Successfully built roundtrip mtranslate\n",
      "Installing collected packages: pyasn1, mtranslate, rsa, pyasn1-modules, proto-plus, grpcio, googleapis-common-protos, cachetools, grpcio-status, google-auth, google-api-core, google-cloud-core, google.cloud.translate, roundtrip\n",
      "Successfully installed cachetools-5.3.0 google-api-core-2.11.0 google-auth-2.17.2 google-cloud-core-2.3.2 google.cloud.translate-3.11.1 googleapis-common-protos-1.59.0 grpcio-1.53.0 grpcio-status-1.53.0 mtranslate-1.8 proto-plus-1.22.2 pyasn1-0.4.8 pyasn1-modules-0.2.8 roundtrip-0.1.1 rsa-4.9\n",
      "\u001b[33mWARNING: Running pip as the 'root' user can result in broken permissions and conflicting behaviour with the system package manager. It is recommended to use a virtual environment instead: https://pip.pypa.io/warnings/venv\u001b[0m\u001b[33m\n",
      "\u001b[0m"
     ]
    }
   ],
   "source": [
    "!pip install roundtrip"
   ]
  },
  {
   "cell_type": "code",
   "execution_count": 200,
   "id": "b4b3cfbb-55d3-4a26-a201-1409dcde1c5a",
   "metadata": {
    "tags": []
   },
   "outputs": [
    {
     "data": {
      "text/html": [
       "<div>\n",
       "<style scoped>\n",
       "    .dataframe tbody tr th:only-of-type {\n",
       "        vertical-align: middle;\n",
       "    }\n",
       "\n",
       "    .dataframe tbody tr th {\n",
       "        vertical-align: top;\n",
       "    }\n",
       "\n",
       "    .dataframe thead th {\n",
       "        text-align: right;\n",
       "    }\n",
       "</style>\n",
       "<table border=\"1\" class=\"dataframe\">\n",
       "  <thead>\n",
       "    <tr style=\"text-align: right;\">\n",
       "      <th></th>\n",
       "      <th>id</th>\n",
       "      <th>source</th>\n",
       "      <th>sentence_1</th>\n",
       "      <th>sentence_2</th>\n",
       "      <th>label</th>\n",
       "      <th>binary-label</th>\n",
       "    </tr>\n",
       "  </thead>\n",
       "  <tbody>\n",
       "    <tr>\n",
       "      <th>0</th>\n",
       "      <td>boostcamp-sts-v1-train-000</td>\n",
       "      <td>nsmc-sampled</td>\n",
       "      <td>스릴도있고 반전도 있고 여느 한국영화 쓰레기들하고는 차원이 다르네요</td>\n",
       "      <td>반전도 있고,사랑도 있고재미도있네요.</td>\n",
       "      <td>2.2</td>\n",
       "      <td>0.0</td>\n",
       "    </tr>\n",
       "    <tr>\n",
       "      <th>2</th>\n",
       "      <td>boostcamp-sts-v1-train-002</td>\n",
       "      <td>petition-sampled</td>\n",
       "      <td>주택청약조건 변경해주세요.</td>\n",
       "      <td>주택청약 무주택기준 변경해주세요.</td>\n",
       "      <td>2.4</td>\n",
       "      <td>0.0</td>\n",
       "    </tr>\n",
       "    <tr>\n",
       "      <th>3</th>\n",
       "      <td>boostcamp-sts-v1-train-003</td>\n",
       "      <td>slack-sampled</td>\n",
       "      <td>입사후 처음 대면으로 만나 반가웠습니다.</td>\n",
       "      <td>화상으로만 보다가 리얼로 만나니 정말 반가웠습니다.</td>\n",
       "      <td>3.0</td>\n",
       "      <td>1.0</td>\n",
       "    </tr>\n",
       "    <tr>\n",
       "      <th>7</th>\n",
       "      <td>boostcamp-sts-v1-train-007</td>\n",
       "      <td>nsmc-sampled</td>\n",
       "      <td>이렇게 귀여운 쥐들은 처음이네요.ㅎㅎㅎ</td>\n",
       "      <td>이렇게 지겨운 공포영화는 처음..</td>\n",
       "      <td>0.6</td>\n",
       "      <td>0.0</td>\n",
       "    </tr>\n",
       "    <tr>\n",
       "      <th>8</th>\n",
       "      <td>boostcamp-sts-v1-train-008</td>\n",
       "      <td>petition-sampled</td>\n",
       "      <td>미세먼지 해결이 가장 시급한 문제입니다!</td>\n",
       "      <td>가장 시급한 것이 신생아실 관리입니다!!!</td>\n",
       "      <td>0.4</td>\n",
       "      <td>0.0</td>\n",
       "    </tr>\n",
       "    <tr>\n",
       "      <th>...</th>\n",
       "      <td>...</td>\n",
       "      <td>...</td>\n",
       "      <td>...</td>\n",
       "      <td>...</td>\n",
       "      <td>...</td>\n",
       "      <td>...</td>\n",
       "    </tr>\n",
       "    <tr>\n",
       "      <th>9319</th>\n",
       "      <td>boostcamp-sts-v1-train-9319</td>\n",
       "      <td>petition-sampled</td>\n",
       "      <td>본인이 납부한 국민연금 금액을 기준으로 대출을 받을 수 있는 제도를 마련해 주세요</td>\n",
       "      <td>교원능력개발평가에서 교원이 보호받을 수 있는 장치를 마련해야합니다</td>\n",
       "      <td>0.2</td>\n",
       "      <td>0.0</td>\n",
       "    </tr>\n",
       "    <tr>\n",
       "      <th>9320</th>\n",
       "      <td>boostcamp-sts-v1-train-9320</td>\n",
       "      <td>petition-sampled</td>\n",
       "      <td>여성가족부 폐지를 청원 합니다.</td>\n",
       "      <td>여성가족부의 폐지를 원합니드</td>\n",
       "      <td>4.2</td>\n",
       "      <td>1.0</td>\n",
       "    </tr>\n",
       "    <tr>\n",
       "      <th>9321</th>\n",
       "      <td>boostcamp-sts-v1-train-9321</td>\n",
       "      <td>petition-sampled</td>\n",
       "      <td>공무원 봉급좀 줄이지좀 마세요</td>\n",
       "      <td>국회의원들 월급좀 줄여주세요</td>\n",
       "      <td>0.6</td>\n",
       "      <td>0.0</td>\n",
       "    </tr>\n",
       "    <tr>\n",
       "      <th>9322</th>\n",
       "      <td>boostcamp-sts-v1-train-9322</td>\n",
       "      <td>slack-sampled</td>\n",
       "      <td>오늘 못먹은 밥은 꼭 담에 먹기로 하고요!!</td>\n",
       "      <td>오늘 못한 점심은 다음에 다시 츄라이 하기로 해요!!</td>\n",
       "      <td>3.2</td>\n",
       "      <td>1.0</td>\n",
       "    </tr>\n",
       "    <tr>\n",
       "      <th>9323</th>\n",
       "      <td>boostcamp-sts-v1-train-9323</td>\n",
       "      <td>petition-sampled</td>\n",
       "      <td>법정공휴일의 유급휴무화를 막아야 합니다.</td>\n",
       "      <td>법정공휴일 휴무관련 (근로자)</td>\n",
       "      <td>1.4</td>\n",
       "      <td>0.0</td>\n",
       "    </tr>\n",
       "  </tbody>\n",
       "</table>\n",
       "<p>9102 rows × 6 columns</p>\n",
       "</div>"
      ],
      "text/plain": [
       "                               id            source  \\\n",
       "0      boostcamp-sts-v1-train-000      nsmc-sampled   \n",
       "2      boostcamp-sts-v1-train-002  petition-sampled   \n",
       "3      boostcamp-sts-v1-train-003     slack-sampled   \n",
       "7      boostcamp-sts-v1-train-007      nsmc-sampled   \n",
       "8      boostcamp-sts-v1-train-008  petition-sampled   \n",
       "...                           ...               ...   \n",
       "9319  boostcamp-sts-v1-train-9319  petition-sampled   \n",
       "9320  boostcamp-sts-v1-train-9320  petition-sampled   \n",
       "9321  boostcamp-sts-v1-train-9321  petition-sampled   \n",
       "9322  boostcamp-sts-v1-train-9322     slack-sampled   \n",
       "9323  boostcamp-sts-v1-train-9323  petition-sampled   \n",
       "\n",
       "                                         sentence_1  \\\n",
       "0            스릴도있고 반전도 있고 여느 한국영화 쓰레기들하고는 차원이 다르네요    \n",
       "2                                    주택청약조건 변경해주세요.   \n",
       "3                            입사후 처음 대면으로 만나 반가웠습니다.   \n",
       "7                             이렇게 귀여운 쥐들은 처음이네요.ㅎㅎㅎ   \n",
       "8                            미세먼지 해결이 가장 시급한 문제입니다!   \n",
       "...                                             ...   \n",
       "9319  본인이 납부한 국민연금 금액을 기준으로 대출을 받을 수 있는 제도를 마련해 주세요   \n",
       "9320                              여성가족부 폐지를 청원 합니다.   \n",
       "9321                               공무원 봉급좀 줄이지좀 마세요   \n",
       "9322                       오늘 못먹은 밥은 꼭 담에 먹기로 하고요!!   \n",
       "9323                         법정공휴일의 유급휴무화를 막아야 합니다.   \n",
       "\n",
       "                                sentence_2  label  binary-label  \n",
       "0                     반전도 있고,사랑도 있고재미도있네요.    2.2           0.0  \n",
       "2                       주택청약 무주택기준 변경해주세요.    2.4           0.0  \n",
       "3             화상으로만 보다가 리얼로 만나니 정말 반가웠습니다.    3.0           1.0  \n",
       "7                       이렇게 지겨운 공포영화는 처음..    0.6           0.0  \n",
       "8                  가장 시급한 것이 신생아실 관리입니다!!!    0.4           0.0  \n",
       "...                                    ...    ...           ...  \n",
       "9319  교원능력개발평가에서 교원이 보호받을 수 있는 장치를 마련해야합니다    0.2           0.0  \n",
       "9320                       여성가족부의 폐지를 원합니드    4.2           1.0  \n",
       "9321                       국회의원들 월급좀 줄여주세요    0.6           0.0  \n",
       "9322         오늘 못한 점심은 다음에 다시 츄라이 하기로 해요!!    3.2           1.0  \n",
       "9323                      법정공휴일 휴무관련 (근로자)    1.4           0.0  \n",
       "\n",
       "[9102 rows x 6 columns]"
      ]
     },
     "execution_count": 200,
     "metadata": {},
     "output_type": "execute_result"
    }
   ],
   "source": [
    "temp = ntrain_df[(ntrain_df['label'] < 5.0) & (ntrain_df['label'] > 0.0) &  ~(ntrain_df['source'].str.contains(\"rtt\"))].copy()\n",
    "temp\n",
    "# temp = ntrain_df[(ntrain_df['label'] >= 4.0) | (ntrain_df['label'] < 0.5)].copy()\n",
    "# temp"
   ]
  },
  {
   "cell_type": "code",
   "execution_count": 201,
   "id": "cfe0e8bc-2577-4390-a361-28a2351409fd",
   "metadata": {
    "tags": []
   },
   "outputs": [],
   "source": [
    "import roundtrip\n",
    "\n",
    "from functools import partial\n",
    "btt_func = partial(roundtrip.backtranslate, to_language=\"en\", from_language=\"ko\")\n",
    "\n",
    "temp['sentence_1'] = temp['sentence_1'].map(btt_func)"
   ]
  },
  {
   "cell_type": "code",
   "execution_count": 195,
   "id": "e3f27b66-d973-4c1d-9b1a-1c0d26a672a2",
   "metadata": {
    "tags": []
   },
   "outputs": [
    {
     "data": {
      "text/html": [
       "<div>\n",
       "<style scoped>\n",
       "    .dataframe tbody tr th:only-of-type {\n",
       "        vertical-align: middle;\n",
       "    }\n",
       "\n",
       "    .dataframe tbody tr th {\n",
       "        vertical-align: top;\n",
       "    }\n",
       "\n",
       "    .dataframe thead th {\n",
       "        text-align: right;\n",
       "    }\n",
       "</style>\n",
       "<table border=\"1\" class=\"dataframe\">\n",
       "  <thead>\n",
       "    <tr style=\"text-align: right;\">\n",
       "      <th></th>\n",
       "      <th>id</th>\n",
       "      <th>source</th>\n",
       "      <th>sentence_1</th>\n",
       "      <th>sentence_2</th>\n",
       "      <th>label</th>\n",
       "      <th>binary-label</th>\n",
       "    </tr>\n",
       "  </thead>\n",
       "  <tbody>\n",
       "    <tr>\n",
       "      <th>4773</th>\n",
       "      <td>boostcamp-sts-v1-train-4773</td>\n",
       "      <td>petition-sampled</td>\n",
       "      <td>100번째 커리큘럼 없애기</td>\n",
       "      <td>100대 교육과정 없애주세요</td>\n",
       "      <td>2.2</td>\n",
       "      <td>0.0</td>\n",
       "    </tr>\n",
       "    <tr>\n",
       "      <th>8719</th>\n",
       "      <td>boostcamp-sts-v1-train-8719</td>\n",
       "      <td>petition-sampled</td>\n",
       "      <td>인천 부천 중고차 허위매물</td>\n",
       "      <td>인천부천지역 중고차 허위매물</td>\n",
       "      <td>2.2</td>\n",
       "      <td>0.0</td>\n",
       "    </tr>\n",
       "    <tr>\n",
       "      <th>7642</th>\n",
       "      <td>boostcamp-sts-v1-train-7642</td>\n",
       "      <td>slack-rtt</td>\n",
       "      <td>이것을 켜고 점심을 먹으십시오!</td>\n",
       "      <td>이것을 켜고 점심을 먹으십시오!</td>\n",
       "      <td>3.2</td>\n",
       "      <td>1.0</td>\n",
       "    </tr>\n",
       "    <tr>\n",
       "      <th>304</th>\n",
       "      <td>boostcamp-sts-v1-train-304</td>\n",
       "      <td>petition-sampled</td>\n",
       "      <td>가상 화폐 폐지 반대 / 가상 정부 폐지 찬성</td>\n",
       "      <td>가상화폐 폐지 반대/가상정부 폐지 찬성</td>\n",
       "      <td>1.2</td>\n",
       "      <td>0.0</td>\n",
       "    </tr>\n",
       "    <tr>\n",
       "      <th>1596</th>\n",
       "      <td>boostcamp-sts-v1-train-1596</td>\n",
       "      <td>petition-sampled</td>\n",
       "      <td>용산전자상가 거품폭주</td>\n",
       "      <td>용산 전자상가 거품가격 폭주</td>\n",
       "      <td>1.8</td>\n",
       "      <td>0.0</td>\n",
       "    </tr>\n",
       "    <tr>\n",
       "      <th>2812</th>\n",
       "      <td>boostcamp-sts-v1-train-2812</td>\n",
       "      <td>slack-rtt</td>\n",
       "      <td>커뮤니케이션 스터디 지원</td>\n",
       "      <td>커뮤니케이션 스터디 지원</td>\n",
       "      <td>2.6</td>\n",
       "      <td>1.0</td>\n",
       "    </tr>\n",
       "    <tr>\n",
       "      <th>4644</th>\n",
       "      <td>boostcamp-sts-v1-train-4644</td>\n",
       "      <td>petition-sampled</td>\n",
       "      <td>문재인 정부와 지상파에 바란다</td>\n",
       "      <td>문재인 정부와 지상파방송사에 바란다</td>\n",
       "      <td>0.6</td>\n",
       "      <td>0.0</td>\n",
       "    </tr>\n",
       "    <tr>\n",
       "      <th>5284</th>\n",
       "      <td>boostcamp-sts-v1-train-5284</td>\n",
       "      <td>slack-sampled</td>\n",
       "      <td>제주도에서 좋은 시간 보내시고 건강하게 돌아오세요</td>\n",
       "      <td>제주도에서 좋은 시간 보내다 건강히 돌아오셔요</td>\n",
       "      <td>0.6</td>\n",
       "      <td>0.0</td>\n",
       "    </tr>\n",
       "    <tr>\n",
       "      <th>7720</th>\n",
       "      <td>boostcamp-sts-v1-train-7720</td>\n",
       "      <td>nsmc-rtt</td>\n",
       "      <td>장르 불문. 시간에 관계없이. 공간에 상관없이. 당신이 좋아하는 것을하십시오!</td>\n",
       "      <td>장르 불문. 시간 불문. 공간 불문. 네 맘대로 해라!</td>\n",
       "      <td>2.8</td>\n",
       "      <td>1.0</td>\n",
       "    </tr>\n",
       "    <tr>\n",
       "      <th>784</th>\n",
       "      <td>boostcamp-sts-v1-train-784</td>\n",
       "      <td>slack-sampled</td>\n",
       "      <td>주차도 좋고 직원들 매너도 좋아요!</td>\n",
       "      <td>주차도 좋고 직원들 매너도 좋고요!</td>\n",
       "      <td>0.4</td>\n",
       "      <td>0.0</td>\n",
       "    </tr>\n",
       "    <tr>\n",
       "      <th>6677</th>\n",
       "      <td>boostcamp-sts-v1-train-6677</td>\n",
       "      <td>slack-rtt</td>\n",
       "      <td>리모컨을 껐다 켜세요!</td>\n",
       "      <td>리모콘을 껐다가 켜십시오!</td>\n",
       "      <td>3.8</td>\n",
       "      <td>1.0</td>\n",
       "    </tr>\n",
       "    <tr>\n",
       "      <th>7129</th>\n",
       "      <td>boostcamp-sts-v1-train-7129</td>\n",
       "      <td>slack-sampled</td>\n",
       "      <td>근데 제가 요리를 잘해서 그런지 양념이 환상이었어요 ㅎㅎㅎ</td>\n",
       "      <td>하지만 요리를 잘해서인지 양념이 아주 환상적이었습니다 ㅎㅎㅎ</td>\n",
       "      <td>0.4</td>\n",
       "      <td>0.0</td>\n",
       "    </tr>\n",
       "    <tr>\n",
       "      <th>5973</th>\n",
       "      <td>boostcamp-sts-v1-train-5973</td>\n",
       "      <td>nsmc-sampled</td>\n",
       "      <td>반전은 전혀 기대하지 않았다.</td>\n",
       "      <td>반전도 전혀 예상하지 못함 ㅋㅋㅋ</td>\n",
       "      <td>0.6</td>\n",
       "      <td>0.0</td>\n",
       "    </tr>\n",
       "    <tr>\n",
       "      <th>9183</th>\n",
       "      <td>boostcamp-sts-v1-train-9183</td>\n",
       "      <td>slack-rtt</td>\n",
       "      <td>그 수수한 모습에서 많은 영감을 얻었어요!!</td>\n",
       "      <td>절도있는 그 모습에서 저도 많은 영감을 얻었어요!!</td>\n",
       "      <td>2.2</td>\n",
       "      <td>0.0</td>\n",
       "    </tr>\n",
       "    <tr>\n",
       "      <th>641</th>\n",
       "      <td>boostcamp-sts-v1-train-641</td>\n",
       "      <td>slack-rtt</td>\n",
       "      <td>역시나 운동이라는 공통의 주제를 오랫동안 공유했다.</td>\n",
       "      <td>역시나 공통 주제인 운동얘기를 한참 나눴습니다.</td>\n",
       "      <td>3.8</td>\n",
       "      <td>1.0</td>\n",
       "    </tr>\n",
       "    <tr>\n",
       "      <th>1573</th>\n",
       "      <td>boostcamp-sts-v1-train-1573</td>\n",
       "      <td>slack-sampled</td>\n",
       "      <td>앞으로도 잘 부탁드리고 축하드려요!!!</td>\n",
       "      <td>앞으로도 잘 부탁드리고 정말 넘넘 축하드려요!!!</td>\n",
       "      <td>2.6</td>\n",
       "      <td>1.0</td>\n",
       "    </tr>\n",
       "    <tr>\n",
       "      <th>7342</th>\n",
       "      <td>boostcamp-sts-v1-train-7342</td>\n",
       "      <td>nsmc-sampled</td>\n",
       "      <td>픽사는 나를 실망시킨 적이 없다</td>\n",
       "      <td>픽사는 날 실망시킨적이 없다</td>\n",
       "      <td>1.8</td>\n",
       "      <td>0.0</td>\n",
       "    </tr>\n",
       "    <tr>\n",
       "      <th>6180</th>\n",
       "      <td>boostcamp-sts-v1-train-6180</td>\n",
       "      <td>slack-rtt</td>\n",
       "      <td>곧 던전에서 도움이 될 것입니다.</td>\n",
       "      <td>곧 던전에서 도움이 될 것입니다.</td>\n",
       "      <td>1.4</td>\n",
       "      <td>0.0</td>\n",
       "    </tr>\n",
       "    <tr>\n",
       "      <th>2637</th>\n",
       "      <td>boostcamp-sts-v1-train-2637</td>\n",
       "      <td>petition-sampled</td>\n",
       "      <td>국민의 인내심은 한계점을 넘었다.</td>\n",
       "      <td>국민의 인내는 임계점을 넘었습니다.</td>\n",
       "      <td>1.8</td>\n",
       "      <td>0.0</td>\n",
       "    </tr>\n",
       "    <tr>\n",
       "      <th>2941</th>\n",
       "      <td>boostcamp-sts-v1-train-2941</td>\n",
       "      <td>petition-rtt</td>\n",
       "      <td>부패와 부패의 천국, 정부 전체가 좋지 않습니다. [품옴]</td>\n",
       "      <td>부정부폐비리의천국 전정부 인전못합니다.[펌옴]</td>\n",
       "      <td>1.4</td>\n",
       "      <td>0.0</td>\n",
       "    </tr>\n",
       "  </tbody>\n",
       "</table>\n",
       "</div>"
      ],
      "text/plain": [
       "                               id            source  \\\n",
       "4773  boostcamp-sts-v1-train-4773  petition-sampled   \n",
       "8719  boostcamp-sts-v1-train-8719  petition-sampled   \n",
       "7642  boostcamp-sts-v1-train-7642         slack-rtt   \n",
       "304    boostcamp-sts-v1-train-304  petition-sampled   \n",
       "1596  boostcamp-sts-v1-train-1596  petition-sampled   \n",
       "2812  boostcamp-sts-v1-train-2812         slack-rtt   \n",
       "4644  boostcamp-sts-v1-train-4644  petition-sampled   \n",
       "5284  boostcamp-sts-v1-train-5284     slack-sampled   \n",
       "7720  boostcamp-sts-v1-train-7720          nsmc-rtt   \n",
       "784    boostcamp-sts-v1-train-784     slack-sampled   \n",
       "6677  boostcamp-sts-v1-train-6677         slack-rtt   \n",
       "7129  boostcamp-sts-v1-train-7129     slack-sampled   \n",
       "5973  boostcamp-sts-v1-train-5973      nsmc-sampled   \n",
       "9183  boostcamp-sts-v1-train-9183         slack-rtt   \n",
       "641    boostcamp-sts-v1-train-641         slack-rtt   \n",
       "1573  boostcamp-sts-v1-train-1573     slack-sampled   \n",
       "7342  boostcamp-sts-v1-train-7342      nsmc-sampled   \n",
       "6180  boostcamp-sts-v1-train-6180         slack-rtt   \n",
       "2637  boostcamp-sts-v1-train-2637  petition-sampled   \n",
       "2941  boostcamp-sts-v1-train-2941      petition-rtt   \n",
       "\n",
       "                                       sentence_1  \\\n",
       "4773                               100번째 커리큘럼 없애기   \n",
       "8719                               인천 부천 중고차 허위매물   \n",
       "7642                            이것을 켜고 점심을 먹으십시오!   \n",
       "304                     가상 화폐 폐지 반대 / 가상 정부 폐지 찬성   \n",
       "1596                                  용산전자상가 거품폭주   \n",
       "2812                                커뮤니케이션 스터디 지원   \n",
       "4644                             문재인 정부와 지상파에 바란다   \n",
       "5284                  제주도에서 좋은 시간 보내시고 건강하게 돌아오세요   \n",
       "7720  장르 불문. 시간에 관계없이. 공간에 상관없이. 당신이 좋아하는 것을하십시오!   \n",
       "784                           주차도 좋고 직원들 매너도 좋아요!   \n",
       "6677                                 리모컨을 껐다 켜세요!   \n",
       "7129             근데 제가 요리를 잘해서 그런지 양념이 환상이었어요 ㅎㅎㅎ   \n",
       "5973                             반전은 전혀 기대하지 않았다.   \n",
       "9183                     그 수수한 모습에서 많은 영감을 얻었어요!!   \n",
       "641                  역시나 운동이라는 공통의 주제를 오랫동안 공유했다.   \n",
       "1573                        앞으로도 잘 부탁드리고 축하드려요!!!   \n",
       "7342                            픽사는 나를 실망시킨 적이 없다   \n",
       "6180                           곧 던전에서 도움이 될 것입니다.   \n",
       "2637                           국민의 인내심은 한계점을 넘었다.   \n",
       "2941             부패와 부패의 천국, 정부 전체가 좋지 않습니다. [품옴]   \n",
       "\n",
       "                             sentence_2  label  binary-label  \n",
       "4773                    100대 교육과정 없애주세요    2.2           0.0  \n",
       "8719                    인천부천지역 중고차 허위매물    2.2           0.0  \n",
       "7642                  이것을 켜고 점심을 먹으십시오!    3.2           1.0  \n",
       "304               가상화폐 폐지 반대/가상정부 폐지 찬성    1.2           0.0  \n",
       "1596                    용산 전자상가 거품가격 폭주    1.8           0.0  \n",
       "2812                      커뮤니케이션 스터디 지원    2.6           1.0  \n",
       "4644                문재인 정부와 지상파방송사에 바란다    0.6           0.0  \n",
       "5284         제주도에서 좋은 시간 보내다 건강히 돌아오셔요     0.6           0.0  \n",
       "7720     장르 불문. 시간 불문. 공간 불문. 네 맘대로 해라!    2.8           1.0  \n",
       "784                 주차도 좋고 직원들 매너도 좋고요!    0.4           0.0  \n",
       "6677                     리모콘을 껐다가 켜십시오!    3.8           1.0  \n",
       "7129  하지만 요리를 잘해서인지 양념이 아주 환상적이었습니다 ㅎㅎㅎ    0.4           0.0  \n",
       "5973                 반전도 전혀 예상하지 못함 ㅋㅋㅋ    0.6           0.0  \n",
       "9183       절도있는 그 모습에서 저도 많은 영감을 얻었어요!!    2.2           0.0  \n",
       "641          역시나 공통 주제인 운동얘기를 한참 나눴습니다.    3.8           1.0  \n",
       "1573        앞으로도 잘 부탁드리고 정말 넘넘 축하드려요!!!    2.6           1.0  \n",
       "7342                    픽사는 날 실망시킨적이 없다    1.8           0.0  \n",
       "6180                 곧 던전에서 도움이 될 것입니다.    1.4           0.0  \n",
       "2637                국민의 인내는 임계점을 넘었습니다.    1.8           0.0  \n",
       "2941          부정부폐비리의천국 전정부 인전못합니다.[펌옴]    1.4           0.0  "
      ]
     },
     "execution_count": 195,
     "metadata": {},
     "output_type": "execute_result"
    }
   ],
   "source": []
  },
  {
   "cell_type": "markdown",
   "id": "3d776e55-bbe1-490e-8aa0-e25c02887135",
   "metadata": {},
   "source": [
    "## 3. 최종 작업 용 데이터셋 생성\n",
    "\n",
    "위의 세 가지 작업을 바탕으로 DA 처리한 데이터셋을 만들어보겠다.\n",
    "\n",
    "작업을 거친 후 총 4개의 데이터셋을 만들게 된다.\n",
    "- `./data/` : raw data\n",
    "- `./data_1/` : RTT\n",
    "- `./data_2/` : RTT + SWAP\n",
    "- `./data_3/` : RTT + SWAP + Self-translation"
   ]
  },
  {
   "cell_type": "code",
   "execution_count": 213,
   "id": "492a8e7d-b9c2-4b8a-809e-a4ab18984a95",
   "metadata": {
    "tags": []
   },
   "outputs": [],
   "source": [
    "import os\n",
    "import pandas as pd\n",
    "import numpy as np\n",
    "import matplotlib.pyplot as plt\n",
    "import seaborn as sns\n",
    "import tqdm"
   ]
  },
  {
   "cell_type": "code",
   "execution_count": 214,
   "id": "da820fcb-0b9e-45fb-8e56-749fbb9818e2",
   "metadata": {
    "tags": []
   },
   "outputs": [],
   "source": [
    "train_path = './data/train.csv'\n",
    "dev_path = './data/dev.csv'\n",
    "test_path = './data/test.csv'"
   ]
  },
  {
   "cell_type": "code",
   "execution_count": 215,
   "id": "2c10ebb5-bb35-495a-983a-543dd634df98",
   "metadata": {
    "tags": []
   },
   "outputs": [],
   "source": [
    "train_df = pd.read_csv(train_path)\n",
    "dev_df = pd.read_csv(dev_path)\n",
    "test_df = pd.read_csv(test_path)"
   ]
  },
  {
   "cell_type": "code",
   "execution_count": 217,
   "id": "9e5e09f0-eff3-4484-8e34-0dbfb13328da",
   "metadata": {
    "tags": []
   },
   "outputs": [],
   "source": [
    "# 특수문자부터 제거\n",
    "def remove_special_char(df):\n",
    "    def _remove_special_char(sentence):\n",
    "        p = re.compile(\"\"\"[^A-Za-zㄱ-ㅎ가-힣0-9,<.>?/;:'\"!@%^&*()\\[\\]\\{\\}+=-_]\"\"\")\n",
    "        return p.sub(\" \", sentence)\n",
    "    df.sentence_1 = df.sentence_1.map(_remove_special_char)\n",
    "    df.sentence_2 = df.sentence_2.map(_remove_special_char)\n",
    "    return df"
   ]
  },
  {
   "cell_type": "code",
   "execution_count": 218,
   "id": "3f6a2fee-8082-4c9b-8c92-f63d94fedeca",
   "metadata": {
    "tags": []
   },
   "outputs": [],
   "source": [
    "train_df = remove_special_char(train_df)\n",
    "dev_df = remove_special_char(dev_df)\n",
    "test_df = remove_special_char(test_df)"
   ]
  },
  {
   "cell_type": "code",
   "execution_count": 219,
   "id": "655c86f8-625f-49cf-99f5-9412b0a3c508",
   "metadata": {
    "tags": []
   },
   "outputs": [
    {
     "data": {
      "text/html": [
       "<div>\n",
       "<style scoped>\n",
       "    .dataframe tbody tr th:only-of-type {\n",
       "        vertical-align: middle;\n",
       "    }\n",
       "\n",
       "    .dataframe tbody tr th {\n",
       "        vertical-align: top;\n",
       "    }\n",
       "\n",
       "    .dataframe thead th {\n",
       "        text-align: right;\n",
       "    }\n",
       "</style>\n",
       "<table border=\"1\" class=\"dataframe\">\n",
       "  <thead>\n",
       "    <tr style=\"text-align: right;\">\n",
       "      <th></th>\n",
       "      <th>id</th>\n",
       "      <th>source</th>\n",
       "      <th>sentence_1</th>\n",
       "      <th>sentence_2</th>\n",
       "      <th>label</th>\n",
       "      <th>binary-label</th>\n",
       "    </tr>\n",
       "  </thead>\n",
       "  <tbody>\n",
       "    <tr>\n",
       "      <th>0</th>\n",
       "      <td>boostcamp-sts-v1-train-000</td>\n",
       "      <td>nsmc-sampled</td>\n",
       "      <td>스릴도있고 반전도 있고 여느 한국영화 쓰레기들하고는 차원이 다르네요</td>\n",
       "      <td>반전도 있고,사랑도 있고재미도있네요.</td>\n",
       "      <td>2.2</td>\n",
       "      <td>0.0</td>\n",
       "    </tr>\n",
       "    <tr>\n",
       "      <th>2</th>\n",
       "      <td>boostcamp-sts-v1-train-002</td>\n",
       "      <td>petition-sampled</td>\n",
       "      <td>주택청약조건 변경해주세요.</td>\n",
       "      <td>주택청약 무주택기준 변경해주세요.</td>\n",
       "      <td>2.4</td>\n",
       "      <td>0.0</td>\n",
       "    </tr>\n",
       "    <tr>\n",
       "      <th>3</th>\n",
       "      <td>boostcamp-sts-v1-train-003</td>\n",
       "      <td>slack-sampled</td>\n",
       "      <td>입사후 처음 대면으로 만나 반가웠습니다.</td>\n",
       "      <td>화상으로만 보다가 리얼로 만나니 정말 반가웠습니다.</td>\n",
       "      <td>3.0</td>\n",
       "      <td>1.0</td>\n",
       "    </tr>\n",
       "    <tr>\n",
       "      <th>7</th>\n",
       "      <td>boostcamp-sts-v1-train-007</td>\n",
       "      <td>nsmc-sampled</td>\n",
       "      <td>이렇게 귀여운 쥐들은 처음이네요.ㅎㅎㅎ</td>\n",
       "      <td>이렇게 지겨운 공포영화는 처음..</td>\n",
       "      <td>0.6</td>\n",
       "      <td>0.0</td>\n",
       "    </tr>\n",
       "    <tr>\n",
       "      <th>8</th>\n",
       "      <td>boostcamp-sts-v1-train-008</td>\n",
       "      <td>petition-sampled</td>\n",
       "      <td>미세먼지 해결이 가장 시급한 문제입니다!</td>\n",
       "      <td>가장 시급한 것이 신생아실 관리입니다!!!</td>\n",
       "      <td>0.4</td>\n",
       "      <td>0.0</td>\n",
       "    </tr>\n",
       "    <tr>\n",
       "      <th>...</th>\n",
       "      <td>...</td>\n",
       "      <td>...</td>\n",
       "      <td>...</td>\n",
       "      <td>...</td>\n",
       "      <td>...</td>\n",
       "      <td>...</td>\n",
       "    </tr>\n",
       "    <tr>\n",
       "      <th>9319</th>\n",
       "      <td>boostcamp-sts-v1-train-9319</td>\n",
       "      <td>petition-sampled</td>\n",
       "      <td>교원능력개발평가에서 교원이 보호받을 수 있는 장치를 마련해야합니다</td>\n",
       "      <td>본인이 납부한 국민연금 금액을 기준으로 대출을 받을 수 있는 제도를 마련해 주세요</td>\n",
       "      <td>0.2</td>\n",
       "      <td>0.0</td>\n",
       "    </tr>\n",
       "    <tr>\n",
       "      <th>9320</th>\n",
       "      <td>boostcamp-sts-v1-train-9320</td>\n",
       "      <td>petition-sampled</td>\n",
       "      <td>여성가족부의 폐지를 원합니드</td>\n",
       "      <td>여성가족부 폐지를 청원 합니다.</td>\n",
       "      <td>4.2</td>\n",
       "      <td>1.0</td>\n",
       "    </tr>\n",
       "    <tr>\n",
       "      <th>9321</th>\n",
       "      <td>boostcamp-sts-v1-train-9321</td>\n",
       "      <td>petition-sampled</td>\n",
       "      <td>국회의원들 월급좀 줄여주세요</td>\n",
       "      <td>공무원 봉급좀 줄이지좀 마세요</td>\n",
       "      <td>0.6</td>\n",
       "      <td>0.0</td>\n",
       "    </tr>\n",
       "    <tr>\n",
       "      <th>9322</th>\n",
       "      <td>boostcamp-sts-v1-train-9322</td>\n",
       "      <td>slack-sampled</td>\n",
       "      <td>오늘 못한 점심은 다음에 다시 츄라이 하기로 해요!!</td>\n",
       "      <td>오늘 못먹은 밥은 꼭 담에 먹기로 하고요!!</td>\n",
       "      <td>3.2</td>\n",
       "      <td>1.0</td>\n",
       "    </tr>\n",
       "    <tr>\n",
       "      <th>9323</th>\n",
       "      <td>boostcamp-sts-v1-train-9323</td>\n",
       "      <td>petition-sampled</td>\n",
       "      <td>법정공휴일 휴무관련 (근로자)</td>\n",
       "      <td>법정공휴일의 유급휴무화를 막아야 합니다.</td>\n",
       "      <td>1.4</td>\n",
       "      <td>0.0</td>\n",
       "    </tr>\n",
       "  </tbody>\n",
       "</table>\n",
       "<p>4551 rows × 6 columns</p>\n",
       "</div>"
      ],
      "text/plain": [
       "                               id            source  \\\n",
       "0      boostcamp-sts-v1-train-000      nsmc-sampled   \n",
       "2      boostcamp-sts-v1-train-002  petition-sampled   \n",
       "3      boostcamp-sts-v1-train-003     slack-sampled   \n",
       "7      boostcamp-sts-v1-train-007      nsmc-sampled   \n",
       "8      boostcamp-sts-v1-train-008  petition-sampled   \n",
       "...                           ...               ...   \n",
       "9319  boostcamp-sts-v1-train-9319  petition-sampled   \n",
       "9320  boostcamp-sts-v1-train-9320  petition-sampled   \n",
       "9321  boostcamp-sts-v1-train-9321  petition-sampled   \n",
       "9322  boostcamp-sts-v1-train-9322     slack-sampled   \n",
       "9323  boostcamp-sts-v1-train-9323  petition-sampled   \n",
       "\n",
       "                                  sentence_1  \\\n",
       "0     스릴도있고 반전도 있고 여느 한국영화 쓰레기들하고는 차원이 다르네요    \n",
       "2                             주택청약조건 변경해주세요.   \n",
       "3                     입사후 처음 대면으로 만나 반가웠습니다.   \n",
       "7                      이렇게 귀여운 쥐들은 처음이네요.ㅎㅎㅎ   \n",
       "8                     미세먼지 해결이 가장 시급한 문제입니다!   \n",
       "...                                      ...   \n",
       "9319    교원능력개발평가에서 교원이 보호받을 수 있는 장치를 마련해야합니다   \n",
       "9320                         여성가족부의 폐지를 원합니드   \n",
       "9321                         국회의원들 월급좀 줄여주세요   \n",
       "9322           오늘 못한 점심은 다음에 다시 츄라이 하기로 해요!!   \n",
       "9323                        법정공휴일 휴무관련 (근로자)   \n",
       "\n",
       "                                         sentence_2  label  binary-label  \n",
       "0                              반전도 있고,사랑도 있고재미도있네요.    2.2           0.0  \n",
       "2                                주택청약 무주택기준 변경해주세요.    2.4           0.0  \n",
       "3                      화상으로만 보다가 리얼로 만나니 정말 반가웠습니다.    3.0           1.0  \n",
       "7                                이렇게 지겨운 공포영화는 처음..    0.6           0.0  \n",
       "8                           가장 시급한 것이 신생아실 관리입니다!!!    0.4           0.0  \n",
       "...                                             ...    ...           ...  \n",
       "9319  본인이 납부한 국민연금 금액을 기준으로 대출을 받을 수 있는 제도를 마련해 주세요    0.2           0.0  \n",
       "9320                              여성가족부 폐지를 청원 합니다.    4.2           1.0  \n",
       "9321                               공무원 봉급좀 줄이지좀 마세요    0.6           0.0  \n",
       "9322                       오늘 못먹은 밥은 꼭 담에 먹기로 하고요!!    3.2           1.0  \n",
       "9323                         법정공휴일의 유급휴무화를 막아야 합니다.    1.4           0.0  \n",
       "\n",
       "[4551 rows x 6 columns]"
      ]
     },
     "execution_count": 219,
     "metadata": {},
     "output_type": "execute_result"
    }
   ],
   "source": [
    "# RTT : source가 rtt가 아닌 데이터를 기준으로 `label` 점수가 0.0, 5.0이 아닌 데이터에 대해서 sentence_1을 rtt 문장으로 변환.\n",
    "import roundtrip\n",
    "\n",
    "from functools import partial\n",
    "btt_func = partial(roundtrip.backtranslate, to_language=\"en\", from_language=\"ko\")\n",
    "\n",
    "temp1 = train_df[(train_df['label'] < 5.0) & (train_df['label'] > 0.0) &  ~(train_df['source'].str.contains(\"rtt\"))].copy()\n",
    "temp2 = train_df[(train_df['label'] < 5.0) & (train_df['label'] > 0.0) &  ~(train_df['source'].str.contains(\"rtt\"))].copy()\n",
    "temp1"
   ]
  },
  {
   "cell_type": "code",
   "execution_count": 220,
   "id": "45fcacec-1de7-4e32-a071-011b99659e57",
   "metadata": {
    "tags": []
   },
   "outputs": [
    {
     "ename": "KeyboardInterrupt",
     "evalue": "",
     "output_type": "error",
     "traceback": [
      "\u001b[0;31m---------------------------------------------------------------------------\u001b[0m",
      "\u001b[0;31mKeyboardInterrupt\u001b[0m                         Traceback (most recent call last)",
      "Cell \u001b[0;32mIn[220], line 4\u001b[0m\n\u001b[1;32m      2\u001b[0m start \u001b[38;5;241m=\u001b[39m time\u001b[38;5;241m.\u001b[39mtime()\n\u001b[1;32m      3\u001b[0m \u001b[38;5;66;03m# temp1 : sentence_1에 대한 rtt\u001b[39;00m\n\u001b[0;32m----> 4\u001b[0m temp1[\u001b[38;5;124m'\u001b[39m\u001b[38;5;124msentence_1\u001b[39m\u001b[38;5;124m'\u001b[39m] \u001b[38;5;241m=\u001b[39m \u001b[43mtemp1\u001b[49m\u001b[43m[\u001b[49m\u001b[38;5;124;43m'\u001b[39;49m\u001b[38;5;124;43msentence_1\u001b[39;49m\u001b[38;5;124;43m'\u001b[39;49m\u001b[43m]\u001b[49m\u001b[38;5;241;43m.\u001b[39;49m\u001b[43mmap\u001b[49m\u001b[43m(\u001b[49m\u001b[43mbtt_func\u001b[49m\u001b[43m)\u001b[49m\n\u001b[1;32m      5\u001b[0m \u001b[38;5;28mprint\u001b[39m(time\u001b[38;5;241m.\u001b[39mtime() \u001b[38;5;241m-\u001b[39m start)\n\u001b[1;32m      6\u001b[0m start \u001b[38;5;241m=\u001b[39m time\u001b[38;5;241m.\u001b[39mtime()\n",
      "File \u001b[0;32m/opt/conda/lib/python3.8/site-packages/pandas/core/series.py:4539\u001b[0m, in \u001b[0;36mSeries.map\u001b[0;34m(self, arg, na_action)\u001b[0m\n\u001b[1;32m   4460\u001b[0m \u001b[38;5;28;01mdef\u001b[39;00m \u001b[38;5;21mmap\u001b[39m(\n\u001b[1;32m   4461\u001b[0m     \u001b[38;5;28mself\u001b[39m,\n\u001b[1;32m   4462\u001b[0m     arg: Callable \u001b[38;5;241m|\u001b[39m Mapping \u001b[38;5;241m|\u001b[39m Series,\n\u001b[1;32m   4463\u001b[0m     na_action: Literal[\u001b[38;5;124m\"\u001b[39m\u001b[38;5;124mignore\u001b[39m\u001b[38;5;124m\"\u001b[39m] \u001b[38;5;241m|\u001b[39m \u001b[38;5;28;01mNone\u001b[39;00m \u001b[38;5;241m=\u001b[39m \u001b[38;5;28;01mNone\u001b[39;00m,\n\u001b[1;32m   4464\u001b[0m ) \u001b[38;5;241m-\u001b[39m\u001b[38;5;241m>\u001b[39m Series:\n\u001b[1;32m   4465\u001b[0m     \u001b[38;5;124;03m\"\"\"\u001b[39;00m\n\u001b[1;32m   4466\u001b[0m \u001b[38;5;124;03m    Map values of Series according to an input mapping or function.\u001b[39;00m\n\u001b[1;32m   4467\u001b[0m \n\u001b[0;32m   (...)\u001b[0m\n\u001b[1;32m   4537\u001b[0m \u001b[38;5;124;03m    dtype: object\u001b[39;00m\n\u001b[1;32m   4538\u001b[0m \u001b[38;5;124;03m    \"\"\"\u001b[39;00m\n\u001b[0;32m-> 4539\u001b[0m     new_values \u001b[38;5;241m=\u001b[39m \u001b[38;5;28;43mself\u001b[39;49m\u001b[38;5;241;43m.\u001b[39;49m\u001b[43m_map_values\u001b[49m\u001b[43m(\u001b[49m\u001b[43marg\u001b[49m\u001b[43m,\u001b[49m\u001b[43m \u001b[49m\u001b[43mna_action\u001b[49m\u001b[38;5;241;43m=\u001b[39;49m\u001b[43mna_action\u001b[49m\u001b[43m)\u001b[49m\n\u001b[1;32m   4540\u001b[0m     \u001b[38;5;28;01mreturn\u001b[39;00m \u001b[38;5;28mself\u001b[39m\u001b[38;5;241m.\u001b[39m_constructor(new_values, index\u001b[38;5;241m=\u001b[39m\u001b[38;5;28mself\u001b[39m\u001b[38;5;241m.\u001b[39mindex)\u001b[38;5;241m.\u001b[39m__finalize__(\n\u001b[1;32m   4541\u001b[0m         \u001b[38;5;28mself\u001b[39m, method\u001b[38;5;241m=\u001b[39m\u001b[38;5;124m\"\u001b[39m\u001b[38;5;124mmap\u001b[39m\u001b[38;5;124m\"\u001b[39m\n\u001b[1;32m   4542\u001b[0m     )\n",
      "File \u001b[0;32m/opt/conda/lib/python3.8/site-packages/pandas/core/base.py:890\u001b[0m, in \u001b[0;36mIndexOpsMixin._map_values\u001b[0;34m(self, mapper, na_action)\u001b[0m\n\u001b[1;32m    887\u001b[0m         \u001b[38;5;28;01mraise\u001b[39;00m \u001b[38;5;167;01mValueError\u001b[39;00m(msg)\n\u001b[1;32m    889\u001b[0m \u001b[38;5;66;03m# mapper is a function\u001b[39;00m\n\u001b[0;32m--> 890\u001b[0m new_values \u001b[38;5;241m=\u001b[39m \u001b[43mmap_f\u001b[49m\u001b[43m(\u001b[49m\u001b[43mvalues\u001b[49m\u001b[43m,\u001b[49m\u001b[43m \u001b[49m\u001b[43mmapper\u001b[49m\u001b[43m)\u001b[49m\n\u001b[1;32m    892\u001b[0m \u001b[38;5;28;01mreturn\u001b[39;00m new_values\n",
      "File \u001b[0;32m/opt/conda/lib/python3.8/site-packages/pandas/_libs/lib.pyx:2924\u001b[0m, in \u001b[0;36mpandas._libs.lib.map_infer\u001b[0;34m()\u001b[0m\n",
      "File \u001b[0;32m/opt/conda/lib/python3.8/site-packages/roundtrip/core.py:29\u001b[0m, in \u001b[0;36mbacktranslate\u001b[0;34m(phrase, to_language, from_language)\u001b[0m\n\u001b[1;32m     25\u001b[0m \u001b[38;5;28;01mif\u001b[39;00m \u001b[38;5;129;01mnot\u001b[39;00m USE_OFFICIAL:\n\u001b[1;32m     26\u001b[0m     \u001b[38;5;124;03m\"\"\"By default, we use the exposed unofficial API\u001b[39;00m\n\u001b[1;32m     27\u001b[0m \u001b[38;5;124;03m    this is to make it easy to use from the CLI for testing\u001b[39;00m\n\u001b[1;32m     28\u001b[0m \u001b[38;5;124;03m    \"\"\"\u001b[39;00m\n\u001b[0;32m---> 29\u001b[0m     trans \u001b[38;5;241m=\u001b[39m \u001b[43mtranslate\u001b[49m\u001b[43m(\u001b[49m\u001b[43mphrase\u001b[49m\u001b[43m,\u001b[49m\u001b[43m \u001b[49m\u001b[43mto_language\u001b[49m\u001b[38;5;241;43m=\u001b[39;49m\u001b[43mto_language\u001b[49m\u001b[43m,\u001b[49m\u001b[43m \u001b[49m\u001b[43mfrom_language\u001b[49m\u001b[38;5;241;43m=\u001b[39;49m\u001b[43mfrom_language\u001b[49m\u001b[43m)\u001b[49m\n\u001b[1;32m     30\u001b[0m     back \u001b[38;5;241m=\u001b[39m translate(trans, to_language\u001b[38;5;241m=\u001b[39mfrom_language, from_language\u001b[38;5;241m=\u001b[39mto_language)\n\u001b[1;32m     31\u001b[0m     \u001b[38;5;28;01mreturn\u001b[39;00m back\n",
      "File \u001b[0;32m/opt/conda/lib/python3.8/site-packages/mtranslate/core.py:80\u001b[0m, in \u001b[0;36mtranslate\u001b[0;34m(to_translate, to_language, from_language)\u001b[0m\n\u001b[1;32m     78\u001b[0m     link \u001b[38;5;241m=\u001b[39m base_link \u001b[38;5;241m%\u001b[39m (to_language, from_language, to_translate)\n\u001b[1;32m     79\u001b[0m     request \u001b[38;5;241m=\u001b[39m urllib\u001b[38;5;241m.\u001b[39mrequest\u001b[38;5;241m.\u001b[39mRequest(link, headers\u001b[38;5;241m=\u001b[39magent)\n\u001b[0;32m---> 80\u001b[0m     raw_data \u001b[38;5;241m=\u001b[39m \u001b[43murllib\u001b[49m\u001b[38;5;241;43m.\u001b[39;49m\u001b[43mrequest\u001b[49m\u001b[38;5;241;43m.\u001b[39;49m\u001b[43murlopen\u001b[49m\u001b[43m(\u001b[49m\u001b[43mrequest\u001b[49m\u001b[43m)\u001b[49m\u001b[38;5;241m.\u001b[39mread()\n\u001b[1;32m     81\u001b[0m data \u001b[38;5;241m=\u001b[39m raw_data\u001b[38;5;241m.\u001b[39mdecode(\u001b[38;5;124m\"\u001b[39m\u001b[38;5;124mutf-8\u001b[39m\u001b[38;5;124m\"\u001b[39m)\n\u001b[1;32m     82\u001b[0m expr \u001b[38;5;241m=\u001b[39m \u001b[38;5;124mr\u001b[39m\u001b[38;5;124m'\u001b[39m\u001b[38;5;124m(?s)class=\u001b[39m\u001b[38;5;124m\"\u001b[39m\u001b[38;5;124m(?:t0|result-container)\u001b[39m\u001b[38;5;124m\"\u001b[39m\u001b[38;5;124m>(.*?)<\u001b[39m\u001b[38;5;124m'\u001b[39m\n",
      "File \u001b[0;32m/opt/conda/lib/python3.8/urllib/request.py:222\u001b[0m, in \u001b[0;36murlopen\u001b[0;34m(url, data, timeout, cafile, capath, cadefault, context)\u001b[0m\n\u001b[1;32m    220\u001b[0m \u001b[38;5;28;01melse\u001b[39;00m:\n\u001b[1;32m    221\u001b[0m     opener \u001b[38;5;241m=\u001b[39m _opener\n\u001b[0;32m--> 222\u001b[0m \u001b[38;5;28;01mreturn\u001b[39;00m \u001b[43mopener\u001b[49m\u001b[38;5;241;43m.\u001b[39;49m\u001b[43mopen\u001b[49m\u001b[43m(\u001b[49m\u001b[43murl\u001b[49m\u001b[43m,\u001b[49m\u001b[43m \u001b[49m\u001b[43mdata\u001b[49m\u001b[43m,\u001b[49m\u001b[43m \u001b[49m\u001b[43mtimeout\u001b[49m\u001b[43m)\u001b[49m\n",
      "File \u001b[0;32m/opt/conda/lib/python3.8/urllib/request.py:531\u001b[0m, in \u001b[0;36mOpenerDirector.open\u001b[0;34m(self, fullurl, data, timeout)\u001b[0m\n\u001b[1;32m    529\u001b[0m \u001b[38;5;28;01mfor\u001b[39;00m processor \u001b[38;5;129;01min\u001b[39;00m \u001b[38;5;28mself\u001b[39m\u001b[38;5;241m.\u001b[39mprocess_response\u001b[38;5;241m.\u001b[39mget(protocol, []):\n\u001b[1;32m    530\u001b[0m     meth \u001b[38;5;241m=\u001b[39m \u001b[38;5;28mgetattr\u001b[39m(processor, meth_name)\n\u001b[0;32m--> 531\u001b[0m     response \u001b[38;5;241m=\u001b[39m \u001b[43mmeth\u001b[49m\u001b[43m(\u001b[49m\u001b[43mreq\u001b[49m\u001b[43m,\u001b[49m\u001b[43m \u001b[49m\u001b[43mresponse\u001b[49m\u001b[43m)\u001b[49m\n\u001b[1;32m    533\u001b[0m \u001b[38;5;28;01mreturn\u001b[39;00m response\n",
      "File \u001b[0;32m/opt/conda/lib/python3.8/urllib/request.py:640\u001b[0m, in \u001b[0;36mHTTPErrorProcessor.http_response\u001b[0;34m(self, request, response)\u001b[0m\n\u001b[1;32m    637\u001b[0m \u001b[38;5;66;03m# According to RFC 2616, \"2xx\" code indicates that the client's\u001b[39;00m\n\u001b[1;32m    638\u001b[0m \u001b[38;5;66;03m# request was successfully received, understood, and accepted.\u001b[39;00m\n\u001b[1;32m    639\u001b[0m \u001b[38;5;28;01mif\u001b[39;00m \u001b[38;5;129;01mnot\u001b[39;00m (\u001b[38;5;241m200\u001b[39m \u001b[38;5;241m<\u001b[39m\u001b[38;5;241m=\u001b[39m code \u001b[38;5;241m<\u001b[39m \u001b[38;5;241m300\u001b[39m):\n\u001b[0;32m--> 640\u001b[0m     response \u001b[38;5;241m=\u001b[39m \u001b[38;5;28;43mself\u001b[39;49m\u001b[38;5;241;43m.\u001b[39;49m\u001b[43mparent\u001b[49m\u001b[38;5;241;43m.\u001b[39;49m\u001b[43merror\u001b[49m\u001b[43m(\u001b[49m\n\u001b[1;32m    641\u001b[0m \u001b[43m        \u001b[49m\u001b[38;5;124;43m'\u001b[39;49m\u001b[38;5;124;43mhttp\u001b[39;49m\u001b[38;5;124;43m'\u001b[39;49m\u001b[43m,\u001b[49m\u001b[43m \u001b[49m\u001b[43mrequest\u001b[49m\u001b[43m,\u001b[49m\u001b[43m \u001b[49m\u001b[43mresponse\u001b[49m\u001b[43m,\u001b[49m\u001b[43m \u001b[49m\u001b[43mcode\u001b[49m\u001b[43m,\u001b[49m\u001b[43m \u001b[49m\u001b[43mmsg\u001b[49m\u001b[43m,\u001b[49m\u001b[43m \u001b[49m\u001b[43mhdrs\u001b[49m\u001b[43m)\u001b[49m\n\u001b[1;32m    643\u001b[0m \u001b[38;5;28;01mreturn\u001b[39;00m response\n",
      "File \u001b[0;32m/opt/conda/lib/python3.8/urllib/request.py:563\u001b[0m, in \u001b[0;36mOpenerDirector.error\u001b[0;34m(self, proto, *args)\u001b[0m\n\u001b[1;32m    561\u001b[0m     http_err \u001b[38;5;241m=\u001b[39m \u001b[38;5;241m0\u001b[39m\n\u001b[1;32m    562\u001b[0m args \u001b[38;5;241m=\u001b[39m (\u001b[38;5;28mdict\u001b[39m, proto, meth_name) \u001b[38;5;241m+\u001b[39m args\n\u001b[0;32m--> 563\u001b[0m result \u001b[38;5;241m=\u001b[39m \u001b[38;5;28;43mself\u001b[39;49m\u001b[38;5;241;43m.\u001b[39;49m\u001b[43m_call_chain\u001b[49m\u001b[43m(\u001b[49m\u001b[38;5;241;43m*\u001b[39;49m\u001b[43margs\u001b[49m\u001b[43m)\u001b[49m\n\u001b[1;32m    564\u001b[0m \u001b[38;5;28;01mif\u001b[39;00m result:\n\u001b[1;32m    565\u001b[0m     \u001b[38;5;28;01mreturn\u001b[39;00m result\n",
      "File \u001b[0;32m/opt/conda/lib/python3.8/urllib/request.py:502\u001b[0m, in \u001b[0;36mOpenerDirector._call_chain\u001b[0;34m(self, chain, kind, meth_name, *args)\u001b[0m\n\u001b[1;32m    500\u001b[0m \u001b[38;5;28;01mfor\u001b[39;00m handler \u001b[38;5;129;01min\u001b[39;00m handlers:\n\u001b[1;32m    501\u001b[0m     func \u001b[38;5;241m=\u001b[39m \u001b[38;5;28mgetattr\u001b[39m(handler, meth_name)\n\u001b[0;32m--> 502\u001b[0m     result \u001b[38;5;241m=\u001b[39m \u001b[43mfunc\u001b[49m\u001b[43m(\u001b[49m\u001b[38;5;241;43m*\u001b[39;49m\u001b[43margs\u001b[49m\u001b[43m)\u001b[49m\n\u001b[1;32m    503\u001b[0m     \u001b[38;5;28;01mif\u001b[39;00m result \u001b[38;5;129;01mis\u001b[39;00m \u001b[38;5;129;01mnot\u001b[39;00m \u001b[38;5;28;01mNone\u001b[39;00m:\n\u001b[1;32m    504\u001b[0m         \u001b[38;5;28;01mreturn\u001b[39;00m result\n",
      "File \u001b[0;32m/opt/conda/lib/python3.8/urllib/request.py:755\u001b[0m, in \u001b[0;36mHTTPRedirectHandler.http_error_302\u001b[0;34m(self, req, fp, code, msg, headers)\u001b[0m\n\u001b[1;32m    752\u001b[0m fp\u001b[38;5;241m.\u001b[39mread()\n\u001b[1;32m    753\u001b[0m fp\u001b[38;5;241m.\u001b[39mclose()\n\u001b[0;32m--> 755\u001b[0m \u001b[38;5;28;01mreturn\u001b[39;00m \u001b[38;5;28;43mself\u001b[39;49m\u001b[38;5;241;43m.\u001b[39;49m\u001b[43mparent\u001b[49m\u001b[38;5;241;43m.\u001b[39;49m\u001b[43mopen\u001b[49m\u001b[43m(\u001b[49m\u001b[43mnew\u001b[49m\u001b[43m,\u001b[49m\u001b[43m \u001b[49m\u001b[43mtimeout\u001b[49m\u001b[38;5;241;43m=\u001b[39;49m\u001b[43mreq\u001b[49m\u001b[38;5;241;43m.\u001b[39;49m\u001b[43mtimeout\u001b[49m\u001b[43m)\u001b[49m\n",
      "File \u001b[0;32m/opt/conda/lib/python3.8/urllib/request.py:525\u001b[0m, in \u001b[0;36mOpenerDirector.open\u001b[0;34m(self, fullurl, data, timeout)\u001b[0m\n\u001b[1;32m    522\u001b[0m     req \u001b[38;5;241m=\u001b[39m meth(req)\n\u001b[1;32m    524\u001b[0m sys\u001b[38;5;241m.\u001b[39maudit(\u001b[38;5;124m'\u001b[39m\u001b[38;5;124murllib.Request\u001b[39m\u001b[38;5;124m'\u001b[39m, req\u001b[38;5;241m.\u001b[39mfull_url, req\u001b[38;5;241m.\u001b[39mdata, req\u001b[38;5;241m.\u001b[39mheaders, req\u001b[38;5;241m.\u001b[39mget_method())\n\u001b[0;32m--> 525\u001b[0m response \u001b[38;5;241m=\u001b[39m \u001b[38;5;28;43mself\u001b[39;49m\u001b[38;5;241;43m.\u001b[39;49m\u001b[43m_open\u001b[49m\u001b[43m(\u001b[49m\u001b[43mreq\u001b[49m\u001b[43m,\u001b[49m\u001b[43m \u001b[49m\u001b[43mdata\u001b[49m\u001b[43m)\u001b[49m\n\u001b[1;32m    527\u001b[0m \u001b[38;5;66;03m# post-process response\u001b[39;00m\n\u001b[1;32m    528\u001b[0m meth_name \u001b[38;5;241m=\u001b[39m protocol\u001b[38;5;241m+\u001b[39m\u001b[38;5;124m\"\u001b[39m\u001b[38;5;124m_response\u001b[39m\u001b[38;5;124m\"\u001b[39m\n",
      "File \u001b[0;32m/opt/conda/lib/python3.8/urllib/request.py:542\u001b[0m, in \u001b[0;36mOpenerDirector._open\u001b[0;34m(self, req, data)\u001b[0m\n\u001b[1;32m    539\u001b[0m     \u001b[38;5;28;01mreturn\u001b[39;00m result\n\u001b[1;32m    541\u001b[0m protocol \u001b[38;5;241m=\u001b[39m req\u001b[38;5;241m.\u001b[39mtype\n\u001b[0;32m--> 542\u001b[0m result \u001b[38;5;241m=\u001b[39m \u001b[38;5;28;43mself\u001b[39;49m\u001b[38;5;241;43m.\u001b[39;49m\u001b[43m_call_chain\u001b[49m\u001b[43m(\u001b[49m\u001b[38;5;28;43mself\u001b[39;49m\u001b[38;5;241;43m.\u001b[39;49m\u001b[43mhandle_open\u001b[49m\u001b[43m,\u001b[49m\u001b[43m \u001b[49m\u001b[43mprotocol\u001b[49m\u001b[43m,\u001b[49m\u001b[43m \u001b[49m\u001b[43mprotocol\u001b[49m\u001b[43m \u001b[49m\u001b[38;5;241;43m+\u001b[39;49m\n\u001b[1;32m    543\u001b[0m \u001b[43m                          \u001b[49m\u001b[38;5;124;43m'\u001b[39;49m\u001b[38;5;124;43m_open\u001b[39;49m\u001b[38;5;124;43m'\u001b[39;49m\u001b[43m,\u001b[49m\u001b[43m \u001b[49m\u001b[43mreq\u001b[49m\u001b[43m)\u001b[49m\n\u001b[1;32m    544\u001b[0m \u001b[38;5;28;01mif\u001b[39;00m result:\n\u001b[1;32m    545\u001b[0m     \u001b[38;5;28;01mreturn\u001b[39;00m result\n",
      "File \u001b[0;32m/opt/conda/lib/python3.8/urllib/request.py:502\u001b[0m, in \u001b[0;36mOpenerDirector._call_chain\u001b[0;34m(self, chain, kind, meth_name, *args)\u001b[0m\n\u001b[1;32m    500\u001b[0m \u001b[38;5;28;01mfor\u001b[39;00m handler \u001b[38;5;129;01min\u001b[39;00m handlers:\n\u001b[1;32m    501\u001b[0m     func \u001b[38;5;241m=\u001b[39m \u001b[38;5;28mgetattr\u001b[39m(handler, meth_name)\n\u001b[0;32m--> 502\u001b[0m     result \u001b[38;5;241m=\u001b[39m \u001b[43mfunc\u001b[49m\u001b[43m(\u001b[49m\u001b[38;5;241;43m*\u001b[39;49m\u001b[43margs\u001b[49m\u001b[43m)\u001b[49m\n\u001b[1;32m    503\u001b[0m     \u001b[38;5;28;01mif\u001b[39;00m result \u001b[38;5;129;01mis\u001b[39;00m \u001b[38;5;129;01mnot\u001b[39;00m \u001b[38;5;28;01mNone\u001b[39;00m:\n\u001b[1;32m    504\u001b[0m         \u001b[38;5;28;01mreturn\u001b[39;00m result\n",
      "File \u001b[0;32m/opt/conda/lib/python3.8/urllib/request.py:1393\u001b[0m, in \u001b[0;36mHTTPSHandler.https_open\u001b[0;34m(self, req)\u001b[0m\n\u001b[1;32m   1392\u001b[0m \u001b[38;5;28;01mdef\u001b[39;00m \u001b[38;5;21mhttps_open\u001b[39m(\u001b[38;5;28mself\u001b[39m, req):\n\u001b[0;32m-> 1393\u001b[0m     \u001b[38;5;28;01mreturn\u001b[39;00m \u001b[38;5;28;43mself\u001b[39;49m\u001b[38;5;241;43m.\u001b[39;49m\u001b[43mdo_open\u001b[49m\u001b[43m(\u001b[49m\u001b[43mhttp\u001b[49m\u001b[38;5;241;43m.\u001b[39;49m\u001b[43mclient\u001b[49m\u001b[38;5;241;43m.\u001b[39;49m\u001b[43mHTTPSConnection\u001b[49m\u001b[43m,\u001b[49m\u001b[43m \u001b[49m\u001b[43mreq\u001b[49m\u001b[43m,\u001b[49m\n\u001b[1;32m   1394\u001b[0m \u001b[43m        \u001b[49m\u001b[43mcontext\u001b[49m\u001b[38;5;241;43m=\u001b[39;49m\u001b[38;5;28;43mself\u001b[39;49m\u001b[38;5;241;43m.\u001b[39;49m\u001b[43m_context\u001b[49m\u001b[43m,\u001b[49m\u001b[43m \u001b[49m\u001b[43mcheck_hostname\u001b[49m\u001b[38;5;241;43m=\u001b[39;49m\u001b[38;5;28;43mself\u001b[39;49m\u001b[38;5;241;43m.\u001b[39;49m\u001b[43m_check_hostname\u001b[49m\u001b[43m)\u001b[49m\n",
      "File \u001b[0;32m/opt/conda/lib/python3.8/urllib/request.py:1350\u001b[0m, in \u001b[0;36mAbstractHTTPHandler.do_open\u001b[0;34m(self, http_class, req, **http_conn_args)\u001b[0m\n\u001b[1;32m   1348\u001b[0m \u001b[38;5;28;01mtry\u001b[39;00m:\n\u001b[1;32m   1349\u001b[0m     \u001b[38;5;28;01mtry\u001b[39;00m:\n\u001b[0;32m-> 1350\u001b[0m         \u001b[43mh\u001b[49m\u001b[38;5;241;43m.\u001b[39;49m\u001b[43mrequest\u001b[49m\u001b[43m(\u001b[49m\u001b[43mreq\u001b[49m\u001b[38;5;241;43m.\u001b[39;49m\u001b[43mget_method\u001b[49m\u001b[43m(\u001b[49m\u001b[43m)\u001b[49m\u001b[43m,\u001b[49m\u001b[43m \u001b[49m\u001b[43mreq\u001b[49m\u001b[38;5;241;43m.\u001b[39;49m\u001b[43mselector\u001b[49m\u001b[43m,\u001b[49m\u001b[43m \u001b[49m\u001b[43mreq\u001b[49m\u001b[38;5;241;43m.\u001b[39;49m\u001b[43mdata\u001b[49m\u001b[43m,\u001b[49m\u001b[43m \u001b[49m\u001b[43mheaders\u001b[49m\u001b[43m,\u001b[49m\n\u001b[1;32m   1351\u001b[0m \u001b[43m                  \u001b[49m\u001b[43mencode_chunked\u001b[49m\u001b[38;5;241;43m=\u001b[39;49m\u001b[43mreq\u001b[49m\u001b[38;5;241;43m.\u001b[39;49m\u001b[43mhas_header\u001b[49m\u001b[43m(\u001b[49m\u001b[38;5;124;43m'\u001b[39;49m\u001b[38;5;124;43mTransfer-encoding\u001b[39;49m\u001b[38;5;124;43m'\u001b[39;49m\u001b[43m)\u001b[49m\u001b[43m)\u001b[49m\n\u001b[1;32m   1352\u001b[0m     \u001b[38;5;28;01mexcept\u001b[39;00m \u001b[38;5;167;01mOSError\u001b[39;00m \u001b[38;5;28;01mas\u001b[39;00m err: \u001b[38;5;66;03m# timeout error\u001b[39;00m\n\u001b[1;32m   1353\u001b[0m         \u001b[38;5;28;01mraise\u001b[39;00m URLError(err)\n",
      "File \u001b[0;32m/opt/conda/lib/python3.8/http/client.py:1255\u001b[0m, in \u001b[0;36mHTTPConnection.request\u001b[0;34m(self, method, url, body, headers, encode_chunked)\u001b[0m\n\u001b[1;32m   1252\u001b[0m \u001b[38;5;28;01mdef\u001b[39;00m \u001b[38;5;21mrequest\u001b[39m(\u001b[38;5;28mself\u001b[39m, method, url, body\u001b[38;5;241m=\u001b[39m\u001b[38;5;28;01mNone\u001b[39;00m, headers\u001b[38;5;241m=\u001b[39m{}, \u001b[38;5;241m*\u001b[39m,\n\u001b[1;32m   1253\u001b[0m             encode_chunked\u001b[38;5;241m=\u001b[39m\u001b[38;5;28;01mFalse\u001b[39;00m):\n\u001b[1;32m   1254\u001b[0m     \u001b[38;5;124;03m\"\"\"Send a complete request to the server.\"\"\"\u001b[39;00m\n\u001b[0;32m-> 1255\u001b[0m     \u001b[38;5;28;43mself\u001b[39;49m\u001b[38;5;241;43m.\u001b[39;49m\u001b[43m_send_request\u001b[49m\u001b[43m(\u001b[49m\u001b[43mmethod\u001b[49m\u001b[43m,\u001b[49m\u001b[43m \u001b[49m\u001b[43murl\u001b[49m\u001b[43m,\u001b[49m\u001b[43m \u001b[49m\u001b[43mbody\u001b[49m\u001b[43m,\u001b[49m\u001b[43m \u001b[49m\u001b[43mheaders\u001b[49m\u001b[43m,\u001b[49m\u001b[43m \u001b[49m\u001b[43mencode_chunked\u001b[49m\u001b[43m)\u001b[49m\n",
      "File \u001b[0;32m/opt/conda/lib/python3.8/http/client.py:1301\u001b[0m, in \u001b[0;36mHTTPConnection._send_request\u001b[0;34m(self, method, url, body, headers, encode_chunked)\u001b[0m\n\u001b[1;32m   1297\u001b[0m \u001b[38;5;28;01mif\u001b[39;00m \u001b[38;5;28misinstance\u001b[39m(body, \u001b[38;5;28mstr\u001b[39m):\n\u001b[1;32m   1298\u001b[0m     \u001b[38;5;66;03m# RFC 2616 Section 3.7.1 says that text default has a\u001b[39;00m\n\u001b[1;32m   1299\u001b[0m     \u001b[38;5;66;03m# default charset of iso-8859-1.\u001b[39;00m\n\u001b[1;32m   1300\u001b[0m     body \u001b[38;5;241m=\u001b[39m _encode(body, \u001b[38;5;124m'\u001b[39m\u001b[38;5;124mbody\u001b[39m\u001b[38;5;124m'\u001b[39m)\n\u001b[0;32m-> 1301\u001b[0m \u001b[38;5;28;43mself\u001b[39;49m\u001b[38;5;241;43m.\u001b[39;49m\u001b[43mendheaders\u001b[49m\u001b[43m(\u001b[49m\u001b[43mbody\u001b[49m\u001b[43m,\u001b[49m\u001b[43m \u001b[49m\u001b[43mencode_chunked\u001b[49m\u001b[38;5;241;43m=\u001b[39;49m\u001b[43mencode_chunked\u001b[49m\u001b[43m)\u001b[49m\n",
      "File \u001b[0;32m/opt/conda/lib/python3.8/http/client.py:1250\u001b[0m, in \u001b[0;36mHTTPConnection.endheaders\u001b[0;34m(self, message_body, encode_chunked)\u001b[0m\n\u001b[1;32m   1248\u001b[0m \u001b[38;5;28;01melse\u001b[39;00m:\n\u001b[1;32m   1249\u001b[0m     \u001b[38;5;28;01mraise\u001b[39;00m CannotSendHeader()\n\u001b[0;32m-> 1250\u001b[0m \u001b[38;5;28;43mself\u001b[39;49m\u001b[38;5;241;43m.\u001b[39;49m\u001b[43m_send_output\u001b[49m\u001b[43m(\u001b[49m\u001b[43mmessage_body\u001b[49m\u001b[43m,\u001b[49m\u001b[43m \u001b[49m\u001b[43mencode_chunked\u001b[49m\u001b[38;5;241;43m=\u001b[39;49m\u001b[43mencode_chunked\u001b[49m\u001b[43m)\u001b[49m\n",
      "File \u001b[0;32m/opt/conda/lib/python3.8/http/client.py:1010\u001b[0m, in \u001b[0;36mHTTPConnection._send_output\u001b[0;34m(self, message_body, encode_chunked)\u001b[0m\n\u001b[1;32m   1008\u001b[0m msg \u001b[38;5;241m=\u001b[39m \u001b[38;5;124mb\u001b[39m\u001b[38;5;124m\"\u001b[39m\u001b[38;5;130;01m\\r\u001b[39;00m\u001b[38;5;130;01m\\n\u001b[39;00m\u001b[38;5;124m\"\u001b[39m\u001b[38;5;241m.\u001b[39mjoin(\u001b[38;5;28mself\u001b[39m\u001b[38;5;241m.\u001b[39m_buffer)\n\u001b[1;32m   1009\u001b[0m \u001b[38;5;28;01mdel\u001b[39;00m \u001b[38;5;28mself\u001b[39m\u001b[38;5;241m.\u001b[39m_buffer[:]\n\u001b[0;32m-> 1010\u001b[0m \u001b[38;5;28;43mself\u001b[39;49m\u001b[38;5;241;43m.\u001b[39;49m\u001b[43msend\u001b[49m\u001b[43m(\u001b[49m\u001b[43mmsg\u001b[49m\u001b[43m)\u001b[49m\n\u001b[1;32m   1012\u001b[0m \u001b[38;5;28;01mif\u001b[39;00m message_body \u001b[38;5;129;01mis\u001b[39;00m \u001b[38;5;129;01mnot\u001b[39;00m \u001b[38;5;28;01mNone\u001b[39;00m:\n\u001b[1;32m   1013\u001b[0m \n\u001b[1;32m   1014\u001b[0m     \u001b[38;5;66;03m# create a consistent interface to message_body\u001b[39;00m\n\u001b[1;32m   1015\u001b[0m     \u001b[38;5;28;01mif\u001b[39;00m \u001b[38;5;28mhasattr\u001b[39m(message_body, \u001b[38;5;124m'\u001b[39m\u001b[38;5;124mread\u001b[39m\u001b[38;5;124m'\u001b[39m):\n\u001b[1;32m   1016\u001b[0m         \u001b[38;5;66;03m# Let file-like take precedence over byte-like.  This\u001b[39;00m\n\u001b[1;32m   1017\u001b[0m         \u001b[38;5;66;03m# is needed to allow the current position of mmap'ed\u001b[39;00m\n\u001b[1;32m   1018\u001b[0m         \u001b[38;5;66;03m# files to be taken into account.\u001b[39;00m\n",
      "File \u001b[0;32m/opt/conda/lib/python3.8/http/client.py:950\u001b[0m, in \u001b[0;36mHTTPConnection.send\u001b[0;34m(self, data)\u001b[0m\n\u001b[1;32m    948\u001b[0m \u001b[38;5;28;01mif\u001b[39;00m \u001b[38;5;28mself\u001b[39m\u001b[38;5;241m.\u001b[39msock \u001b[38;5;129;01mis\u001b[39;00m \u001b[38;5;28;01mNone\u001b[39;00m:\n\u001b[1;32m    949\u001b[0m     \u001b[38;5;28;01mif\u001b[39;00m \u001b[38;5;28mself\u001b[39m\u001b[38;5;241m.\u001b[39mauto_open:\n\u001b[0;32m--> 950\u001b[0m         \u001b[38;5;28;43mself\u001b[39;49m\u001b[38;5;241;43m.\u001b[39;49m\u001b[43mconnect\u001b[49m\u001b[43m(\u001b[49m\u001b[43m)\u001b[49m\n\u001b[1;32m    951\u001b[0m     \u001b[38;5;28;01melse\u001b[39;00m:\n\u001b[1;32m    952\u001b[0m         \u001b[38;5;28;01mraise\u001b[39;00m NotConnected()\n",
      "File \u001b[0;32m/opt/conda/lib/python3.8/http/client.py:1417\u001b[0m, in \u001b[0;36mHTTPSConnection.connect\u001b[0;34m(self)\u001b[0m\n\u001b[1;32m   1414\u001b[0m \u001b[38;5;28;01mdef\u001b[39;00m \u001b[38;5;21mconnect\u001b[39m(\u001b[38;5;28mself\u001b[39m):\n\u001b[1;32m   1415\u001b[0m     \u001b[38;5;124m\"\u001b[39m\u001b[38;5;124mConnect to a host on a given (SSL) port.\u001b[39m\u001b[38;5;124m\"\u001b[39m\n\u001b[0;32m-> 1417\u001b[0m     \u001b[38;5;28;43msuper\u001b[39;49m\u001b[43m(\u001b[49m\u001b[43m)\u001b[49m\u001b[38;5;241;43m.\u001b[39;49m\u001b[43mconnect\u001b[49m\u001b[43m(\u001b[49m\u001b[43m)\u001b[49m\n\u001b[1;32m   1419\u001b[0m     \u001b[38;5;28;01mif\u001b[39;00m \u001b[38;5;28mself\u001b[39m\u001b[38;5;241m.\u001b[39m_tunnel_host:\n\u001b[1;32m   1420\u001b[0m         server_hostname \u001b[38;5;241m=\u001b[39m \u001b[38;5;28mself\u001b[39m\u001b[38;5;241m.\u001b[39m_tunnel_host\n",
      "File \u001b[0;32m/opt/conda/lib/python3.8/http/client.py:921\u001b[0m, in \u001b[0;36mHTTPConnection.connect\u001b[0;34m(self)\u001b[0m\n\u001b[1;32m    919\u001b[0m \u001b[38;5;28;01mdef\u001b[39;00m \u001b[38;5;21mconnect\u001b[39m(\u001b[38;5;28mself\u001b[39m):\n\u001b[1;32m    920\u001b[0m     \u001b[38;5;124;03m\"\"\"Connect to the host and port specified in __init__.\"\"\"\u001b[39;00m\n\u001b[0;32m--> 921\u001b[0m     \u001b[38;5;28mself\u001b[39m\u001b[38;5;241m.\u001b[39msock \u001b[38;5;241m=\u001b[39m \u001b[38;5;28;43mself\u001b[39;49m\u001b[38;5;241;43m.\u001b[39;49m\u001b[43m_create_connection\u001b[49m\u001b[43m(\u001b[49m\n\u001b[1;32m    922\u001b[0m \u001b[43m        \u001b[49m\u001b[43m(\u001b[49m\u001b[38;5;28;43mself\u001b[39;49m\u001b[38;5;241;43m.\u001b[39;49m\u001b[43mhost\u001b[49m\u001b[43m,\u001b[49m\u001b[38;5;28;43mself\u001b[39;49m\u001b[38;5;241;43m.\u001b[39;49m\u001b[43mport\u001b[49m\u001b[43m)\u001b[49m\u001b[43m,\u001b[49m\u001b[43m \u001b[49m\u001b[38;5;28;43mself\u001b[39;49m\u001b[38;5;241;43m.\u001b[39;49m\u001b[43mtimeout\u001b[49m\u001b[43m,\u001b[49m\u001b[43m \u001b[49m\u001b[38;5;28;43mself\u001b[39;49m\u001b[38;5;241;43m.\u001b[39;49m\u001b[43msource_address\u001b[49m\u001b[43m)\u001b[49m\n\u001b[1;32m    923\u001b[0m     \u001b[38;5;28mself\u001b[39m\u001b[38;5;241m.\u001b[39msock\u001b[38;5;241m.\u001b[39msetsockopt(socket\u001b[38;5;241m.\u001b[39mIPPROTO_TCP, socket\u001b[38;5;241m.\u001b[39mTCP_NODELAY, \u001b[38;5;241m1\u001b[39m)\n\u001b[1;32m    925\u001b[0m     \u001b[38;5;28;01mif\u001b[39;00m \u001b[38;5;28mself\u001b[39m\u001b[38;5;241m.\u001b[39m_tunnel_host:\n",
      "File \u001b[0;32m/opt/conda/lib/python3.8/socket.py:796\u001b[0m, in \u001b[0;36mcreate_connection\u001b[0;34m(address, timeout, source_address)\u001b[0m\n\u001b[1;32m    794\u001b[0m \u001b[38;5;28;01mif\u001b[39;00m source_address:\n\u001b[1;32m    795\u001b[0m     sock\u001b[38;5;241m.\u001b[39mbind(source_address)\n\u001b[0;32m--> 796\u001b[0m \u001b[43msock\u001b[49m\u001b[38;5;241;43m.\u001b[39;49m\u001b[43mconnect\u001b[49m\u001b[43m(\u001b[49m\u001b[43msa\u001b[49m\u001b[43m)\u001b[49m\n\u001b[1;32m    797\u001b[0m \u001b[38;5;66;03m# Break explicitly a reference cycle\u001b[39;00m\n\u001b[1;32m    798\u001b[0m err \u001b[38;5;241m=\u001b[39m \u001b[38;5;28;01mNone\u001b[39;00m\n",
      "\u001b[0;31mKeyboardInterrupt\u001b[0m: "
     ]
    }
   ],
   "source": [
    "import time\n",
    "start = time.time()\n",
    "# temp1 : sentence_1에 대한 rtt\n",
    "temp1['sentence_1'] = temp1['sentence_1'].map(btt_func)\n",
    "print(time.time() - start)\n",
    "start = time.time()\n",
    "# temp2 : sentence_2에 대한 rtt\n",
    "temp2['sentence_2'] = temp2['sentence_2'].map(btt_func)\n",
    "print(time.time() - start)"
   ]
  },
  {
   "cell_type": "code",
   "execution_count": null,
   "id": "070255a6-1a49-4587-aaff-7b094917dc77",
   "metadata": {
    "tags": []
   },
   "outputs": [],
   "source": [
    "train1_df = pd.concat([train_df, temp1, temp2])\n",
    "train1_df = train1_df.drop_duplicates(subset=['sentence_1','sentence_2'])"
   ]
  },
  {
   "cell_type": "code",
   "execution_count": null,
   "id": "a5e626eb-d114-4131-afe8-027e42428b46",
   "metadata": {
    "tags": []
   },
   "outputs": [],
   "source": [
    "if not os.path.isdir(\"./data_1\"):\n",
    "    os.makedirs(\"./data_1\")\n",
    "train1_df.to_csv(\"./data_1/train.csv\")\n",
    "dev_df.to_csv(\"./data_1/dev.csv\")\n",
    "test_df.to_csv(\"./data_1/test.csv\")"
   ]
  },
  {
   "cell_type": "code",
   "execution_count": null,
   "id": "5bbce46d-3f15-4e28-8b9a-fd738571d2f2",
   "metadata": {
    "tags": []
   },
   "outputs": [],
   "source": [
    "## swap\n",
    "temp = train1_df.copy()\n",
    "cols = list(temp.columns)\n",
    "temp.rename(columns={'sentence_1':'sentence_2', 'sentence_2':'sentence_1'}, inplace=True)\n",
    "temp = temp[cols]\n",
    "temp"
   ]
  },
  {
   "cell_type": "code",
   "execution_count": null,
   "id": "294505d4-cf43-4a39-8b04-896d9bb5aae8",
   "metadata": {
    "tags": []
   },
   "outputs": [],
   "source": [
    "train2_df = pd.concat([train1_df, temp])"
   ]
  },
  {
   "cell_type": "code",
   "execution_count": null,
   "id": "bf26cfed-1c11-43ad-a74c-6ed6549c8173",
   "metadata": {
    "tags": []
   },
   "outputs": [],
   "source": [
    "if not os.path.isdir(\"./data_2\"):\n",
    "    os.makedirs(\"./data_2\")\n",
    "train2_df.to_csv(\"./data_2/train.csv\")\n",
    "dev_df.to_csv(\"./data_2/dev.csv\")\n",
    "test_df.to_csv(\"./data_2/test.csv\")"
   ]
  },
  {
   "cell_type": "code",
   "execution_count": null,
   "id": "5ed6b3ae-8900-4995-89f3-1008c88b38ea",
   "metadata": {
    "tags": []
   },
   "outputs": [],
   "source": [
    "## sentence 1 복제\n",
    "temp3 = train2_df[train2_df['binary-label'] == 0.0].copy()\n",
    "temp_len = len(temp3)\n",
    "rest_len = len(train2_df) - len(temp)\n",
    "rest_len"
   ]
  },
  {
   "cell_type": "code",
   "execution_count": null,
   "id": "56304a70-9374-4ebb-9056-3e5c88ce4ff5",
   "metadata": {
    "tags": []
   },
   "outputs": [],
   "source": [
    "import random\n",
    "random.seed(777)\n",
    "\n",
    "out = random.sample(range(temp_len), temp_len - rest_len)\n",
    "\n",
    "temp_df = temp3.iloc[out]\n",
    "temp_df['sentence_2'] = temp_df['sentence_1']\n",
    "temp_df['label'] = 5.0\n",
    "temp_df['binary-label'] = 1.0\n",
    "temp_df"
   ]
  },
  {
   "cell_type": "code",
   "execution_count": null,
   "id": "d50406e1-810f-4c4e-a49b-61497a2003fa",
   "metadata": {
    "tags": []
   },
   "outputs": [],
   "source": [
    "train3_df = pd.concat([train2_df, temp_df])\n",
    "train3_df"
   ]
  },
  {
   "cell_type": "code",
   "execution_count": null,
   "id": "0aa20d8d-afdd-4af7-9b76-14ab8c809672",
   "metadata": {
    "tags": []
   },
   "outputs": [],
   "source": [
    "if not os.path.isdir(\"./data_3\"):\n",
    "    os.makedirs(\"./data_3\")\n",
    "train3_df.to_csv(\"./data_3/train.csv\")\n",
    "dev_df.to_csv(\"./data_3/dev.csv\")\n",
    "test_df.to_csv(\"./data_3/test.csv\")"
   ]
  },
  {
   "cell_type": "code",
   "execution_count": null,
   "id": "1235a6d9-1191-4d02-819e-302fe3a40501",
   "metadata": {},
   "outputs": [],
   "source": []
  }
 ],
 "metadata": {
  "kernelspec": {
   "display_name": "Python 3 (ipykernel)",
   "language": "python",
   "name": "python3"
  },
  "language_info": {
   "codemirror_mode": {
    "name": "ipython",
    "version": 3
   },
   "file_extension": ".py",
   "mimetype": "text/x-python",
   "name": "python",
   "nbconvert_exporter": "python",
   "pygments_lexer": "ipython3",
   "version": "3.8.5"
  }
 },
 "nbformat": 4,
 "nbformat_minor": 5
}
